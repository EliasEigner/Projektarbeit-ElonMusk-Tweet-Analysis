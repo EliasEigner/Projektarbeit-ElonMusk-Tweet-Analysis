{
 "cells": [
  {
   "cell_type": "markdown",
   "id": "59085cf8-0967-453b-b882-dc6d67beb7e7",
   "metadata": {},
   "source": [
    "**DSCB230 Sommersemester 2025**\n",
    "# Hausarbeit - Datenauswertung am Beispiel eines Business-Anwendungsfalls\n",
    "Data Science Portfolioprojekt"
   ]
  },
  {
   "cell_type": "markdown",
   "id": "cdcc7e8a-5a90-4dee-9c4e-cd8191efc2ef",
   "metadata": {},
   "source": [
    "## Lernziele\n",
    "Das Ziel dieser Hausarbeit ist der begleitete Aufbau eines Portfolios an Projekten. Eine überzeugende Arbeitsprobe ist für potenzielle Arbeitgeber ein wichtigeres Kriterium als der Lebenslauf.\n",
    "\n",
    "In diesem Modul lernen Sie, wie Sie Arbeitgeber mit Ihren Arbeitsproben im Bereich Data Analytics und Data Science überzeugen können und welche Schwerpunkte für Sie geeignet sind. Gemeinsam mit Ihrem Dozenten wählen Sie geeignete Datensätze und Fragestellungen aus. Anschließend erarbeiten Sie daraus einzeln oder in Kleingruppen ein Projekt für Ihr Bewerbungsportfolio.\n",
    "\n",
    "__Im Überblick:__\n",
    "\n",
    "1. Eigenständiges Auswählen und professionelles Umsetzen von Data-Analytics- und Data-Science-Projekten\n",
    "2. Strukturierte Umsetzung von Projekten\n",
    "3. Sammeln von Erfahrungen in der arbeitsteiligen Gruppenarbeit\n",
    "4. Erheben und Realisieren von Anforderungen\n",
    "5. Durchführen einer Datenauswertung\n",
    "6. Lokales Erzeugen und Veröffentlichen von Projekten\n",
    "7. Präsentieren von Ergebnissen und Diskussion unter Verwendung von Fachsprache (Kolloquium)\n"
   ]
  },
  {
   "cell_type": "markdown",
   "id": "28da700c-e714-447a-933a-1c67c1e4d169",
   "metadata": {},
   "source": [
    "## Lehrinhalte\n",
    "1. Gegenseitiges Kennenlernen\n",
    "2. Ablauf und Einblick in die Bausteine\n",
    "3. Auswahl eines Datenprojektes:\n",
    "    - Grundlagen guter Projekte\n",
    "    - Beispielprojekte in Data Analytics und Data Science\n",
    "    - Quellen geeigneter Datensätze\n",
    "    - Lizenzen von Datensätzen\n",
    "    - Aufwandsabschätzung von Datenprojekten\n",
    "4. Setup der Arbeitsumgebung\n",
    "    - Lokale Installation von Python und benötigten Modulen\n",
    "    - Einführung in Git\n",
    "    - Kurzeinführung in GitHub\n",
    "5. Strukturiertes Arbeiten in Datenteams\n",
    "    - Data Analytics Workflow\n",
    "    - Data Science Workflow\n",
    "4. Beginn der Portfolioarbeit\n",
    "    - Vorbereitung und Kick-off\n",
    "    - Einteilung in Teams und Zuweisung zu vorgeschlagenen Projekten\n",
    "    - Erstellen eines Projektplans und Verteilung der Aufgaben\n",
    "5. Strukturierte Umsetzung der Hausarbeit\n",
    "    - Sprint-Reviews\n",
    "    - Business Case eruieren\n",
    "    - Datenerfassung und Datenvorverarbeitung durchführen\n",
    "    - Analyse der Daten\n",
    "    - Datenvisualisierung\n",
    "    - Storytelling\n",
    "6. Präsentieren von Ergebnissen und Diskussion unter Verwendung von Fachsprache (Kolloquium)\n",
    "    - Abschluss der Projektarbeit\n",
    "    - Erzeugen der Abschlusspräsentation\n",
    "    - Halten der Abschlusspräsentation vor den anderen Teams und dem Dozent"
   ]
  },
  {
   "cell_type": "markdown",
   "id": "68929315-1123-471b-80ac-55dbe38d4575",
   "metadata": {},
   "source": [
    "## Ablauf im Überblick\n",
    "- Gruppeneinteilung\n",
    "- Kick-off\n",
    "- Statusmeetings\n",
    "- Präsentation der Ergebnisse inkl. Lessons Learned\n",
    "- Abgabe in ILIAS"
   ]
  },
  {
   "cell_type": "markdown",
   "id": "08a5d9d6-5ea3-4534-ac7f-418ca3dbbf6e",
   "metadata": {},
   "source": [
    "### Kick-off (Projekt-Start)\n",
    "\n",
    "Ziele: Lernziele besprechen. Erwartungen klarstellen. Durchführung besprechen."
   ]
  },
  {
   "cell_type": "markdown",
   "id": "99ac9d8d-cd6f-4e4e-aaf7-3c7bc5d5dd38",
   "metadata": {},
   "source": [
    "### Statusmeetings (Sprint-Reviews)\n",
    "\n",
    "Ziel: Es geht hauptsächlich um die Art und Weise der Zusammenarbeit, um Herausforderungen und Verbesserungsmöglichkeiten.\n",
    "\n",
    "__Leitfragen:__\n",
    "- Dinge, die gut gelungen sind.\n",
    "- Dinge, die weniger gut gelaufen sind.\n",
    "- Dinge, die man direkt stoppen sollte.\n",
    "- Aspekte, die man ausprobieren könnte."
   ]
  },
  {
   "cell_type": "markdown",
   "id": "0ddc70c6-3c59-425f-8263-79ca535a1962",
   "metadata": {},
   "source": [
    "### Lessons Learned (Projekt-Review)\n",
    "\n",
    "Ziele: Gewonnene Erkenntnisse für die Beurteilung der Arbeitsergebnisse festhalten.\n",
    "\n",
    "Vorbereitung: Die Gruppe setzt sich zusammen, um wertvolle Erfahrungen zu identifizieren, sie zu analysieren und aus ihnen zu lernen.\n",
    "\n",
    "__Leitfragen:__\n",
    "- Was waren die angenehmsten Dinge?\n",
    "- Welches Problem bzw. welche Probleme sind aufgetreten?\n",
    "- Wie wurde mit Problemen und Unklarheiten umgegangen?\n",
    "- Welche Lösung wurde verwendet?\n",
    "- Welche Probleme konnten, nach eigenem Ermessen, besonders gut gelöst werden?\n",
    "- Welche Ergebnisse der Datenauswertung waren überraschend?\n",
    "- Welche Erkenntnisse konnten durch die Datenauswertung gewonnen werden?\n",
    "- Welche ihrer Erwartungen an die Erkenntnisse der Datenauswertung weichen ab?\n",
    "- Wie bewerten Sie selbst ihre Ergebnisse?\n",
    "- Welche Erwartung an die Hausarbeit wurde nicht erfüllt?"
   ]
  },
  {
   "cell_type": "markdown",
   "id": "a0786cf7-b241-4f10-a7af-08eb0a07b7f7",
   "metadata": {},
   "source": [
    "## Aufgabenstellung\n",
    "\n",
    "- Führen Sie eine Datenauswertung durch.\n",
    "- Orientieren Sie sich an den Beispielen und den Übungen aus der Vorlesung.\n",
    "- Dokumentieren Sie Ihre Arbeit in diesem Jupter Notebook. Abweichungen in andere Tools oder Anwendungen sind in Absprache mit dem Dozent möglich.\n",
    "- Verwenden Sie die [Markdown](https://www.markdownguide.org/cheat-sheet/)-Syntax, um Ihre Arbeit leserlich zu gestalten."
   ]
  },
  {
   "cell_type": "markdown",
   "id": "54d1fd8f-461e-4d1a-bcee-c81d92ed488e",
   "metadata": {},
   "source": [
    "## Abschlusspräsentation\n",
    "\n",
    "- Termine, siehe Gruppeneinteilung\n",
    "- Dauer ca. 20 min\n",
    "- Ablauf:\n",
    "    - Gruppe präsentiert ihre Datenauswertung im Plenum\n",
    "    - Mündliche Wiedergabe der __vorbereiteten__ Lessons Learned\n",
    "    - Erstellung einer Komposition von 1-4 Abbildungen (400 x 400 px, .png) der aussagekräftigsten Visualisierungen für das Archiv der Hausarbeiten\n",
    "    - Upload aller Dokumete in ILIAS als Zip-Archiv mit der Bezeichnung `DSCB230_SoSe25_Hausarbeit_Gruppenname.zip`\n"
   ]
  },
  {
   "cell_type": "markdown",
   "id": "17e6b63f-2f04-4b47-bd44-dd5ea2832fd8",
   "metadata": {
    "tags": []
   },
   "source": [
    "## Bewertung\n",
    "\n",
    "Maximal 9 Punkte (10% der Klausurpunkte) als Startwert für die Klausur. Die Punkte erhalten alle Gruppenmitglieder. Sollte eine differenzierte Bewertung gewünscht sein, sprechen Sie bitte den Dozent an.\n",
    "\n",
    "__Kriterien:__\n",
    "\n",
    "| Nr. | Kategorie                                        | Bewertungskriterium                                                                                         |\n",
    "|----:|:-------------------------------------------------|:------------------------------------------------------------------------------------------------------------|\n",
    "|  1  | Teamarbeit und Organisation                      | Aufgabenaufteilung                                                                                          |\n",
    "|  2  | Teamarbeit und Organisation                      | Domänenwissen                                                                                               |\n",
    "|  3  | Teamarbeit und Organisation                      | Fachsprache + Fachbegriffe                                                                                  |\n",
    "|  4  | Teamarbeit und Organisation                      | Lessons Learned                                                                                             |\n",
    "|  5  | Teamarbeit und Organisation                      | Nächste Schritte                                                                                            |\n",
    "|  6  | Teamarbeit und Organisation                      | Projektorganisation                                                                                         |\n",
    "|  7  | Teamarbeit und Organisation                      | Teamfähigkeit                                                                                               |\n",
    "|  8  | Struktur und Organisation                        | Gliederung: Ist die Arbeit sinnvoll gegliedert und folgen die Abschnitte einer klaren Struktur?             |\n",
    "|  9  | Struktur und Organisation                        | Klarheit und Verständlichkeit: Ist die Hausarbeit klar und verständlich geschrieben?                        |\n",
    "| 10  | Struktur und Organisation                        | Kohärenz und Logik: Wie gut sind die Argumente strukturiert und logisch aufgebaut?                          |\n",
    "| 11  | Struktur und Organisation                        | Zielgerichtetheit: Sind die Ziele der Arbeit klar definiert und erreicht?                                   |\n",
    "| 12  | Technische Aspekte der Datenverarbeitung und -analyse | Ausreisseridentifikation                                                                               |\n",
    "| 13  | Technische Aspekte der Datenverarbeitung und -analyse | Beachtung der Vorlage (.ipynb)                                                                         |\n",
    "| 14  | Technische Aspekte der Datenverarbeitung und -analyse | Data Cleaning                                                                                          |\n",
    "| 15  | Technische Aspekte der Datenverarbeitung und -analyse | Data Engineering                                                                                       |\n",
    "| 16  | Technische Aspekte der Datenverarbeitung und -analyse | Datenaktualität (Reload/Refresh)                                                                       |\n",
    "| 17  | Technische Aspekte der Datenverarbeitung und -analyse | Datenanalyse (Plots, Dashboard, etc.)                                                                  |\n",
    "| 18  | Technische Aspekte der Datenverarbeitung und -analyse | Datenanalyse inkl. Interaktion, Filter                                                                 |\n",
    "| 19  | Technische Aspekte der Datenverarbeitung und -analyse | Datenvisualisierung                                                                                    |\n",
    "| 20  | Technische Aspekte der Datenverarbeitung und -analyse | Fragestellung + Findings                                                                               |\n",
    "| 21  | Technische Aspekte der Datenverarbeitung und -analyse | Python Bibliotheken                                                                                    |\n",
    "| 22  | Kommunikation und Präsentation                  | Argumentationsfähigkeit                                                                                      |\n",
    "| 23  | Kommunikation und Präsentation                  | Erklärungsfähigkeit                                                                                          |\n",
    "| 24  | Kommunikation und Präsentation                  | Medienkompetenz Präsentation                                                                                 |\n",
    "| 25  | Kommunikation und Präsentation                  | Storytelling                                                                                                 |\n",
    "| 26  | Inhaltliche Qualität                            | Literaturrecherche: Wie gut ist die relevante Literatur recherchiert und eingebunden?                        |\n",
    "| 27  | Inhaltliche Qualität                            | Methodik: Angemessenheit und Korrektheit der gewählten Methoden zur Datenanalyse.                            |\n",
    "| 28  | Inhaltliche Qualität                            | Originalität der Fragestellung: Ist die Fragestellung innovativ und relevant?                                |\n",
    "| 29  | Inhaltliche Qualität                            | Tiefe der Analyse: Wie detailliert und fundiert ist die Analyse der Daten?                                   |\n",
    "| 30  | Präsentationsqualität                           | Präsentationsstil: Wie gut ist der Vortragsstil? Z.B. Sprechgeschwindigkeit, Betonung, Körperhaltung.        |\n",
    "| 31  | Präsentationsqualität                           | Publikumsinteraktion: Fähigkeit, auf Fragen und Rückmeldungen des Publikums einzugehen.                      |\n",
    "| 32  | Präsentationsqualität                           | Visuelle Hilfsmittel: Nutzung und Qualität von Präsentationsfolien und anderen visuellen Hilfsmitteln.       |\n",
    "| 33  | Präsentationsqualität                           | Zeitmanagement: Einhaltung der vorgegebenen Präsentationszeit.                                               |\n",
    "| 34  | Sprachliche und stilistische Aspekte            | Formale Anforderungen: Einhaltung von Zitierregeln, Formatvorgaben und wissenschaftlichem Schreibstil.       |\n",
    "| 35  | Sprachliche und stilistische Aspekte            | Sprachqualität: Rechtschreibung, Grammatik und Stil.                                                         |\n",
    "| 36  | Reflexion und Weiterentwicklung                 | Selbstreflexion: Fähigkeit, die eigene Arbeit kritisch zu reflektieren.                                      |\n",
    "| 37  | Reflexion und Weiterentwicklung                 | Weiterentwicklungspotenzial: Vorschläge für zukünftige Forschung oder Projektentwicklungen.                  |\n"
   ]
  },
  {
   "cell_type": "markdown",
   "id": "6568db5d-3f71-476b-8a65-2c4ae6c0d625",
   "metadata": {},
   "source": [
    "## Vorlage für Ihr Jupyter Notebook\n",
    "Sie können die folgende Inhaltsstruktur verwenden oder sich daran orientieren. Kopieren Sie den Inhalt in ein neues Jupyter Notebook."
   ]
  },
  {
   "cell_type": "markdown",
   "id": "aaec91a7-5b05-44c0-98f0-7f73a9461f89",
   "metadata": {},
   "source": [
    "**DSCB230 Sommersemester 2025**\n",
    "\n",
    "# Analyse der Tweets von Elon Musks\n",
    "Im Zeitraum 2009 bis jetzt"
   ]
  },
  {
   "cell_type": "markdown",
   "id": "69b205aa-24e5-4d1a-a410-9cebab4c0844",
   "metadata": {},
   "source": [
    "Gruppe | Studierende 1 | Studierende 2\n",
    "------ | ------ | ------ |\n",
    "`Hotel` | `Lisa Wieg` | `Elias Eigner` |^"
   ]
  },
  {
   "cell_type": "markdown",
   "id": "1f379b61-3b1f-469a-a873-5021229aa033",
   "metadata": {},
   "source": [
    "## Business Case"
   ]
  },
  {
   "cell_type": "markdown",
   "id": "903810eb-3de1-4efc-8167-1dfe6584e5ac",
   "metadata": {},
   "source": [
    "### Analyse der Tweets von Elon Musk.\n",
    "#### Fragestellungen\n",
    "##### Einstieg (Blick auf gesamte Tweets)\n",
    "- Zeiten der Tweets\n",
    "- Tweet Frequenz\n",
    "- Most liked / Fewest\n",
    "- Häufige Wörter / Hashtags\n",
    "- Wordcloud\n",
    "\n",
    "##### Hauptteil (zoom auf generelle Zeiträume)\n",
    "- Wahlkampagnen in USA\n",
    "- Betrachtung 2016 Wahlkampf erste Amtszeit Trump\n",
    "- Betrachtung 2024 Wahlkampf zweite Amtszeit Trump\n",
    "- Betrachtung Amtszeit Biden: Unterschied im Verhalten Musks zu Trumps Amtszeiten\n",
    "- Korrelation Äußerungen über Themen (e.g. Trump) und Likes\n",
    "- Wie sind die Tweets während dem Wahlkampf (Stimmung/Themen/...)\n",
    "\n",
    "##### Wahlen Deutschland\n",
    "- Äußerungen zu Alice Weidel und AFD \n",
    "- Korrelation zu Stimmzahlen (Anhand von Umfragen zu bestimmten Zeiten)\n",
    "\n",
    "##### Sonstige Ideen\n",
    "- Korrelation zu Aktienpreisen / Dogecoin\n",
    "- Vorhersage mit Regression (Wann tweetet er als nächstes? Was tweetet er als nächstes? Wie werden die Aktienkurse?)"
   ]
  },
  {
   "cell_type": "markdown",
   "id": "8e84b5fa",
   "metadata": {},
   "source": [
    "## Executive Summary\n",
    "- **Datenbasis**: X Tweets von Elon Musk (2009-2025)\n",
    "- **Haupterkenntnisse**: \n",
    "  - Most liked Tweet: Twitter-Übernahme\n",
    "  - Sentiment-Wandel nach Twitter-Kauf\n",
    "  - Politische Themen vs. Tech-Themen\n",
    "- **Methoden**: NLP, Sentiment-Analyse, RAG, Wordclouds"
   ]
  },
  {
   "cell_type": "markdown",
   "id": "ec75d1c5-3c7b-4488-8db6-c003a3cde4ed",
   "metadata": {},
   "source": [
    "## Datenerfassung und Datenvorverarbeitung"
   ]
  },
  {
   "cell_type": "markdown",
   "id": "72f4f0fd-519c-4a2d-a6f8-fd99d9e012e7",
   "metadata": {},
   "source": [
    "[Quelle der verwendeten Daten](https://www.kaggle.com/datasets/dadalyndell/elon-musk-tweets-2010-to-2025-march)\n",
    "\n",
    "Der Kaggle Eintrag stellt zwei verschiedene Datasets zur Verfügung:\n",
    "1. all_musk_posts\n",
    "    - Alle Tweets seines offiziellen Accounts (@elonmusk) seit dem Anfang des Accounts bis zum 13.04.2025\n",
    "2. musk_quote_tweets\n",
    "    - Die Originaltweets, die Elon Musk von Beginn an bis zum 13. April 2025 auf seinem offiziellen Account (@elonmusk) zitiert hat."
   ]
  },
  {
   "cell_type": "code",
   "execution_count": null,
   "id": "251cfffa",
   "metadata": {},
   "outputs": [],
   "source": [
    "# Data processing\n",
    "import pandas as pd\n",
    "import numpy as np\n",
    "import re\n",
    "from collections import Counter\n",
    "\n",
    "# Visualization\n",
    "import missingno as msno\n",
    "import matplotlib.pyplot as plt\n",
    "from wordcloud import WordCloud\n",
    "import plotly.express as px\n",
    "import plotly.graph_objects as go\n",
    "\n",
    "# NLP\n",
    "import nltk\n",
    "from nltk.stem import WordNetLemmatizer\n",
    "from nltk.corpus import stopwords\n",
    "from sklearn.feature_extraction.text import TfidfVectorizer\n",
    "\n",
    "# LangChain\n",
    "from langchain_community.document_loaders import DataFrameLoader\n",
    "from langchain_community.embeddings import HuggingFaceEmbeddings\n",
    "from langchain_community.vectorstores import FAISS\n",
    "from langchain_community.chat_models import ChatOllama\n",
    "from langchain.prompts import PromptTemplate\n",
    "from langchain.schema.runnable import RunnablePassthrough\n",
    "from langchain.schema.output_parser import StrOutputParser"
   ]
  },
  {
   "cell_type": "code",
   "execution_count": 19,
   "id": "505a5869",
   "metadata": {},
   "outputs": [
    {
     "name": "stderr",
     "output_type": "stream",
     "text": [
      "/var/folders/xc/yzblj_0j3k3gstvv8jdzyp440000gn/T/ipykernel_80824/3323975290.py:1: DtypeWarning:\n",
      "\n",
      "Columns (11,16,17,18,19) have mixed types. Specify dtype option on import or set low_memory=False.\n",
      "\n"
     ]
    }
   ],
   "source": [
    "all_musk_posts = pd.read_csv('./data/all_musk_posts.csv')\n",
    "musk_quote_tweets = pd.read_csv('./data/musk_quote_tweets.csv')"
   ]
  },
  {
   "cell_type": "code",
   "execution_count": 20,
   "id": "2bc36653",
   "metadata": {},
   "outputs": [
    {
     "data": {
      "application/vnd.microsoft.datawrangler.viewer.v0+json": {
       "columns": [
        {
         "name": "index",
         "rawType": "int64",
         "type": "integer"
        },
        {
         "name": "orig_tweet_id",
         "rawType": "int64",
         "type": "integer"
        },
        {
         "name": "orig_tweet_created_at",
         "rawType": "object",
         "type": "string"
        },
        {
         "name": "orig_tweet_text",
         "rawType": "object",
         "type": "string"
        },
        {
         "name": "orig_tweet_url",
         "rawType": "object",
         "type": "string"
        },
        {
         "name": "orig_tweet_twitter_url",
         "rawType": "object",
         "type": "string"
        },
        {
         "name": "orig_tweet_username",
         "rawType": "object",
         "type": "string"
        },
        {
         "name": "orig_tweet_retweet_count",
         "rawType": "int64",
         "type": "integer"
        },
        {
         "name": "orig_tweet_reply_count",
         "rawType": "int64",
         "type": "integer"
        },
        {
         "name": "orig_tweet_like_count",
         "rawType": "int64",
         "type": "integer"
        },
        {
         "name": "orig_tweet_quote_count",
         "rawType": "int64",
         "type": "integer"
        },
        {
         "name": "orig_tweet_view_count",
         "rawType": "float64",
         "type": "float"
        },
        {
         "name": "orig_tweet_bookmark_count",
         "rawType": "int64",
         "type": "integer"
        },
        {
         "name": "musk_tweet_id",
         "rawType": "int64",
         "type": "integer"
        },
        {
         "name": "musk_quote_tweet",
         "rawType": "object",
         "type": "string"
        },
        {
         "name": "musk_quote_retweet_count",
         "rawType": "int64",
         "type": "integer"
        },
        {
         "name": "musk_quote_reply_count",
         "rawType": "int64",
         "type": "integer"
        },
        {
         "name": "musk_quote_like_count",
         "rawType": "int64",
         "type": "integer"
        },
        {
         "name": "musk_quote_quote_count",
         "rawType": "int64",
         "type": "integer"
        },
        {
         "name": "musk_quote_view_count",
         "rawType": "float64",
         "type": "float"
        },
        {
         "name": "musk_quote_bookmark_count",
         "rawType": "int64",
         "type": "integer"
        },
        {
         "name": "musk_quote_created_at",
         "rawType": "object",
         "type": "string"
        }
       ],
       "ref": "cc793b0b-c0f8-4a89-a5d5-ab85a43c5dc0",
       "rows": [
        [
         "0",
         "1655977349530243074",
         "2023-05-09 16:45:41+00:00",
         "Hot take:\n\n@Twitter can become the world's number-one podcast platform in LESS than 90 days.\n\nPosting the @CDG_Podcast directly on Twitter grew my active listeners by *400%* in 1 week.\n\nWhy? Because people can listen without going to another platform.\n\nHere are 5 critical upgrades that are still needed:\n\n— Picture-in-picture\n— Speed up/down\n— 10-second rewind/forward\n— Ability to listen with the phone closed\n— Add a \"Podcasts\" tab on the Profile page next to Tweets and Replies (for discoverability)\n\nInsane opportunity.",
         "https://x.com/GuyDealership/status/1655977349530243074",
         "https://twitter.com/GuyDealership/status/1655977349530243074",
         "GuyDealership",
         "632",
         "497",
         "7730",
         "123",
         "12218484.0",
         "387",
         "1655978502187778073",
         "Yup",
         "3255",
         "3747",
         "39533",
         "225",
         "11392206.0",
         "281",
         "2023-05-09 16:50:16+00:00"
        ],
        [
         "1",
         "1655968201422012418",
         "2023-05-09 16:09:20+00:00",
         "If Legacy Media is going to shove bigotry porn down our throats it should at least do so in an honest manner so people have an accurate understanding of racial dynamics.\n\nTime and time again, Legacy Media has failed to do just that.\n\nH/T: @DavidRozado https://t.co/bsB6rVV7Yn",
         "https://x.com/TheRabbitHole84/status/1655968201422012418",
         "https://twitter.com/TheRabbitHole84/status/1655968201422012418",
         "TheRabbitHole84",
         "1409",
         "412",
         "5328",
         "264",
         "14775379.0",
         "633",
         "1655968899903418373",
         "Massive public manipulation",
         "9811",
         "2694",
         "49528",
         "534",
         "14404853.0",
         "1241",
         "2023-05-09 16:12:06+00:00"
        ],
        [
         "2",
         "1647327385342320640",
         "2023-04-15 19:53:49+00:00",
         "Starlink provides internet to the most remote areas. There is still a huge population without internet. Internet allows access to information and education. @elonmusk @SpaceX https://t.co/IGtF8TaBvS",
         "https://x.com/teslaownersSV/status/1647327385342320640",
         "https://twitter.com/teslaownersSV/status/1647327385342320640",
         "teslaownersSV",
         "1253",
         "800",
         "8472",
         "175",
         "20877634.0",
         "173",
         "1647339741610926080",
         "💯",
         "8257",
         "4793",
         "106036",
         "376",
         "18520248.0",
         "366",
         "2023-04-15 20:42:55+00:00"
        ],
        [
         "3",
         "1646226917387796491",
         "2023-04-12 19:00:57+00:00",
         "National Public Radio Denies Being National Or Public https://t.co/n2VVPVyT4i https://t.co/toOq8nbxGn",
         "https://x.com/TheBabylonBee/status/1646226917387796491",
         "https://twitter.com/TheBabylonBee/status/1646226917387796491",
         "TheBabylonBee",
         "4781",
         "701",
         "37752",
         "442",
         "18478251.0",
         "167",
         "1646228474628280326",
         "🤣🤣",
         "10198",
         "5076",
         "108462",
         "430",
         "16690340.0",
         "340",
         "2023-04-12 19:07:08+00:00"
        ],
        [
         "4",
         "1640016339011076097",
         "2023-03-26 15:42:19+00:00",
         "Arthur C. Clarke about the future of AI. \n—21 September 1964\n\n[source, BBC Archive: https://t.co/u9RpXTrztK]\nhttps://t.co/rccfoQlv42",
         "https://x.com/Rainmaker1973/status/1640016339011076097",
         "https://twitter.com/Rainmaker1973/status/1640016339011076097",
         "Rainmaker1973",
         "5409",
         "737",
         "20773",
         "814",
         "27514757.0",
         "3333",
         "1640171198091866114",
         "Prescient",
         "9193",
         "5118",
         "56272",
         "572",
         "25169601.0",
         "3792",
         "2023-03-27 01:57:41+00:00"
        ],
        [
         "5",
         "1634736729159499776",
         "2023-03-12 02:03:02+00:00",
         "Splashdown of Dragon confirmed – welcome back to Earth, @AstroDuke, @Astro_Josh, @Astro_Wakata, and Anna! https://t.co/LHrrqL5g6U",
         "https://x.com/SpaceX/status/1634736729159499776",
         "https://twitter.com/SpaceX/status/1634736729159499776",
         "SpaceX",
         "2607",
         "843",
         "22442",
         "317",
         "28921016.0",
         "124",
         "1634751765311569920",
         "Yay!!",
         "6988",
         "7286",
         "97792",
         "451",
         "27012391.0",
         "318",
         "2023-03-12 03:02:47+00:00"
        ],
        [
         "6",
         "1742179049005289570",
         "2024-01-02 13:40:28+00:00",
         "In Q4, we produced approximately 495k vehicles &amp; delivered over 484k vehicles.\n\nFull year 2023\nDeliveries: 1.81 million (+38% YoY)\nProduction: 1.85 million (+ 35% YoY)\n\nOur Q4 Earnings Call will be streamed live on X on January 24 at 4:30pm CT\n\n→ https://t.co/vWPOkQVGmV",
         "https://x.com/Tesla/status/1742179049005289570",
         "https://twitter.com/Tesla/status/1742179049005289570",
         "Tesla",
         "2701",
         "1256",
         "18891",
         "673",
         "19969441.0",
         "420",
         "1742235895166652609",
         "Congratulations Tesla team on a great year!!",
         "5222",
         "4154",
         "67751",
         "248",
         "17889197.0",
         "283",
         "2024-01-02 17:26:21+00:00"
        ],
        [
         "7",
         "1674221120495685635",
         "2023-06-29 00:59:55+00:00",
         "Two new features for writers: you can now post up to 25,000 characters and add up to 4 inline images. Subscribe to access these new features: https://t.co/QfWHdHZtsq",
         "https://x.com/Write/status/1674221120495685635",
         "https://twitter.com/Write/status/1674221120495685635",
         "Write",
         "898",
         "884",
         "4545",
         "1232",
         "35241350.0",
         "386",
         "1674226170488057856",
         "Improved longform posts",
         "10230",
         "6767",
         "87154",
         "661",
         "32722102.0",
         "462",
         "2023-06-29 01:19:59+00:00"
        ],
        [
         "8",
         "1673808523497721856",
         "2023-06-27 21:40:24+00:00",
         "Additional views from yesterday’s Ship 25 static fire https://t.co/dwdVETLJsV",
         "https://x.com/SpaceX/status/1673808523497721856",
         "https://twitter.com/SpaceX/status/1673808523497721856",
         "SpaceX",
         "3375",
         "1108",
         "30217",
         "472",
         "43071798.0",
         "396",
         "1673832186796179456",
         "Prelude to Mars",
         "14390",
         "9199",
         "177494",
         "870",
         "39561436.0",
         "503",
         "2023-06-27 23:14:26+00:00"
        ],
        [
         "9",
         "1673509777819967488",
         "2023-06-27 01:53:17+00:00",
         "Ship 25 completes a six-engine static fire test at Starbase in Texas https://t.co/wCCrh0RRNA",
         "https://x.com/SpaceX/status/1673509777819967488",
         "https://twitter.com/SpaceX/status/1673509777819967488",
         "SpaceX",
         "5559",
         "1212",
         "44803",
         "603",
         "44038694.0",
         "561",
         "1673564912948326400",
         "Key milestone completed for flight 2",
         "15806",
         "6852",
         "188012",
         "682",
         "38172495.0",
         "603",
         "2023-06-27 05:32:23+00:00"
        ],
        [
         "10",
         "1672704161589211139",
         "2023-06-24 20:32:04+00:00",
         "A majorly important story for #DiorSummer24 https://t.co/xY226Ypz9A, learn how his research in the archives led Kim Jones to breathe fresh life into tweed and the wealth of ensuing creative possibilities it provided. https://t.co/T98ZcQ4Qin",
         "https://x.com/Dior/status/1672704161589211139",
         "https://twitter.com/Dior/status/1672704161589211139",
         "Dior",
         "680",
         "244",
         "6746",
         "88",
         "31176416.0",
         "645",
         "1673402963757244420",
         "“Ads” like this where you learn or are entertained are great, as they’re effectively content.\n\nConsider Vogue Magazine, which consists mostly of “advertisements”, but they’re so beautiful that they’re worth seeing in &amp; of themselves.",
         "6439",
         "4242",
         "63926",
         "426",
         "29968049.0",
         "1913",
         "2023-06-26 18:48:51+00:00"
        ],
        [
         "11",
         "1672581931739881473",
         "2023-06-24 12:26:22+00:00",
         "🚨COUP UPDATES: Putin Reportedly Leaves Moscow | Machine Gun Positions Around Moscow | Wagner Convoy Heads to Moscow\n\nAs the coup continues, here's the latest updates from our various sources live on the ongoing Twitter Space:\n\n- Worries of the Russian Nuclear Warheads moved to Belarus weeks ago\n\n- Wagner forces continue their advance to Moscow with limited strikes by the Russian Air Force\n\n- Reports of Putin and other officials leaving Moscow and heading to Saint Petersburg based on the movement of Military VIP aircrafts. TASS, which is Gov controlled media outlet, reported that Putin is heading to Saint Petersburg, but Putin's Press Secretary refuted those reports. It is very unusual and rare to see such a disconnect between TASS and the Kremlin.\n\nMY THOUGHTS:\n\n- This is a military coup, we can no longer dispute this, and things are moving VERY rapidly and are not looking good for Putin.\n\n- We are seeing limited military clashes, showing likely defections among Russian forces\n\n- Almost EVERYTHING right now can't be verified and should be taken with a grain of salt \n\n(THIS IS AN EVOLVING STORY. UPDATES BELOW IN THREAD)",
         "https://x.com/MarioNawfal/status/1672581931739881473",
         "https://twitter.com/MarioNawfal/status/1672581931739881473",
         "MarioNawfal",
         "14521",
         "4200",
         "67185",
         "2837",
         "91792954.0",
         "5965",
         "1672584092217671683",
         "Best coverage of the situation I’ve seen so far is from Mario",
         "18975",
         "8628",
         "178137",
         "1367",
         "67763890.0",
         "2640",
         "2023-06-24 12:34:57+00:00"
        ],
        [
         "12",
         "1671342741857632256",
         "2023-06-21 02:22:16+00:00",
         "Great meeting you today @elonmusk! We had multifaceted conversations on issues ranging from energy to spirituality. https://t.co/IVwOy5SlMV",
         "https://x.com/narendramodi/status/1671342741857632256",
         "https://twitter.com/narendramodi/status/1671342741857632256",
         "narendramodi",
         "24312",
         "4711",
         "201798",
         "1644",
         "85188061.0",
         "809",
         "1671360205056098304",
         "Great conversation with @NarendraModi",
         "47334",
         "17795",
         "481870",
         "2922",
         "71936383.0",
         "1651",
         "2023-06-21 03:31:39+00:00"
        ],
        [
         "13",
         "1669848494637735936",
         "2023-06-16 23:24:40+00:00",
         "@realGeorgeHotz Thanks for connecting @realGeorgeHotz.  Appreciate the work you and tiny corp are doing.  We are committed to working with the community and improving our support.  More to come on ROCm on @radeon soon.  Lots of work ahead but excited about what we can do together.",
         "https://x.com/LisaSu/status/1669848494637735936",
         "https://twitter.com/LisaSu/status/1669848494637735936",
         "LisaSu",
         "186",
         "117",
         "2692",
         "65",
         "23802012.0",
         "100",
         "1670036143956692993",
         "Great to see so many country and company leaders around the world interacting with people on this platform!\n\nThis is a great way to get useful feedback, learn about new ideas and connect with a smart, savvy audience.",
         "10174",
         "6179",
         "84920",
         "466",
         "23495532.0",
         "339",
         "2023-06-17 11:50:19+00:00"
        ],
        [
         "14",
         "1668843112955891712",
         "2023-06-14 04:49:38+00:00",
         "Bold",
         "https://x.com/elonmusk/status/1668843112955891712",
         "https://twitter.com/elonmusk/status/1668843112955891712",
         "elonmusk",
         "49375",
         "18263",
         "334997",
         "2189",
         "127858792.0",
         "6344",
         "1668868113725550592",
         "Once again, I’d like to offer this platform to anyone on the left. You will get equal treatment.",
         "18655",
         "21155",
         "208132",
         "1974",
         "59238311.0",
         "996",
         "2023-06-14 06:28:59+00:00"
        ],
        [
         "15",
         "1668747661028081664",
         "2023-06-13 22:30:20+00:00",
         "Ep. 3  America's principles are at stake https://t.co/eJNSUVvvqY",
         "https://x.com/TuckerCarlson/status/1668747661028081664",
         "https://twitter.com/TuckerCarlson/status/1668747661028081664",
         "TuckerCarlson",
         "161622",
         "36858",
         "616425",
         "16150",
         "106554331.0",
         "20736",
         "1668843112955891712",
         "Bold",
         "49375",
         "18263",
         "334997",
         "2189",
         "127858792.0",
         "6344",
         "2023-06-14 04:49:38+00:00"
        ],
        [
         "16",
         "1668658866337218560",
         "2023-06-13 16:37:30+00:00",
         "NEW: From S&amp;P Global to the London Stock Exchange, tobacco companies are crushing Tesla in the ESG ratings. How could cigarettes, which kill over 8 million a year, be deemed a more ethical investment than electric cars? \n\nOne answer: Tobacco’s gone woke.🧵https://t.co/DVJrp65cSQ",
         "https://x.com/aaronsibarium/status/1668658866337218560",
         "https://twitter.com/aaronsibarium/status/1668658866337218560",
         "aaronsibarium",
         "6568",
         "2187",
         "27015",
         "1419",
         "41683559.0",
         "4294",
         "1668829554448777216",
         "Why ESG is the devil …",
         "21620",
         "7906",
         "132452",
         "1266",
         "36738967.0",
         "2296",
         "2023-06-14 03:55:45+00:00"
        ],
        [
         "17",
         "1667297481019781123",
         "2023-06-09 22:27:51+00:00",
         "https://t.co/YmZ0p0WQnX",
         "https://x.com/Tesla/status/1667297481019781123",
         "https://twitter.com/Tesla/status/1667297481019781123",
         "Tesla",
         "1259",
         "410",
         "7583",
         "70",
         "20970780.0",
         "76",
         "1667309340007735296",
         "Big difference",
         "5494",
         "2848",
         "53264",
         "181",
         "18705375.0",
         "192",
         "2023-06-09 23:14:58+00:00"
        ],
        [
         "18",
         "1666928190445477890",
         "2023-06-08 22:00:25+00:00",
         "Ep. 2  Cling to your taboos! https://t.co/45AeVdtwOu",
         "https://x.com/TuckerCarlson/status/1666928190445477890",
         "https://twitter.com/TuckerCarlson/status/1666928190445477890",
         "TuckerCarlson",
         "135719",
         "25429",
         "561456",
         "9245",
         "62136544.0",
         "16306",
         "1666945495334256642",
         "It’d be great to have @maddow, @donlemon &amp; others on the left put their shows on this platform. No exclusivity or legal docs required!\n\nYou will receive our full support. The digital town square is for all.",
         "27520",
         "14726",
         "203201",
         "1487",
         "38503913.0",
         "1988",
         "2023-06-08 23:09:11+00:00"
        ],
        [
         "19",
         "1666908641788588034",
         "2023-06-08 20:42:44+00:00",
         "We're teaming up with @tesla to enhance your electric vehicle experience. More charging stations, less range anxiety, more sustainable journeys. It's about your convenience, not our competition. #EverybodyIn https://t.co/D4joovLjPh",
         "https://x.com/GM/status/1666908641788588034",
         "https://twitter.com/GM/status/1666908641788588034",
         "GM",
         "1512",
         "988",
         "11710",
         "571",
         "26437233.0",
         "163",
         "1666914689496891394",
         "Great to work with you!",
         "9353",
         "5280",
         "97795",
         "614",
         "22849927.0",
         "297",
         "2023-06-08 21:06:46+00:00"
        ],
        [
         "20",
         "1666203439146172419",
         "2023-06-06 22:00:31+00:00",
         "Ep. 1 https://t.co/O7CdPjF830",
         "https://x.com/TuckerCarlson/status/1666203439146172419",
         "https://twitter.com/TuckerCarlson/status/1666203439146172419",
         "TuckerCarlson",
         "218889",
         "74167",
         "892174",
         "24256",
         "122504815.0",
         "41213",
         "1666232126172176384",
         "Would be great to have shows from all parts of the political spectrum on this platform!",
         "39371",
         "24851",
         "305987",
         "2513",
         "51577930.0",
         "3985",
         "2023-06-06 23:54:30+00:00"
        ],
        [
         "21",
         "1665784889008873476",
         "2023-06-05 18:17:20+00:00",
         "https://t.co/OT6bqzUK8P",
         "https://x.com/elonmusk/status/1665784889008873476",
         "https://twitter.com/elonmusk/status/1665784889008873476",
         "elonmusk",
         "10205",
         "7183",
         "58206",
         "965",
         "34809220.0",
         "2905",
         "1665788623797600258",
         "On now",
         "5473",
         "5188",
         "51793",
         "295",
         "18446361.0",
         "423",
         "2023-06-05 18:32:11+00:00"
        ],
        [
         "22",
         "1665068392401780736",
         "2023-06-03 18:50:14+00:00",
         "Model S Plaid with track pack just set new lap record for a production EV at Nürburgring 💪 https://t.co/jrUCkt95jw",
         "https://x.com/Tesla/status/1665068392401780736",
         "https://twitter.com/Tesla/status/1665068392401780736",
         "Tesla",
         "1910",
         "665",
         "15172",
         "290",
         "17705051.0",
         "231",
         "1665081639263690754",
         "Congrats Tesla Plaid racing team!",
         "5320",
         "3235",
         "62405",
         "229",
         "15463246.0",
         "170",
         "2023-06-03 19:42:53+00:00"
        ],
        [
         "23",
         "1664424891372941312",
         "2023-06-02 00:13:12+00:00",
         "It’s the movie they really don’t want you to see: #WhatIsAWoman?\n\nWatch the explosive documentary starring @MattWalshBlog FREE on Twitter for 24 hrs. https://t.co/qDi7thCNid",
         "https://x.com/realDailyWire/status/1664424891372941312",
         "https://twitter.com/realDailyWire/status/1664424891372941312",
         "realDailyWire",
         "163791",
         "30129",
         "457151",
         "29512",
         "193098605.0",
         "128183",
         "1664609193230204929",
         "Every parent should watch this",
         "130691",
         "26145",
         "479104",
         "9652",
         "97793680.0",
         "45950",
         "2023-06-02 12:25:33+00:00"
        ],
        [
         "24",
         "1663944001224081408",
         "2023-05-31 16:22:19+00:00",
         "Three years ago this week we launched our first human spaceflight mission to orbit. \n\nThank you to @NASA, @inspiration4x, @Axiom_Space, and the 38 astronauts from all around the world for flying SpaceX! https://t.co/LKpmxGF2Vn",
         "https://x.com/SpaceX/status/1663944001224081408",
         "https://twitter.com/SpaceX/status/1663944001224081408",
         "SpaceX",
         "3249",
         "1172",
         "25217",
         "278",
         "29672873.0",
         "228",
         "1664187538330775552",
         "38 astronauts to orbit so far!",
         "10191",
         "8097",
         "105355",
         "678",
         "25107678.0",
         "334",
         "2023-06-01 08:30:02+00:00"
        ],
        [
         "25",
         "1662103829343502337",
         "2023-05-26 14:30:07+00:00",
         "TARGET TAKES AIM: The retail giant provides annual donations to GLSEN, which calls for gender ideology to be integrated into all classes, even math. https://t.co/f7g9yLDvuO https://t.co/vCK6fqXepa",
         "https://x.com/FoxNews/status/1662103829343502337",
         "https://twitter.com/FoxNews/status/1662103829343502337",
         "FoxNews",
         "5364",
         "1949",
         "8567",
         "832",
         "61217304.0",
         "473",
         "1662291539635126272",
         "Is this true, @Target?",
         "35095",
         "16872",
         "147589",
         "2715",
         "61540446.0",
         "2765",
         "2023-05-27 02:56:01+00:00"
        ],
        [
         "26",
         "1662041421497479168",
         "2023-05-26 10:22:08+00:00",
         "Gov. DeSantis raises $8.2 million in first 24 hours after launching presidential campaign.\nhttps://t.co/cL0vkpL502",
         "https://x.com/CBSMiami/status/1662041421497479168",
         "https://twitter.com/CBSMiami/status/1662041421497479168",
         "CBSMiami",
         "287",
         "328",
         "1950",
         "138",
         "30047465.0",
         "58",
         "1662193436684951556",
         "Lot of noise about @RonDeSantis announcing &amp; discussing his Presidential bid on this platform. \n\nBut you what isn’t noise? Setting an all-time record for fundraising!\n\nWorth considering for announcements in general.",
         "8033",
         "15346",
         "73998",
         "2183",
         "32018525.0",
         "592",
         "2023-05-26 20:26:12+00:00"
        ],
        [
         "27",
         "1661857379460468736",
         "2023-05-25 22:10:49+00:00",
         "We are excited to share that we have received the FDA’s approval to launch our first-in-human clinical study!\n\nThis is the result of incredible work by the Neuralink team in close collaboration with the FDA and represents an important first step that will one day allow our technology to help many people.\n\nRecruitment is not yet open for our clinical trial. We’ll announce more information on this soon!",
         "https://x.com/neuralink/status/1661857379460468736",
         "https://twitter.com/neuralink/status/1661857379460468736",
         "neuralink",
         "9724",
         "5581",
         "49411",
         "4943",
         "37451294.0",
         "1966",
         "1661897511337082880",
         "Congratulations Neuralink team!",
         "11187",
         "9969",
         "108889",
         "1638",
         "29273966.0",
         "778",
         "2023-05-26 00:50:17+00:00"
        ],
        [
         "28",
         "1661293338547441665",
         "2023-05-24 08:49:31+00:00",
         "CNN seems to hate that Twitter community notes works much better in a free speech environment than anything they have ever done\n\nCNN: \"Twitter, which once offered a platform for democratic movements in the Arab Spring, has been transformed by its new owner into a febrile circus of untamed free speech, conspiracy theories and unverifiable information.\"\nhttps://t.co/gW5TUMfBqy",
         "https://x.com/alex_avoigt/status/1661293338547441665",
         "https://twitter.com/alex_avoigt/status/1661293338547441665",
         "alex_avoigt",
         "648",
         "1191",
         "5655",
         "188",
         "18449936.0",
         "147",
         "1661525947022180352",
         "🇺🇸🇺🇸 Untamed Free Speech FTW 🇺🇸🇺🇸",
         "9385",
         "6224",
         "84573",
         "529",
         "18231889.0",
         "275",
         "2023-05-25 00:13:50+00:00"
        ],
        [
         "29",
         "1661059075550089217",
         "2023-05-23 17:18:39+00:00",
         "Starlink is also now available for use while in-motion → https://t.co/7Yja24sLol https://t.co/ZG6MSEJjLj",
         "https://x.com/Starlink/status/1661059075550089217",
         "https://twitter.com/Starlink/status/1661059075550089217",
         "Starlink",
         "1348",
         "663",
         "9359",
         "275",
         "26576461.0",
         "251",
         "1661059564593201184",
         "And works almost everywhere on Earth with global roaming enabled!",
         "9575",
         "6956",
         "81396",
         "577",
         "24216979.0",
         "579",
         "2023-05-23 17:20:35+00:00"
        ],
        [
         "30",
         "1659599720761950208",
         "2023-05-19 16:39:41+00:00",
         "Raptor test firing into a water cooled steel plate 🔥 https://t.co/oXUp5PGqbf",
         "https://x.com/SpaceX/status/1659599720761950208",
         "https://twitter.com/SpaceX/status/1659599720761950208",
         "SpaceX",
         "9550",
         "2725",
         "78568",
         "2342",
         "52890596.0",
         "2744",
         "1659602548360351744",
         "One hell of a plasma beam!",
         "18679",
         "12903",
         "229293",
         "1174",
         "41738695.0",
         "2572",
         "2023-05-19 16:50:56+00:00"
        ],
        [
         "31",
         "1659246428164587545",
         "2023-05-18 17:15:50+00:00",
         "Available for preorder now in the link below.  https://t.co/6SHJCkoXSF",
         "https://x.com/WalterIsaacson/status/1659246428164587545",
         "https://twitter.com/WalterIsaacson/status/1659246428164587545",
         "WalterIsaacson",
         "942",
         "666",
         "6821",
         "293",
         "13409776.0",
         "641",
         "1659256261068595201",
         "Walter is incredibly thorough in his research. Highly recommend his other books!",
         "2596",
         "2167",
         "27180",
         "175",
         "11262159.0",
         "358",
         "2023-05-18 17:54:54+00:00"
        ],
        [
         "32",
         "1659162342641352704",
         "2023-05-18 11:41:42+00:00",
         "3. The month prior, Taylor Lorenz got this tiny account banned. Surprise!\n\nThe account detailed Lorenz as a Manhattan rich girl, who attended Swiss boarding school, and whose uncle owns Internet Archive, thus erasing her past. https://t.co/uzCCzExu9B",
         "https://x.com/thackerpd/status/1659162342641352704",
         "https://twitter.com/thackerpd/status/1659162342641352704",
         "thackerpd",
         "721",
         "123",
         "3671",
         "82",
         "4785977.0",
         "115",
         "1659255118196355073",
         "Was the Internet Archive manipulated for nepotistic reasons?",
         "1739",
         "1108",
         "10914",
         "178",
         "4614135.0",
         "260",
         "2023-05-18 17:50:22+00:00"
        ],
        [
         "33",
         "1658917219865362434",
         "2023-05-17 19:27:41+00:00",
         "Starlink in the Amazon 🇧🇷 👏",
         "https://x.com/Starlink/status/1658917219865362434",
         "https://twitter.com/Starlink/status/1658917219865362434",
         "Starlink",
         "653",
         "297",
         "5200",
         "111",
         "21158090.0",
         "84",
         "1658918251861082120",
         "Love to see Starlink providing great connectivity to those who had little or nothing before. \n\nAs soon as you can access the Internet, you can learn almost anything, so it’s absolutely essential for education.\n\n@khanacademy being a great example.",
         "9247",
         "6894",
         "82692",
         "696",
         "20595781.0",
         "409",
         "2023-05-17 19:31:47+00:00"
        ],
        [
         "34",
         "1658150721802448905",
         "2023-05-15 16:41:53+00:00",
         "Tesla Annual Shareholder Meeting 2023 https://t.co/YsihrVo3wi",
         "https://x.com/Tesla/status/1658150721802448905",
         "https://twitter.com/Tesla/status/1658150721802448905",
         "Tesla",
         "2322",
         "629",
         "6820",
         "214",
         "17281588.0",
         "310",
         "1658564606984441859",
         "Tesla shareholder meeting underway",
         "4033",
         "3153",
         "42667",
         "246",
         "15528419.0",
         "306",
         "2023-05-16 20:06:31+00:00"
        ],
        [
         "35",
         "1658515506327085056",
         "2023-05-16 16:51:25+00:00",
         "With Starlink, users can engage in online gaming which historically wasn’t possible with satellite internet. \n\nBack in December, the Starlink team supported the @FortniteGame Chapter 4 release with @FindYourBattle—enabling ~100 hours of gameplay and ~50 hours of streaming for multiple gamers around the world—including during a snowstorm in Japan ❄️❄️❄️",
         "https://x.com/Starlink/status/1658515506327085056",
         "https://twitter.com/Starlink/status/1658515506327085056",
         "Starlink",
         "1676",
         "894",
         "13435",
         "117",
         "24475007.0",
         "188",
         "1658525853934813201",
         "As more satellites &amp; ground stations are added, latency &amp; jitter will improve. Goal is &lt;20ms latency.",
         "4050",
         "3480",
         "39480",
         "258",
         "15027598.0",
         "173",
         "2023-05-16 17:32:32+00:00"
        ],
        [
         "36",
         "1658272973239857152",
         "2023-05-16 00:47:40+00:00",
         "Keeping the power on after a hurricane https://t.co/U23Rst5wDQ",
         "https://x.com/Tesla_Megapack/status/1658272973239857152",
         "https://twitter.com/Tesla_Megapack/status/1658272973239857152",
         "Tesla_Megapack",
         "348",
         "103",
         "2680",
         "45",
         "21762247.0",
         "72",
         "1658284090691338241",
         "Tesla Powerwall does the seem for individual homes (if you have the backup switch installed)\nhttps://t.co/mY2WHe1KE1",
         "5199",
         "3258",
         "39552",
         "265",
         "21682050.0",
         "343",
         "2023-05-16 01:31:51+00:00"
        ],
        [
         "37",
         "1656959033155149824",
         "2023-05-12 09:46:32+00:00",
         "I already liked the original version of Simon and Garfunkel but this remix is ​​exceptional!\n\n It gives me chills every time I hear it! https://t.co/J0n0WddKuj",
         "https://x.com/dvorahfr/status/1656959033155149824",
         "https://twitter.com/dvorahfr/status/1656959033155149824",
         "dvorahfr",
         "1768",
         "1020",
         "9512",
         "401",
         "23019791.0",
         "1655",
         "1657576561288138752",
         "Poetry with quill 🪶 \nWritten on rose 🌹 \nWith my blood 🩸",
         "5635",
         "6048",
         "42312",
         "630",
         "22867349.0",
         "1991",
         "2023-05-14 02:40:23+00:00"
        ],
        [
         "38",
         "1657021799652024324",
         "2023-05-12 13:55:57+00:00",
         "Covid Retrospective Series, Vol. 1\n\nMedia: The Unvaccinated Are Scum https://t.co/hPvLfEtW3O",
         "https://x.com/tomselliott/status/1657021799652024324",
         "https://twitter.com/tomselliott/status/1657021799652024324",
         "tomselliott",
         "27832",
         "7564",
         "73513",
         "9155",
         "68855765.0",
         "20060",
         "1657573239298588673",
         "Until the Supreme Court struck down Biden’s vaccination decree, he tried to demand that we fire all unvaccinated personnel – some of our finest people",
         "87376",
         "28743",
         "349574",
         "5887",
         "62433948.0",
         "14272",
         "2023-05-14 02:27:11+00:00"
        ],
        [
         "39",
         "1586279455978180608",
         "2022-10-29 08:51:08+00:00",
         "One of them claimed to be a data engineer, who had been working with Twitter for 6 years.\n\nWhile using the pseudonym of 'Daniel Johnson', he lamented, \"I own a Tesla. How am I going to make car payments?\"\n(2/n) https://t.co/qAlBwiE6dR",
         "https://x.com/OpIndia_com/status/1586279455978180608",
         "https://twitter.com/OpIndia_com/status/1586279455978180608",
         "OpIndia_com",
         "874",
         "551",
         "7739",
         "156",
         null,
         "466",
         "1657569498289909762",
         "Feels so long ago …",
         "8497",
         "5908",
         "72829",
         "998",
         "35625297.0",
         "1348",
         "2023-05-14 02:12:19+00:00"
        ],
        [
         "40",
         "1656748197308674048",
         "2023-05-11 19:48:45+00:00",
         "Excited to announce that I’ve hired a new CEO for X/Twitter. She will be starting in ~6 weeks!\n\nMy role will transition to being exec chair &amp; CTO, overseeing product, software &amp; sysops.",
         "https://x.com/elonmusk/status/1656748197308674048",
         "https://twitter.com/elonmusk/status/1656748197308674048",
         "elonmusk",
         "30150",
         "31364",
         "361878",
         "9699",
         "120525183.0",
         "2900",
         "1657050349608501249",
         "I am excited to welcome Linda Yaccarino as the new CEO of Twitter!\n\n@LindaYacc will focus primarily on business operations, while I focus on product design &amp; new technology.\n\nLooking forward to working with Linda to transform this platform into X, the everything app.",
         "24273",
         "48138",
         "213386",
         "9439",
         "84042223.0",
         "2782",
         "2023-05-12 15:49:24+00:00"
        ],
        [
         "41",
         "1656692810517737472",
         "2023-05-11 16:08:40+00:00",
         "Starlink setup instructions:\n- Plug it in\n- Point at sky\n\nThese instructions work in either order. No training required.",
         "https://x.com/Starlink/status/1656692810517737472",
         "https://twitter.com/Starlink/status/1656692810517737472",
         "Starlink",
         "929",
         "634",
         "7922",
         "120",
         "16068260.0",
         "223",
         "1656720044666281984",
         "Super easy to use Starlink out of the box, no professional installer needed!",
         "4662",
         "4776",
         "41832",
         "346",
         "12637637.0",
         "285",
         "2023-05-11 17:56:53+00:00"
        ],
        [
         "42",
         "1656535570825502720",
         "2023-05-11 05:43:51+00:00",
         "If people understood how good the driving experience is with a @Tesla, they'd never be able to build enough at any price. My trip to Texas to see @SpaceX's SuperHeavy/Starship initial launch was my first time driving a Tesla Model Y for an extended trip. \n\nI drove 1500 miles across Texas, from San Antonio to Brownsville, and then all the way up to near Fort Worth over 10 days. For 7 of those days, I camped out in the back of the Model Y using its \"Camp Mode\", keeping me cool in the heat and humidity of the Texas Gulf Coast. All of that driving and the AC only cost me $151. \n\nThe integration with your phone is amazing: \n1) You never have to lock your car, it locks it when you walk away, and unlocks it when you return. \n2) Want a comfortable car when you get in, turn the climate control on from your phone. \n3) Some idiot parked too close to your driver's door? Just use your phone to back it out. \n\nI can't wait to get mine! Starting July 1st, Colorado will provide a $5000 rebate to the $7,500 federal rebate. This means that you'll be able to get a base Model Y for $29,740. Note: The price below only includes $2000 Colorado's 7/1/2023 $5000 rebate.",
         "https://x.com/davewolfusa/status/1656535570825502720",
         "https://twitter.com/davewolfusa/status/1656535570825502720",
         "davewolfusa",
         "785",
         "1114",
         "8097",
         "156",
         "15109505.0",
         "317",
         "1656692047791919105",
         "Thanks Dave!",
         "3141",
         "3566",
         "37620",
         "240",
         "11883662.0",
         "169",
         "2023-05-11 16:05:38+00:00"
        ],
        [
         "43",
         "1656069773245947907",
         "2023-05-09 22:52:56+00:00",
         "Giga Texas achieves production of 5k Model Y/week https://t.co/WwZrv3CYae",
         "https://x.com/Tesla/status/1656069773245947907",
         "https://twitter.com/Tesla/status/1656069773245947907",
         "Tesla",
         "1449",
         "558",
         "12043",
         "216",
         "15448489.0",
         "81",
         "1656142626754822144",
         "Congratulations Tesla Texas Team!!",
         "4199",
         "2490",
         "58690",
         "206",
         "12689171.0",
         "105",
         "2023-05-10 03:42:26+00:00"
        ],
        [
         "44",
         "1656037032538390530",
         "2023-05-09 20:42:50+00:00",
         "We’re back. https://t.co/sG5t9gr60O",
         "https://x.com/TuckerCarlson/status/1656037032538390530",
         "https://twitter.com/TuckerCarlson/status/1656037032538390530",
         "TuckerCarlson",
         "187098",
         "74997",
         "912860",
         "26008",
         "139005619.0",
         "22269",
         "1656079504778092544",
         "On this platform, unlike the one-way street of broadcast, people are able to interact, critique and refute whatever is said. \n\nAnd, of course, anything misleading will get @CommunityNotes. \n\nI also want to be clear that we have not signed a deal of any kind whatsoever. Tucker is",
         "36348",
         "14509",
         "284376",
         "2532",
         "54887309.0",
         "4401",
         "2023-05-09 23:31:37+00:00"
        ],
        [
         "45",
         "1654856617723301888",
         "2023-05-06 14:32:18+00:00",
         "WhatsApp has been using the microphone in the background, while I was asleep and since I woke up at 6AM (and that's just a part of the timeline!) What's going on? https://t.co/pNIfe4VlHV",
         "https://x.com/foaddabiri/status/1654856617723301888",
         "https://twitter.com/foaddabiri/status/1654856617723301888",
         "foaddabiri",
         "6395",
         "4034",
         "24440",
         "2421",
         "101733094.0",
         "3227",
         "1655967673107337216",
         "WhatsApp cannot be trusted",
         "43017",
         "19400",
         "254646",
         "4228",
         "94197059.0",
         "6906",
         "2023-05-09 16:07:14+00:00"
        ],
        [
         "46",
         "1655596008246587394",
         "2023-05-08 15:30:22+00:00",
         "Tesla Lithium Refinery groundbreaking will be streamed live on Twitter at 3 PM CDT",
         "https://x.com/Tesla/status/1655596008246587394",
         "https://twitter.com/Tesla/status/1655596008246587394",
         "Tesla",
         "1495",
         "691",
         "12915",
         "185",
         "13806163.0",
         "126",
         "1655661734244261891",
         "Livestream starting soon",
         "1754",
         "1719",
         "20426",
         "103",
         "9055677.0",
         "82",
         "2023-05-08 19:51:32+00:00"
        ],
        [
         "47",
         "1641596848921276417",
         "2023-03-31 00:22:42+00:00",
         "Verified Organizations is a new way for organizations and their affiliates to distinguish themselves on Twitter. Rather than relying on Twitter to be the sole arbiter of truth for which accounts should be verified, vetted organizations that sign up for Verified Organizations are in full control of vetting and verifying accounts they’re affiliated with.\n\nAccounts affiliated with the organization will receive an affiliate badge on their profile with the organization’s logo, and will be featured on the organization’s Twitter profile, indicating their affiliation. All organizations are vetted before they can join Verified Organizations.\n\nWe’ve already seen organizations, including sports teams, news organizations, financial firms, Fortune 500 companies, and nonprofits join Verified Organizations and list their affiliated accounts publicly on their profiles. And starting today, Verified Organizations are available globally. We are now sending email invitations to approved organizations from the waitlist.\n\nInterested businesses, nonprofits, governments, and multilateral organizations around the world can join the waitlist here: https://t.co/9u2Om2efBz",
         "https://x.com/verified/status/1641596848921276417",
         "https://twitter.com/verified/status/1641596848921276417",
         "verified",
         "1685",
         "1261",
         "8153",
         "1006",
         "98695678.0",
         "1418",
         "1654680950163361792",
         "Highly recommend that organizations sign up and validate their affiliates to prevent impersonation",
         "3297",
         "3017",
         "26828",
         "393",
         "13018346.0",
         "204",
         "2023-05-06 02:54:15+00:00"
        ],
        [
         "48",
         "1653418134068662272",
         "2023-05-02 15:16:16+00:00",
         "Stage separation at sunset, followed by second stage engine startup, and payload fairing deploy https://t.co/QOecwdHx4s",
         "https://x.com/SpaceX/status/1653418134068662272",
         "https://twitter.com/SpaceX/status/1653418134068662272",
         "SpaceX",
         "3583",
         "864",
         "30214",
         "370",
         "17257592.0",
         "606",
         "1653420591607607297",
         "Sunset in space",
         "7358",
         "4750",
         "83915",
         "383",
         "14904611.0",
         "681",
         "2023-05-02 15:26:02+00:00"
        ],
        [
         "49",
         "1652049665184137216",
         "2023-04-28 20:38:28+00:00",
         "Sharing another update on the changes we’ve made to our open source repos this week and a preview of what’s next 🧵\n\nhttps://t.co/sF9ebF0s2X",
         "https://x.com/XEng/status/1652049665184137216",
         "https://twitter.com/XEng/status/1652049665184137216",
         "XEng",
         "423",
         "118",
         "2479",
         "56",
         "11244140.0",
         "358",
         "1652335652187553794",
         "Major software upgrades underway across the board. \n\nEncrypted DMs &amp; other DM upgrades rolling out this week.",
         "3704",
         "2527",
         "31253",
         "393",
         "11132184.0",
         "220",
         "2023-04-29 15:34:53+00:00"
        ]
       ],
       "shape": {
        "columns": 21,
        "rows": 7273
       }
      },
      "text/html": [
       "<div>\n",
       "<style scoped>\n",
       "    .dataframe tbody tr th:only-of-type {\n",
       "        vertical-align: middle;\n",
       "    }\n",
       "\n",
       "    .dataframe tbody tr th {\n",
       "        vertical-align: top;\n",
       "    }\n",
       "\n",
       "    .dataframe thead th {\n",
       "        text-align: right;\n",
       "    }\n",
       "</style>\n",
       "<table border=\"1\" class=\"dataframe\">\n",
       "  <thead>\n",
       "    <tr style=\"text-align: right;\">\n",
       "      <th></th>\n",
       "      <th>orig_tweet_id</th>\n",
       "      <th>orig_tweet_created_at</th>\n",
       "      <th>orig_tweet_text</th>\n",
       "      <th>orig_tweet_url</th>\n",
       "      <th>orig_tweet_twitter_url</th>\n",
       "      <th>orig_tweet_username</th>\n",
       "      <th>orig_tweet_retweet_count</th>\n",
       "      <th>orig_tweet_reply_count</th>\n",
       "      <th>orig_tweet_like_count</th>\n",
       "      <th>orig_tweet_quote_count</th>\n",
       "      <th>...</th>\n",
       "      <th>orig_tweet_bookmark_count</th>\n",
       "      <th>musk_tweet_id</th>\n",
       "      <th>musk_quote_tweet</th>\n",
       "      <th>musk_quote_retweet_count</th>\n",
       "      <th>musk_quote_reply_count</th>\n",
       "      <th>musk_quote_like_count</th>\n",
       "      <th>musk_quote_quote_count</th>\n",
       "      <th>musk_quote_view_count</th>\n",
       "      <th>musk_quote_bookmark_count</th>\n",
       "      <th>musk_quote_created_at</th>\n",
       "    </tr>\n",
       "  </thead>\n",
       "  <tbody>\n",
       "    <tr>\n",
       "      <th>0</th>\n",
       "      <td>1655977349530243074</td>\n",
       "      <td>2023-05-09 16:45:41+00:00</td>\n",
       "      <td>Hot take:\\n\\n@Twitter can become the world's n...</td>\n",
       "      <td>https://x.com/GuyDealership/status/16559773495...</td>\n",
       "      <td>https://twitter.com/GuyDealership/status/16559...</td>\n",
       "      <td>GuyDealership</td>\n",
       "      <td>632</td>\n",
       "      <td>497</td>\n",
       "      <td>7730</td>\n",
       "      <td>123</td>\n",
       "      <td>...</td>\n",
       "      <td>387</td>\n",
       "      <td>1655978502187778073</td>\n",
       "      <td>Yup</td>\n",
       "      <td>3255</td>\n",
       "      <td>3747</td>\n",
       "      <td>39533</td>\n",
       "      <td>225</td>\n",
       "      <td>11392206.0</td>\n",
       "      <td>281</td>\n",
       "      <td>2023-05-09 16:50:16+00:00</td>\n",
       "    </tr>\n",
       "    <tr>\n",
       "      <th>1</th>\n",
       "      <td>1655968201422012418</td>\n",
       "      <td>2023-05-09 16:09:20+00:00</td>\n",
       "      <td>If Legacy Media is going to shove bigotry porn...</td>\n",
       "      <td>https://x.com/TheRabbitHole84/status/165596820...</td>\n",
       "      <td>https://twitter.com/TheRabbitHole84/status/165...</td>\n",
       "      <td>TheRabbitHole84</td>\n",
       "      <td>1409</td>\n",
       "      <td>412</td>\n",
       "      <td>5328</td>\n",
       "      <td>264</td>\n",
       "      <td>...</td>\n",
       "      <td>633</td>\n",
       "      <td>1655968899903418373</td>\n",
       "      <td>Massive public manipulation</td>\n",
       "      <td>9811</td>\n",
       "      <td>2694</td>\n",
       "      <td>49528</td>\n",
       "      <td>534</td>\n",
       "      <td>14404853.0</td>\n",
       "      <td>1241</td>\n",
       "      <td>2023-05-09 16:12:06+00:00</td>\n",
       "    </tr>\n",
       "    <tr>\n",
       "      <th>2</th>\n",
       "      <td>1647327385342320640</td>\n",
       "      <td>2023-04-15 19:53:49+00:00</td>\n",
       "      <td>Starlink provides internet to the most remote ...</td>\n",
       "      <td>https://x.com/teslaownersSV/status/16473273853...</td>\n",
       "      <td>https://twitter.com/teslaownersSV/status/16473...</td>\n",
       "      <td>teslaownersSV</td>\n",
       "      <td>1253</td>\n",
       "      <td>800</td>\n",
       "      <td>8472</td>\n",
       "      <td>175</td>\n",
       "      <td>...</td>\n",
       "      <td>173</td>\n",
       "      <td>1647339741610926080</td>\n",
       "      <td>💯</td>\n",
       "      <td>8257</td>\n",
       "      <td>4793</td>\n",
       "      <td>106036</td>\n",
       "      <td>376</td>\n",
       "      <td>18520248.0</td>\n",
       "      <td>366</td>\n",
       "      <td>2023-04-15 20:42:55+00:00</td>\n",
       "    </tr>\n",
       "    <tr>\n",
       "      <th>3</th>\n",
       "      <td>1646226917387796491</td>\n",
       "      <td>2023-04-12 19:00:57+00:00</td>\n",
       "      <td>National Public Radio Denies Being National Or...</td>\n",
       "      <td>https://x.com/TheBabylonBee/status/16462269173...</td>\n",
       "      <td>https://twitter.com/TheBabylonBee/status/16462...</td>\n",
       "      <td>TheBabylonBee</td>\n",
       "      <td>4781</td>\n",
       "      <td>701</td>\n",
       "      <td>37752</td>\n",
       "      <td>442</td>\n",
       "      <td>...</td>\n",
       "      <td>167</td>\n",
       "      <td>1646228474628280326</td>\n",
       "      <td>🤣🤣</td>\n",
       "      <td>10198</td>\n",
       "      <td>5076</td>\n",
       "      <td>108462</td>\n",
       "      <td>430</td>\n",
       "      <td>16690340.0</td>\n",
       "      <td>340</td>\n",
       "      <td>2023-04-12 19:07:08+00:00</td>\n",
       "    </tr>\n",
       "    <tr>\n",
       "      <th>4</th>\n",
       "      <td>1640016339011076097</td>\n",
       "      <td>2023-03-26 15:42:19+00:00</td>\n",
       "      <td>Arthur C. Clarke about the future of AI. \\n—21...</td>\n",
       "      <td>https://x.com/Rainmaker1973/status/16400163390...</td>\n",
       "      <td>https://twitter.com/Rainmaker1973/status/16400...</td>\n",
       "      <td>Rainmaker1973</td>\n",
       "      <td>5409</td>\n",
       "      <td>737</td>\n",
       "      <td>20773</td>\n",
       "      <td>814</td>\n",
       "      <td>...</td>\n",
       "      <td>3333</td>\n",
       "      <td>1640171198091866114</td>\n",
       "      <td>Prescient</td>\n",
       "      <td>9193</td>\n",
       "      <td>5118</td>\n",
       "      <td>56272</td>\n",
       "      <td>572</td>\n",
       "      <td>25169601.0</td>\n",
       "      <td>3792</td>\n",
       "      <td>2023-03-27 01:57:41+00:00</td>\n",
       "    </tr>\n",
       "    <tr>\n",
       "      <th>...</th>\n",
       "      <td>...</td>\n",
       "      <td>...</td>\n",
       "      <td>...</td>\n",
       "      <td>...</td>\n",
       "      <td>...</td>\n",
       "      <td>...</td>\n",
       "      <td>...</td>\n",
       "      <td>...</td>\n",
       "      <td>...</td>\n",
       "      <td>...</td>\n",
       "      <td>...</td>\n",
       "      <td>...</td>\n",
       "      <td>...</td>\n",
       "      <td>...</td>\n",
       "      <td>...</td>\n",
       "      <td>...</td>\n",
       "      <td>...</td>\n",
       "      <td>...</td>\n",
       "      <td>...</td>\n",
       "      <td>...</td>\n",
       "      <td>...</td>\n",
       "    </tr>\n",
       "    <tr>\n",
       "      <th>7268</th>\n",
       "      <td>1863836642152460677</td>\n",
       "      <td>2024-12-03 06:44:18+00:00</td>\n",
       "      <td>Let me keep it simple to explain how crazy thi...</td>\n",
       "      <td>https://x.com/Teslaconomics/status/18638366421...</td>\n",
       "      <td>https://twitter.com/Teslaconomics/status/18638...</td>\n",
       "      <td>Teslaconomics</td>\n",
       "      <td>5709</td>\n",
       "      <td>2550</td>\n",
       "      <td>26709</td>\n",
       "      <td>457</td>\n",
       "      <td>...</td>\n",
       "      <td>1429</td>\n",
       "      <td>1863940348277293127</td>\n",
       "      <td>Lawfare</td>\n",
       "      <td>8221</td>\n",
       "      <td>2955</td>\n",
       "      <td>55390</td>\n",
       "      <td>255</td>\n",
       "      <td>33913330.0</td>\n",
       "      <td>1253</td>\n",
       "      <td>2024-12-03 13:36:24+00:00</td>\n",
       "    </tr>\n",
       "    <tr>\n",
       "      <th>7269</th>\n",
       "      <td>1863771172485104124</td>\n",
       "      <td>2024-12-03 02:24:09+00:00</td>\n",
       "      <td>🧵🚨 1. Of all the deceptive sales techniques th...</td>\n",
       "      <td>https://x.com/BasedMikeLee/status/186377117248...</td>\n",
       "      <td>https://twitter.com/BasedMikeLee/status/186377...</td>\n",
       "      <td>BasedMikeLee</td>\n",
       "      <td>17337</td>\n",
       "      <td>3364</td>\n",
       "      <td>47954</td>\n",
       "      <td>2880</td>\n",
       "      <td>...</td>\n",
       "      <td>19986</td>\n",
       "      <td>1863777030766022779</td>\n",
       "      <td>Interesting thread</td>\n",
       "      <td>23043</td>\n",
       "      <td>5513</td>\n",
       "      <td>102248</td>\n",
       "      <td>984</td>\n",
       "      <td>37275852.0</td>\n",
       "      <td>16916</td>\n",
       "      <td>2024-12-03 02:47:26+00:00</td>\n",
       "    </tr>\n",
       "    <tr>\n",
       "      <th>7270</th>\n",
       "      <td>1863766204973768744</td>\n",
       "      <td>2024-12-03 02:04:25+00:00</td>\n",
       "      <td>In 2023 alone, illegal immigration cost taxpay...</td>\n",
       "      <td>https://x.com/DOGE/status/1863766204973768744</td>\n",
       "      <td>https://twitter.com/DOGE/status/18637662049737...</td>\n",
       "      <td>DOGE</td>\n",
       "      <td>12121</td>\n",
       "      <td>3673</td>\n",
       "      <td>42390</td>\n",
       "      <td>1170</td>\n",
       "      <td>...</td>\n",
       "      <td>4029</td>\n",
       "      <td>1863767695491018989</td>\n",
       "      <td>The scale of spending on illegal immigration b...</td>\n",
       "      <td>29542</td>\n",
       "      <td>7176</td>\n",
       "      <td>139019</td>\n",
       "      <td>851</td>\n",
       "      <td>61070571.0</td>\n",
       "      <td>3398</td>\n",
       "      <td>2024-12-03 02:10:20+00:00</td>\n",
       "    </tr>\n",
       "    <tr>\n",
       "      <th>7271</th>\n",
       "      <td>1863730393930735634</td>\n",
       "      <td>2024-12-02 23:42:07+00:00</td>\n",
       "      <td>A Delaware judge just overruled a supermajorit...</td>\n",
       "      <td>https://x.com/Tesla/status/1863730393930735634</td>\n",
       "      <td>https://twitter.com/Tesla/status/1863730393930...</td>\n",
       "      <td>Tesla</td>\n",
       "      <td>9485</td>\n",
       "      <td>5201</td>\n",
       "      <td>64744</td>\n",
       "      <td>1355</td>\n",
       "      <td>...</td>\n",
       "      <td>1761</td>\n",
       "      <td>1863752579504628189</td>\n",
       "      <td>Shareholders should control company votes, not...</td>\n",
       "      <td>25938</td>\n",
       "      <td>10479</td>\n",
       "      <td>209540</td>\n",
       "      <td>1267</td>\n",
       "      <td>59029890.0</td>\n",
       "      <td>3091</td>\n",
       "      <td>2024-12-03 01:10:16+00:00</td>\n",
       "    </tr>\n",
       "    <tr>\n",
       "      <th>7272</th>\n",
       "      <td>1863737832818479385</td>\n",
       "      <td>2024-12-03 00:11:40+00:00</td>\n",
       "      <td>It used to be automatic for startups to incorp...</td>\n",
       "      <td>https://x.com/paulg/status/1863737832818479385</td>\n",
       "      <td>https://twitter.com/paulg/status/1863737832818...</td>\n",
       "      <td>paulg</td>\n",
       "      <td>1248</td>\n",
       "      <td>574</td>\n",
       "      <td>12128</td>\n",
       "      <td>134</td>\n",
       "      <td>...</td>\n",
       "      <td>433</td>\n",
       "      <td>1863740028406337896</td>\n",
       "      <td>Absolutely</td>\n",
       "      <td>9675</td>\n",
       "      <td>2253</td>\n",
       "      <td>81839</td>\n",
       "      <td>151</td>\n",
       "      <td>40855449.0</td>\n",
       "      <td>1051</td>\n",
       "      <td>2024-12-03 00:20:24+00:00</td>\n",
       "    </tr>\n",
       "  </tbody>\n",
       "</table>\n",
       "<p>7273 rows × 21 columns</p>\n",
       "</div>"
      ],
      "text/plain": [
       "            orig_tweet_id      orig_tweet_created_at  \\\n",
       "0     1655977349530243074  2023-05-09 16:45:41+00:00   \n",
       "1     1655968201422012418  2023-05-09 16:09:20+00:00   \n",
       "2     1647327385342320640  2023-04-15 19:53:49+00:00   \n",
       "3     1646226917387796491  2023-04-12 19:00:57+00:00   \n",
       "4     1640016339011076097  2023-03-26 15:42:19+00:00   \n",
       "...                   ...                        ...   \n",
       "7268  1863836642152460677  2024-12-03 06:44:18+00:00   \n",
       "7269  1863771172485104124  2024-12-03 02:24:09+00:00   \n",
       "7270  1863766204973768744  2024-12-03 02:04:25+00:00   \n",
       "7271  1863730393930735634  2024-12-02 23:42:07+00:00   \n",
       "7272  1863737832818479385  2024-12-03 00:11:40+00:00   \n",
       "\n",
       "                                        orig_tweet_text  \\\n",
       "0     Hot take:\\n\\n@Twitter can become the world's n...   \n",
       "1     If Legacy Media is going to shove bigotry porn...   \n",
       "2     Starlink provides internet to the most remote ...   \n",
       "3     National Public Radio Denies Being National Or...   \n",
       "4     Arthur C. Clarke about the future of AI. \\n—21...   \n",
       "...                                                 ...   \n",
       "7268  Let me keep it simple to explain how crazy thi...   \n",
       "7269  🧵🚨 1. Of all the deceptive sales techniques th...   \n",
       "7270  In 2023 alone, illegal immigration cost taxpay...   \n",
       "7271  A Delaware judge just overruled a supermajorit...   \n",
       "7272  It used to be automatic for startups to incorp...   \n",
       "\n",
       "                                         orig_tweet_url  \\\n",
       "0     https://x.com/GuyDealership/status/16559773495...   \n",
       "1     https://x.com/TheRabbitHole84/status/165596820...   \n",
       "2     https://x.com/teslaownersSV/status/16473273853...   \n",
       "3     https://x.com/TheBabylonBee/status/16462269173...   \n",
       "4     https://x.com/Rainmaker1973/status/16400163390...   \n",
       "...                                                 ...   \n",
       "7268  https://x.com/Teslaconomics/status/18638366421...   \n",
       "7269  https://x.com/BasedMikeLee/status/186377117248...   \n",
       "7270      https://x.com/DOGE/status/1863766204973768744   \n",
       "7271     https://x.com/Tesla/status/1863730393930735634   \n",
       "7272     https://x.com/paulg/status/1863737832818479385   \n",
       "\n",
       "                                 orig_tweet_twitter_url orig_tweet_username  \\\n",
       "0     https://twitter.com/GuyDealership/status/16559...       GuyDealership   \n",
       "1     https://twitter.com/TheRabbitHole84/status/165...     TheRabbitHole84   \n",
       "2     https://twitter.com/teslaownersSV/status/16473...       teslaownersSV   \n",
       "3     https://twitter.com/TheBabylonBee/status/16462...       TheBabylonBee   \n",
       "4     https://twitter.com/Rainmaker1973/status/16400...       Rainmaker1973   \n",
       "...                                                 ...                 ...   \n",
       "7268  https://twitter.com/Teslaconomics/status/18638...       Teslaconomics   \n",
       "7269  https://twitter.com/BasedMikeLee/status/186377...        BasedMikeLee   \n",
       "7270  https://twitter.com/DOGE/status/18637662049737...                DOGE   \n",
       "7271  https://twitter.com/Tesla/status/1863730393930...               Tesla   \n",
       "7272  https://twitter.com/paulg/status/1863737832818...               paulg   \n",
       "\n",
       "      orig_tweet_retweet_count  orig_tweet_reply_count  orig_tweet_like_count  \\\n",
       "0                          632                     497                   7730   \n",
       "1                         1409                     412                   5328   \n",
       "2                         1253                     800                   8472   \n",
       "3                         4781                     701                  37752   \n",
       "4                         5409                     737                  20773   \n",
       "...                        ...                     ...                    ...   \n",
       "7268                      5709                    2550                  26709   \n",
       "7269                     17337                    3364                  47954   \n",
       "7270                     12121                    3673                  42390   \n",
       "7271                      9485                    5201                  64744   \n",
       "7272                      1248                     574                  12128   \n",
       "\n",
       "      orig_tweet_quote_count  ...  orig_tweet_bookmark_count  \\\n",
       "0                        123  ...                        387   \n",
       "1                        264  ...                        633   \n",
       "2                        175  ...                        173   \n",
       "3                        442  ...                        167   \n",
       "4                        814  ...                       3333   \n",
       "...                      ...  ...                        ...   \n",
       "7268                     457  ...                       1429   \n",
       "7269                    2880  ...                      19986   \n",
       "7270                    1170  ...                       4029   \n",
       "7271                    1355  ...                       1761   \n",
       "7272                     134  ...                        433   \n",
       "\n",
       "            musk_tweet_id                                   musk_quote_tweet  \\\n",
       "0     1655978502187778073                                                Yup   \n",
       "1     1655968899903418373                        Massive public manipulation   \n",
       "2     1647339741610926080                                                  💯   \n",
       "3     1646228474628280326                                                 🤣🤣   \n",
       "4     1640171198091866114                                          Prescient   \n",
       "...                   ...                                                ...   \n",
       "7268  1863940348277293127                                            Lawfare   \n",
       "7269  1863777030766022779                                 Interesting thread   \n",
       "7270  1863767695491018989  The scale of spending on illegal immigration b...   \n",
       "7271  1863752579504628189  Shareholders should control company votes, not...   \n",
       "7272  1863740028406337896                                         Absolutely   \n",
       "\n",
       "     musk_quote_retweet_count  musk_quote_reply_count  musk_quote_like_count  \\\n",
       "0                        3255                    3747                  39533   \n",
       "1                        9811                    2694                  49528   \n",
       "2                        8257                    4793                 106036   \n",
       "3                       10198                    5076                 108462   \n",
       "4                        9193                    5118                  56272   \n",
       "...                       ...                     ...                    ...   \n",
       "7268                     8221                    2955                  55390   \n",
       "7269                    23043                    5513                 102248   \n",
       "7270                    29542                    7176                 139019   \n",
       "7271                    25938                   10479                 209540   \n",
       "7272                     9675                    2253                  81839   \n",
       "\n",
       "      musk_quote_quote_count  musk_quote_view_count  \\\n",
       "0                        225             11392206.0   \n",
       "1                        534             14404853.0   \n",
       "2                        376             18520248.0   \n",
       "3                        430             16690340.0   \n",
       "4                        572             25169601.0   \n",
       "...                      ...                    ...   \n",
       "7268                     255             33913330.0   \n",
       "7269                     984             37275852.0   \n",
       "7270                     851             61070571.0   \n",
       "7271                    1267             59029890.0   \n",
       "7272                     151             40855449.0   \n",
       "\n",
       "      musk_quote_bookmark_count      musk_quote_created_at  \n",
       "0                           281  2023-05-09 16:50:16+00:00  \n",
       "1                          1241  2023-05-09 16:12:06+00:00  \n",
       "2                           366  2023-04-15 20:42:55+00:00  \n",
       "3                           340  2023-04-12 19:07:08+00:00  \n",
       "4                          3792  2023-03-27 01:57:41+00:00  \n",
       "...                         ...                        ...  \n",
       "7268                       1253  2024-12-03 13:36:24+00:00  \n",
       "7269                      16916  2024-12-03 02:47:26+00:00  \n",
       "7270                       3398  2024-12-03 02:10:20+00:00  \n",
       "7271                       3091  2024-12-03 01:10:16+00:00  \n",
       "7272                       1051  2024-12-03 00:20:24+00:00  \n",
       "\n",
       "[7273 rows x 21 columns]"
      ]
     },
     "execution_count": 20,
     "metadata": {},
     "output_type": "execute_result"
    }
   ],
   "source": [
    "musk_quote_tweets"
   ]
  },
  {
   "cell_type": "code",
   "execution_count": 21,
   "id": "d9e45589",
   "metadata": {},
   "outputs": [
    {
     "data": {
      "text/plain": [
       "<Figure size 1200x600 with 0 Axes>"
      ]
     },
     "metadata": {},
     "output_type": "display_data"
    },
    {
     "data": {
      "image/png": "[encoded data removed]",
      "text/plain": [
       "<Figure size 2500x1000 with 2 Axes>"
      ]
     },
     "metadata": {},
     "output_type": "display_data"
    }
   ],
   "source": [
    "## Datenübersicht\n",
    "plt.figure(figsize=(12, 6))\n",
    "msno.matrix(all_musk_posts)\n",
    "plt.title('Missing Data Matrix (White = Missing)')\n",
    "plt.show()"
   ]
  },
  {
   "cell_type": "code",
   "execution_count": 22,
   "id": "c25ad7ee",
   "metadata": {},
   "outputs": [
    {
     "data": {
      "text/plain": [
       "<Figure size 1200x600 with 0 Axes>"
      ]
     },
     "metadata": {},
     "output_type": "display_data"
    },
    {
     "data": {
      "image/png": "[encoded data removed]",
      "text/plain": [
       "<Figure size 2500x1000 with 2 Axes>"
      ]
     },
     "metadata": {},
     "output_type": "display_data"
    }
   ],
   "source": [
    "plt.figure(figsize=(12, 6))\n",
    "msno.matrix(musk_quote_tweets)\n",
    "plt.title('Missing Data Matrix (White = Missing)')\n",
    "plt.show()"
   ]
  },
  {
   "cell_type": "code",
   "execution_count": 82,
   "id": "f7e47566",
   "metadata": {},
   "outputs": [
    {
     "name": "stdout",
     "output_type": "stream",
     "text": [
      "Original tweets: 52042\n",
      "After cleaning: 52042\n",
      "Removed 0 tweets\n"
     ]
    }
   ],
   "source": [
    "def preprocess_tweets(df, text_column='fullText'):\n",
    "    # Create a copy to avoid modifying original data\n",
    "    df_clean = df.copy()\n",
    "    \n",
    "    # Handle missing values\n",
    "    df_clean[text_column] = df_clean[text_column].fillna('')\n",
    "    \n",
    "    # Convert to string and lowercase\n",
    "    df_clean[text_column] = df_clean[text_column].astype(str).str.lower()\n",
    "\n",
    "    df_clean['createdAt'] = pd.to_datetime(df_clean['createdAt'])\n",
    "    \n",
    "    # Combined regex pattern for better performance\n",
    "    def clean_text(text):\n",
    "        # Remove URLs\n",
    "        text = re.sub(r'https?://\\S+', '', text)\n",
    "        \n",
    "        # Remove mentions and hashtags\n",
    "        text = re.sub(r'@\\w+|#\\w+', '', text)\n",
    "        \n",
    "        # Remove extra whitespace and newlines\n",
    "        text = re.sub(r'\\s+', ' ', text)\n",
    "        \n",
    "        # Remove leading/trailing whitespace\n",
    "        text = text.strip()\n",
    "        \n",
    "        return text\n",
    "    \n",
    "    # Apply cleaning function\n",
    "    df_clean[text_column] = df_clean[text_column].apply(clean_text)\n",
    "    \n",
    "    # Remove very short tweets (less than 3 characters)\n",
    "    df_clean = df_clean[df_clean[text_column].str.len() >= 3]\n",
    "    \n",
    "    return df_clean\n",
    "\n",
    "# Apply preprocessing\n",
    "all_musk_posts_clean = preprocess_tweets(all_musk_posts)\n",
    "\n",
    "# Display some statistics\n",
    "print(f\"Original tweets: {len(all_musk_posts)}\")\n",
    "print(f\"After cleaning: {len(all_musk_posts_clean)}\")\n",
    "print(f\"Removed {len(all_musk_posts) - len(all_musk_posts_clean)} tweets\")\n",
    "\n",
    "# overwrite the original DataFrame with the cleaned one\n",
    "all_musk_posts = all_musk_posts_clean\n",
    "\n"
   ]
  },
  {
   "cell_type": "code",
   "execution_count": 61,
   "id": "987773e5",
   "metadata": {},
   "outputs": [
    {
     "data": {
      "application/vnd.plotly.v1+json": {
       "config": {
        "plotlyServerURL": "https://plot.ly"
       },
       "data": [
        {
         "hovertemplate": "Date=%{x}<br>Number of Tweets=%{y}<extra></extra>",
         "legendgroup": "",
         "line": {
          "color": "#636efa",
          "dash": "solid"
         },
         "marker": {
          "symbol": "circle"
         },
         "mode": "lines",
         "name": "",
         "orientation": "v",
         "showlegend": false,
         "type": "scatter",
         "x": [
          "2010-06-01T00:00:00",
          "2011-12-01T00:00:00",
          "2012-01-01T00:00:00",
          "2012-02-01T00:00:00",
          "2012-03-01T00:00:00",
          "2012-04-01T00:00:00",
          "2012-05-01T00:00:00",
          "2012-06-01T00:00:00",
          "2012-07-01T00:00:00",
          "2012-08-01T00:00:00",
          "2012-09-01T00:00:00",
          "2012-10-01T00:00:00",
          "2012-11-01T00:00:00",
          "2012-12-01T00:00:00",
          "2013-01-01T00:00:00",
          "2013-02-01T00:00:00",
          "2013-03-01T00:00:00",
          "2013-04-01T00:00:00",
          "2013-05-01T00:00:00",
          "2013-06-01T00:00:00",
          "2013-07-01T00:00:00",
          "2013-08-01T00:00:00",
          "2013-09-01T00:00:00",
          "2013-10-01T00:00:00",
          "2013-11-01T00:00:00",
          "2013-12-01T00:00:00",
          "2014-01-01T00:00:00",
          "2014-02-01T00:00:00",
          "2014-03-01T00:00:00",
          "2014-04-01T00:00:00",
          "2014-05-01T00:00:00",
          "2014-06-01T00:00:00",
          "2014-07-01T00:00:00",
          "2014-08-01T00:00:00",
          "2014-09-01T00:00:00",
          "2014-10-01T00:00:00",
          "2014-11-01T00:00:00",
          "2014-12-01T00:00:00",
          "2015-01-01T00:00:00",
          "2015-02-01T00:00:00",
          "2015-03-01T00:00:00",
          "2015-04-01T00:00:00",
          "2015-05-01T00:00:00",
          "2015-06-01T00:00:00",
          "2015-07-01T00:00:00",
          "2015-08-01T00:00:00",
          "2015-09-01T00:00:00",
          "2015-10-01T00:00:00",
          "2015-11-01T00:00:00",
          "2015-12-01T00:00:00",
          "2016-01-01T00:00:00",
          "2016-02-01T00:00:00",
          "2016-03-01T00:00:00",
          "2016-04-01T00:00:00",
          "2016-05-01T00:00:00",
          "2016-06-01T00:00:00",
          "2016-07-01T00:00:00",
          "2016-08-01T00:00:00",
          "2016-09-01T00:00:00",
          "2016-10-01T00:00:00",
          "2016-11-01T00:00:00",
          "2016-12-01T00:00:00",
          "2017-01-01T00:00:00",
          "2017-02-01T00:00:00",
          "2017-03-01T00:00:00",
          "2017-04-01T00:00:00",
          "2017-05-01T00:00:00",
          "2017-06-01T00:00:00",
          "2017-07-01T00:00:00",
          "2017-08-01T00:00:00",
          "2017-09-01T00:00:00",
          "2017-10-01T00:00:00",
          "2017-11-01T00:00:00",
          "2017-12-01T00:00:00",
          "2018-01-01T00:00:00",
          "2018-02-01T00:00:00",
          "2018-03-01T00:00:00",
          "2018-04-01T00:00:00",
          "2018-05-01T00:00:00",
          "2018-06-01T00:00:00",
          "2018-07-01T00:00:00",
          "2018-08-01T00:00:00",
          "2018-09-01T00:00:00",
          "2018-10-01T00:00:00",
          "2018-11-01T00:00:00",
          "2018-12-01T00:00:00",
          "2019-01-01T00:00:00",
          "2019-02-01T00:00:00",
          "2019-03-01T00:00:00",
          "2019-04-01T00:00:00",
          "2019-05-01T00:00:00",
          "2019-06-01T00:00:00",
          "2019-07-01T00:00:00",
          "2019-08-01T00:00:00",
          "2019-09-01T00:00:00",
          "2019-10-01T00:00:00",
          "2019-11-01T00:00:00",
          "2019-12-01T00:00:00",
          "2020-01-01T00:00:00",
          "2020-02-01T00:00:00",
          "2020-03-01T00:00:00",
          "2020-04-01T00:00:00",
          "2020-05-01T00:00:00",
          "2020-06-01T00:00:00",
          "2020-07-01T00:00:00",
          "2020-08-01T00:00:00",
          "2020-09-01T00:00:00",
          "2020-10-01T00:00:00",
          "2020-11-01T00:00:00",
          "2020-12-01T00:00:00",
          "2021-01-01T00:00:00",
          "2021-02-01T00:00:00",
          "2021-03-01T00:00:00",
          "2021-04-01T00:00:00",
          "2021-05-01T00:00:00",
          "2021-06-01T00:00:00",
          "2021-07-01T00:00:00",
          "2021-08-01T00:00:00",
          "2021-09-01T00:00:00",
          "2021-10-01T00:00:00",
          "2021-11-01T00:00:00",
          "2021-12-01T00:00:00",
          "2022-01-01T00:00:00",
          "2022-02-01T00:00:00",
          "2022-03-01T00:00:00",
          "2022-04-01T00:00:00",
          "2022-05-01T00:00:00",
          "2022-06-01T00:00:00",
          "2022-07-01T00:00:00",
          "2022-08-01T00:00:00",
          "2022-09-01T00:00:00",
          "2022-10-01T00:00:00",
          "2022-11-01T00:00:00",
          "2022-12-01T00:00:00",
          "2023-01-01T00:00:00",
          "2023-02-01T00:00:00",
          "2023-03-01T00:00:00",
          "2023-04-01T00:00:00",
          "2023-05-01T00:00:00",
          "2023-06-01T00:00:00",
          "2023-07-01T00:00:00",
          "2023-08-01T00:00:00",
          "2023-09-01T00:00:00",
          "2023-10-01T00:00:00",
          "2023-11-01T00:00:00",
          "2023-12-01T00:00:00",
          "2024-01-01T00:00:00",
          "2024-02-01T00:00:00",
          "2024-03-01T00:00:00",
          "2024-04-01T00:00:00",
          "2024-05-01T00:00:00",
          "2024-06-01T00:00:00",
          "2024-07-01T00:00:00",
          "2024-08-01T00:00:00",
          "2024-09-01T00:00:00",
          "2024-10-01T00:00:00",
          "2024-11-01T00:00:00",
          "2024-12-01T00:00:00",
          "2025-01-01T00:00:00",
          "2025-02-01T00:00:00",
          "2025-03-01T00:00:00",
          "2025-04-01T00:00:00"
         ],
         "xaxis": "x",
         "y": {
          "bdata": "AQApACEAHAAOABcAJAAOABoAEwAJAA4AGwAdAAgAGgBIAFUAmAAoABUADwAeAAUAJAAdAAkACwAWAC4AGwAMAA0AGwAVAA0AFQASAD4AHAAtACkAGQAYABMABwAWAFAAFgAtACAALwAuALUATgBbAJ8AHgBeAFoASQA6AHQAqgB7ACsAkAD+AJQAsQBFAHgAKQBfAC4AWABsAEwAdQFiAQsBigB3AOUAvQDSAKwAuwD1AG0BBwG8AO8A3QAaAe8AlQDwAKgA1gDjAGYBYQHxAJYBEQHKABABDAGwAMkAugDVAN8ApwC0AGUB0QDxAPwAFQEjAa0A2gDnACkBGQI3ARYB3QDtAM0BOQNzAxYCVAJ6AtADYQP8AkkDlQOlAzgDjQM/A8gDBgTLBYkE1ANDAywFwwQABvkHdQmUB8wGYAh7Bl8B",
          "dtype": "i2"
         },
         "yaxis": "y"
        }
       ],
       "layout": {
        "height": 400,
        "hovermode": "x unified",
        "legend": {
         "tracegroupgap": 0
        },
        "template": {
         "data": {
          "bar": [
           {
            "error_x": {
             "color": "#2a3f5f"
            },
            "error_y": {
             "color": "#2a3f5f"
            },
            "marker": {
             "line": {
              "color": "#E5ECF6",
              "width": 0.5
             },
             "pattern": {
              "fillmode": "overlay",
              "size": 10,
              "solidity": 0.2
             }
            },
            "type": "bar"
           }
          ],
          "barpolar": [
           {
            "marker": {
             "line": {
              "color": "#E5ECF6",
              "width": 0.5
             },
             "pattern": {
              "fillmode": "overlay",
              "size": 10,
              "solidity": 0.2
             }
            },
            "type": "barpolar"
           }
          ],
          "carpet": [
           {
            "aaxis": {
             "endlinecolor": "#2a3f5f",
             "gridcolor": "white",
             "linecolor": "white",
             "minorgridcolor": "white",
             "startlinecolor": "#2a3f5f"
            },
            "baxis": {
             "endlinecolor": "#2a3f5f",
             "gridcolor": "white",
             "linecolor": "white",
             "minorgridcolor": "white",
             "startlinecolor": "#2a3f5f"
            },
            "type": "carpet"
           }
          ],
          "choropleth": [
           {
            "colorbar": {
             "outlinewidth": 0,
             "ticks": ""
            },
            "type": "choropleth"
           }
          ],
          "contour": [
           {
            "colorbar": {
             "outlinewidth": 0,
             "ticks": ""
            },
            "colorscale": [
             [
              0,
              "#0d0887"
             ],
             [
              0.1111111111111111,
              "#46039f"
             ],
             [
              0.2222222222222222,
              "#7201a8"
             ],
             [
              0.3333333333333333,
              "#9c179e"
             ],
             [
              0.4444444444444444,
              "#bd3786"
             ],
             [
              0.5555555555555556,
              "#d8576b"
             ],
             [
              0.6666666666666666,
              "#ed7953"
             ],
             [
              0.7777777777777778,
              "#fb9f3a"
             ],
             [
              0.8888888888888888,
              "#fdca26"
             ],
             [
              1,
              "#f0f921"
             ]
            ],
            "type": "contour"
           }
          ],
          "contourcarpet": [
           {
            "colorbar": {
             "outlinewidth": 0,
             "ticks": ""
            },
            "type": "contourcarpet"
           }
          ],
          "heatmap": [
           {
            "colorbar": {
             "outlinewidth": 0,
             "ticks": ""
            },
            "colorscale": [
             [
              0,
              "#0d0887"
             ],
             [
              0.1111111111111111,
              "#46039f"
             ],
             [
              0.2222222222222222,
              "#7201a8"
             ],
             [
              0.3333333333333333,
              "#9c179e"
             ],
             [
              0.4444444444444444,
              "#bd3786"
             ],
             [
              0.5555555555555556,
              "#d8576b"
             ],
             [
              0.6666666666666666,
              "#ed7953"
             ],
             [
              0.7777777777777778,
              "#fb9f3a"
             ],
             [
              0.8888888888888888,
              "#fdca26"
             ],
             [
              1,
              "#f0f921"
             ]
            ],
            "type": "heatmap"
           }
          ],
          "histogram": [
           {
            "marker": {
             "pattern": {
              "fillmode": "overlay",
              "size": 10,
              "solidity": 0.2
             }
            },
            "type": "histogram"
           }
          ],
          "histogram2d": [
           {
            "colorbar": {
             "outlinewidth": 0,
             "ticks": ""
            },
            "colorscale": [
             [
              0,
              "#0d0887"
             ],
             [
              0.1111111111111111,
              "#46039f"
             ],
             [
              0.2222222222222222,
              "#7201a8"
             ],
             [
              0.3333333333333333,
              "#9c179e"
             ],
             [
              0.4444444444444444,
              "#bd3786"
             ],
             [
              0.5555555555555556,
              "#d8576b"
             ],
             [
              0.6666666666666666,
              "#ed7953"
             ],
             [
              0.7777777777777778,
              "#fb9f3a"
             ],
             [
              0.8888888888888888,
              "#fdca26"
             ],
             [
              1,
              "#f0f921"
             ]
            ],
            "type": "histogram2d"
           }
          ],
          "histogram2dcontour": [
           {
            "colorbar": {
             "outlinewidth": 0,
             "ticks": ""
            },
            "colorscale": [
             [
              0,
              "#0d0887"
             ],
             [
              0.1111111111111111,
              "#46039f"
             ],
             [
              0.2222222222222222,
              "#7201a8"
             ],
             [
              0.3333333333333333,
              "#9c179e"
             ],
             [
              0.4444444444444444,
              "#bd3786"
             ],
             [
              0.5555555555555556,
              "#d8576b"
             ],
             [
              0.6666666666666666,
              "#ed7953"
             ],
             [
              0.7777777777777778,
              "#fb9f3a"
             ],
             [
              0.8888888888888888,
              "#fdca26"
             ],
             [
              1,
              "#f0f921"
             ]
            ],
            "type": "histogram2dcontour"
           }
          ],
          "mesh3d": [
           {
            "colorbar": {
             "outlinewidth": 0,
             "ticks": ""
            },
            "type": "mesh3d"
           }
          ],
          "parcoords": [
           {
            "line": {
             "colorbar": {
              "outlinewidth": 0,
              "ticks": ""
             }
            },
            "type": "parcoords"
           }
          ],
          "pie": [
           {
            "automargin": true,
            "type": "pie"
           }
          ],
          "scatter": [
           {
            "fillpattern": {
             "fillmode": "overlay",
             "size": 10,
             "solidity": 0.2
            },
            "type": "scatter"
           }
          ],
          "scatter3d": [
           {
            "line": {
             "colorbar": {
              "outlinewidth": 0,
              "ticks": ""
             }
            },
            "marker": {
             "colorbar": {
              "outlinewidth": 0,
              "ticks": ""
             }
            },
            "type": "scatter3d"
           }
          ],
          "scattercarpet": [
           {
            "marker": {
             "colorbar": {
              "outlinewidth": 0,
              "ticks": ""
             }
            },
            "type": "scattercarpet"
           }
          ],
          "scattergeo": [
           {
            "marker": {
             "colorbar": {
              "outlinewidth": 0,
              "ticks": ""
             }
            },
            "type": "scattergeo"
           }
          ],
          "scattergl": [
           {
            "marker": {
             "colorbar": {
              "outlinewidth": 0,
              "ticks": ""
             }
            },
            "type": "scattergl"
           }
          ],
          "scattermap": [
           {
            "marker": {
             "colorbar": {
              "outlinewidth": 0,
              "ticks": ""
             }
            },
            "type": "scattermap"
           }
          ],
          "scattermapbox": [
           {
            "marker": {
             "colorbar": {
              "outlinewidth": 0,
              "ticks": ""
             }
            },
            "type": "scattermapbox"
           }
          ],
          "scatterpolar": [
           {
            "marker": {
             "colorbar": {
              "outlinewidth": 0,
              "ticks": ""
             }
            },
            "type": "scatterpolar"
           }
          ],
          "scatterpolargl": [
           {
            "marker": {
             "colorbar": {
              "outlinewidth": 0,
              "ticks": ""
             }
            },
            "type": "scatterpolargl"
           }
          ],
          "scatterternary": [
           {
            "marker": {
             "colorbar": {
              "outlinewidth": 0,
              "ticks": ""
             }
            },
            "type": "scatterternary"
           }
          ],
          "surface": [
           {
            "colorbar": {
             "outlinewidth": 0,
             "ticks": ""
            },
            "colorscale": [
             [
              0,
              "#0d0887"
             ],
             [
              0.1111111111111111,
              "#46039f"
             ],
             [
              0.2222222222222222,
              "#7201a8"
             ],
             [
              0.3333333333333333,
              "#9c179e"
             ],
             [
              0.4444444444444444,
              "#bd3786"
             ],
             [
              0.5555555555555556,
              "#d8576b"
             ],
             [
              0.6666666666666666,
              "#ed7953"
             ],
             [
              0.7777777777777778,
              "#fb9f3a"
             ],
             [
              0.8888888888888888,
              "#fdca26"
             ],
             [
              1,
              "#f0f921"
             ]
            ],
            "type": "surface"
           }
          ],
          "table": [
           {
            "cells": {
             "fill": {
              "color": "#EBF0F8"
             },
             "line": {
              "color": "white"
             }
            },
            "header": {
             "fill": {
              "color": "#C8D4E3"
             },
             "line": {
              "color": "white"
             }
            },
            "type": "table"
           }
          ]
         },
         "layout": {
          "annotationdefaults": {
           "arrowcolor": "#2a3f5f",
           "arrowhead": 0,
           "arrowwidth": 1
          },
          "autotypenumbers": "strict",
          "coloraxis": {
           "colorbar": {
            "outlinewidth": 0,
            "ticks": ""
           }
          },
          "colorscale": {
           "diverging": [
            [
             0,
             "#8e0152"
            ],
            [
             0.1,
             "#c51b7d"
            ],
            [
             0.2,
             "#de77ae"
            ],
            [
             0.3,
             "#f1b6da"
            ],
            [
             0.4,
             "#fde0ef"
            ],
            [
             0.5,
             "#f7f7f7"
            ],
            [
             0.6,
             "#e6f5d0"
            ],
            [
             0.7,
             "#b8e186"
            ],
            [
             0.8,
             "#7fbc41"
            ],
            [
             0.9,
             "#4d9221"
            ],
            [
             1,
             "#276419"
            ]
           ],
           "sequential": [
            [
             0,
             "#0d0887"
            ],
            [
             0.1111111111111111,
             "#46039f"
            ],
            [
             0.2222222222222222,
             "#7201a8"
            ],
            [
             0.3333333333333333,
             "#9c179e"
            ],
            [
             0.4444444444444444,
             "#bd3786"
            ],
            [
             0.5555555555555556,
             "#d8576b"
            ],
            [
             0.6666666666666666,
             "#ed7953"
            ],
            [
             0.7777777777777778,
             "#fb9f3a"
            ],
            [
             0.8888888888888888,
             "#fdca26"
            ],
            [
             1,
             "#f0f921"
            ]
           ],
           "sequentialminus": [
            [
             0,
             "#0d0887"
            ],
            [
             0.1111111111111111,
             "#46039f"
            ],
            [
             0.2222222222222222,
             "#7201a8"
            ],
            [
             0.3333333333333333,
             "#9c179e"
            ],
            [
             0.4444444444444444,
             "#bd3786"
            ],
            [
             0.5555555555555556,
             "#d8576b"
            ],
            [
             0.6666666666666666,
             "#ed7953"
            ],
            [
             0.7777777777777778,
             "#fb9f3a"
            ],
            [
             0.8888888888888888,
             "#fdca26"
            ],
            [
             1,
             "#f0f921"
            ]
           ]
          },
          "colorway": [
           "#636efa",
           "#EF553B",
           "#00cc96",
           "#ab63fa",
           "#FFA15A",
           "#19d3f3",
           "#FF6692",
           "#B6E880",
           "#FF97FF",
           "#FECB52"
          ],
          "font": {
           "color": "#2a3f5f"
          },
          "geo": {
           "bgcolor": "white",
           "lakecolor": "white",
           "landcolor": "#E5ECF6",
           "showlakes": true,
           "showland": true,
           "subunitcolor": "white"
          },
          "hoverlabel": {
           "align": "left"
          },
          "hovermode": "closest",
          "mapbox": {
           "style": "light"
          },
          "paper_bgcolor": "white",
          "plot_bgcolor": "#E5ECF6",
          "polar": {
           "angularaxis": {
            "gridcolor": "white",
            "linecolor": "white",
            "ticks": ""
           },
           "bgcolor": "#E5ECF6",
           "radialaxis": {
            "gridcolor": "white",
            "linecolor": "white",
            "ticks": ""
           }
          },
          "scene": {
           "xaxis": {
            "backgroundcolor": "#E5ECF6",
            "gridcolor": "white",
            "gridwidth": 2,
            "linecolor": "white",
            "showbackground": true,
            "ticks": "",
            "zerolinecolor": "white"
           },
           "yaxis": {
            "backgroundcolor": "#E5ECF6",
            "gridcolor": "white",
            "gridwidth": 2,
            "linecolor": "white",
            "showbackground": true,
            "ticks": "",
            "zerolinecolor": "white"
           },
           "zaxis": {
            "backgroundcolor": "#E5ECF6",
            "gridcolor": "white",
            "gridwidth": 2,
            "linecolor": "white",
            "showbackground": true,
            "ticks": "",
            "zerolinecolor": "white"
           }
          },
          "shapedefaults": {
           "line": {
            "color": "#2a3f5f"
           }
          },
          "ternary": {
           "aaxis": {
            "gridcolor": "white",
            "linecolor": "white",
            "ticks": ""
           },
           "baxis": {
            "gridcolor": "white",
            "linecolor": "white",
            "ticks": ""
           },
           "bgcolor": "#E5ECF6",
           "caxis": {
            "gridcolor": "white",
            "linecolor": "white",
            "ticks": ""
           }
          },
          "title": {
           "x": 0.05
          },
          "xaxis": {
           "automargin": true,
           "gridcolor": "white",
           "linecolor": "white",
           "ticks": "",
           "title": {
            "standoff": 15
           },
           "zerolinecolor": "white",
           "zerolinewidth": 2
          },
          "yaxis": {
           "automargin": true,
           "gridcolor": "white",
           "linecolor": "white",
           "ticks": "",
           "title": {
            "standoff": 15
           },
           "zerolinecolor": "white",
           "zerolinewidth": 2
          }
         }
        },
        "title": {
         "text": "Tweet Frequency Over Time"
        },
        "width": 1000,
        "xaxis": {
         "anchor": "y",
         "domain": [
          0,
          1
         ],
         "gridcolor": "lightgray",
         "gridwidth": 1,
         "showgrid": true,
         "title": {
          "text": "Date"
         }
        },
        "yaxis": {
         "anchor": "x",
         "domain": [
          0,
          1
         ],
         "gridcolor": "lightgray",
         "gridwidth": 1,
         "showgrid": true,
         "title": {
          "text": "Number of Tweets"
         }
        }
       }
      }
     },
     "metadata": {},
     "output_type": "display_data"
    }
   ],
   "source": [
    "def plot_tweet_timeline(df):\n",
    "    df_copy = df.copy()#\n",
    "    df_copy['createdAt'] = df_copy['createdAt'].dt.tz_localize(None)\n",
    "    df_copy['year_month'] = df_copy['createdAt'].dt.to_period('M').astype(str)\n",
    "    \n",
    "    # Group by month and count tweets\n",
    "    monthly_counts = df_copy.groupby('year_month').size().reset_index(name='count')\n",
    "    monthly_counts['year_month'] = pd.to_datetime(monthly_counts['year_month'])\n",
    "    \n",
    " \n",
    "    fig = px.line(\n",
    "        monthly_counts, \n",
    "        x='year_month', \n",
    "        y='count',\n",
    "        title='Tweet Frequency Over Time',\n",
    "        labels={\n",
    "            'year_month': 'Date',\n",
    "            'count': 'Number of Tweets'\n",
    "        }\n",
    "    )\n",
    "    \n",
    "    # Update layout for better appearance\n",
    "    fig.update_layout(\n",
    "        xaxis_title=\"Date\",\n",
    "        yaxis_title=\"Number of Tweets\",\n",
    "        hovermode='x unified',\n",
    "        width=1000,\n",
    "        height=400\n",
    "    )\n",
    "    \n",
    "    # Add grid\n",
    "    fig.update_xaxes(showgrid=True, gridwidth=1, gridcolor='lightgray')\n",
    "    fig.update_yaxes(showgrid=True, gridwidth=1, gridcolor='lightgray')\n",
    "    \n",
    "    fig.show()\n",
    "\n",
    "plot_tweet_timeline(all_musk_posts)"
   ]
  },
  {
   "cell_type": "code",
   "execution_count": 76,
   "id": "52e8f046",
   "metadata": {},
   "outputs": [
    {
     "name": "stdout",
     "output_type": "stream",
     "text": [
      "Timezone der Daten: UTC\n"
     ]
    }
   ],
   "source": [
    "timezone_info = all_musk_posts['createdAt'].dt.tz\n",
    "print(f\"Timezone der Daten: {timezone_info}\")"
   ]
  },
  {
   "cell_type": "code",
   "execution_count": 81,
   "id": "e2055c96",
   "metadata": {},
   "outputs": [
    {
     "data": {
      "application/vnd.plotly.v1+json": {
       "config": {
        "plotlyServerURL": "https://plot.ly"
       },
       "data": [
        {
         "fill": "tonext",
         "fillcolor": "rgba(30, 144, 255, 0.3)",
         "hovertemplate": "tweet_count=%{r}<br>theta=%{theta}<extra></extra>",
         "legendgroup": "",
         "line": {
          "color": "blue",
          "dash": "solid",
          "width": 3
         },
         "marker": {
          "symbol": "circle"
         },
         "mode": "lines",
         "name": "",
         "r": {
          "bdata": "7gigCdgIDQl0ClEKTAq3CFUGiQR1A9sCBgMiBCQHfgkFCxMMBQsfC6gKOwoKCu4J7gg=",
          "dtype": "i2"
         },
         "showlegend": false,
         "subplot": "polar",
         "theta": {
          "bdata": "AAAPAB4ALQA8AEsAWgBpAHgAhwCWAKUAtADDANIA4QDwAP8ADgEdASwBOwFKAVkBaAE=",
          "dtype": "i2"
         },
         "type": "scatterpolar"
        }
       ],
       "layout": {
        "height": 700,
        "legend": {
         "tracegroupgap": 0
        },
        "polar": {
         "angularaxis": {
          "direction": "clockwise",
          "gridcolor": "lightgray",
          "rotation": 90,
          "showgrid": true,
          "tickmode": "array",
          "ticktext": [
           "00:00",
           "01:00",
           "02:00",
           "03:00",
           "04:00",
           "05:00",
           "06:00",
           "07:00",
           "08:00",
           "09:00",
           "10:00",
           "11:00",
           "12:00",
           "13:00",
           "14:00",
           "15:00",
           "16:00",
           "17:00",
           "18:00",
           "19:00",
           "20:00",
           "21:00",
           "22:00",
           "23:00"
          ],
          "tickvals": [
           0,
           15,
           30,
           45,
           60,
           75,
           90,
           105,
           120,
           135,
           150,
           165,
           180,
           195,
           210,
           225,
           240,
           255,
           270,
           285,
           300,
           315,
           330,
           345
          ]
         },
         "domain": {
          "x": [
           0,
           1
          ],
          "y": [
           0,
           1
          ]
         },
         "radialaxis": {
          "gridcolor": "lightgray",
          "showgrid": true,
          "tickangle": 0,
          "title": {
           "text": "Anzahl Tweets"
          }
         }
        },
        "showlegend": false,
        "template": {
         "data": {
          "bar": [
           {
            "error_x": {
             "color": "#2a3f5f"
            },
            "error_y": {
             "color": "#2a3f5f"
            },
            "marker": {
             "line": {
              "color": "white",
              "width": 0.5
             },
             "pattern": {
              "fillmode": "overlay",
              "size": 10,
              "solidity": 0.2
             }
            },
            "type": "bar"
           }
          ],
          "barpolar": [
           {
            "marker": {
             "line": {
              "color": "white",
              "width": 0.5
             },
             "pattern": {
              "fillmode": "overlay",
              "size": 10,
              "solidity": 0.2
             }
            },
            "type": "barpolar"
           }
          ],
          "carpet": [
           {
            "aaxis": {
             "endlinecolor": "#2a3f5f",
             "gridcolor": "#C8D4E3",
             "linecolor": "#C8D4E3",
             "minorgridcolor": "#C8D4E3",
             "startlinecolor": "#2a3f5f"
            },
            "baxis": {
             "endlinecolor": "#2a3f5f",
             "gridcolor": "#C8D4E3",
             "linecolor": "#C8D4E3",
             "minorgridcolor": "#C8D4E3",
             "startlinecolor": "#2a3f5f"
            },
            "type": "carpet"
           }
          ],
          "choropleth": [
           {
            "colorbar": {
             "outlinewidth": 0,
             "ticks": ""
            },
            "type": "choropleth"
           }
          ],
          "contour": [
           {
            "colorbar": {
             "outlinewidth": 0,
             "ticks": ""
            },
            "colorscale": [
             [
              0,
              "#0d0887"
             ],
             [
              0.1111111111111111,
              "#46039f"
             ],
             [
              0.2222222222222222,
              "#7201a8"
             ],
             [
              0.3333333333333333,
              "#9c179e"
             ],
             [
              0.4444444444444444,
              "#bd3786"
             ],
             [
              0.5555555555555556,
              "#d8576b"
             ],
             [
              0.6666666666666666,
              "#ed7953"
             ],
             [
              0.7777777777777778,
              "#fb9f3a"
             ],
             [
              0.8888888888888888,
              "#fdca26"
             ],
             [
              1,
              "#f0f921"
             ]
            ],
            "type": "contour"
           }
          ],
          "contourcarpet": [
           {
            "colorbar": {
             "outlinewidth": 0,
             "ticks": ""
            },
            "type": "contourcarpet"
           }
          ],
          "heatmap": [
           {
            "colorbar": {
             "outlinewidth": 0,
             "ticks": ""
            },
            "colorscale": [
             [
              0,
              "#0d0887"
             ],
             [
              0.1111111111111111,
              "#46039f"
             ],
             [
              0.2222222222222222,
              "#7201a8"
             ],
             [
              0.3333333333333333,
              "#9c179e"
             ],
             [
              0.4444444444444444,
              "#bd3786"
             ],
             [
              0.5555555555555556,
              "#d8576b"
             ],
             [
              0.6666666666666666,
              "#ed7953"
             ],
             [
              0.7777777777777778,
              "#fb9f3a"
             ],
             [
              0.8888888888888888,
              "#fdca26"
             ],
             [
              1,
              "#f0f921"
             ]
            ],
            "type": "heatmap"
           }
          ],
          "histogram": [
           {
            "marker": {
             "pattern": {
              "fillmode": "overlay",
              "size": 10,
              "solidity": 0.2
             }
            },
            "type": "histogram"
           }
          ],
          "histogram2d": [
           {
            "colorbar": {
             "outlinewidth": 0,
             "ticks": ""
            },
            "colorscale": [
             [
              0,
              "#0d0887"
             ],
             [
              0.1111111111111111,
              "#46039f"
             ],
             [
              0.2222222222222222,
              "#7201a8"
             ],
             [
              0.3333333333333333,
              "#9c179e"
             ],
             [
              0.4444444444444444,
              "#bd3786"
             ],
             [
              0.5555555555555556,
              "#d8576b"
             ],
             [
              0.6666666666666666,
              "#ed7953"
             ],
             [
              0.7777777777777778,
              "#fb9f3a"
             ],
             [
              0.8888888888888888,
              "#fdca26"
             ],
             [
              1,
              "#f0f921"
             ]
            ],
            "type": "histogram2d"
           }
          ],
          "histogram2dcontour": [
           {
            "colorbar": {
             "outlinewidth": 0,
             "ticks": ""
            },
            "colorscale": [
             [
              0,
              "#0d0887"
             ],
             [
              0.1111111111111111,
              "#46039f"
             ],
             [
              0.2222222222222222,
              "#7201a8"
             ],
             [
              0.3333333333333333,
              "#9c179e"
             ],
             [
              0.4444444444444444,
              "#bd3786"
             ],
             [
              0.5555555555555556,
              "#d8576b"
             ],
             [
              0.6666666666666666,
              "#ed7953"
             ],
             [
              0.7777777777777778,
              "#fb9f3a"
             ],
             [
              0.8888888888888888,
              "#fdca26"
             ],
             [
              1,
              "#f0f921"
             ]
            ],
            "type": "histogram2dcontour"
           }
          ],
          "mesh3d": [
           {
            "colorbar": {
             "outlinewidth": 0,
             "ticks": ""
            },
            "type": "mesh3d"
           }
          ],
          "parcoords": [
           {
            "line": {
             "colorbar": {
              "outlinewidth": 0,
              "ticks": ""
             }
            },
            "type": "parcoords"
           }
          ],
          "pie": [
           {
            "automargin": true,
            "type": "pie"
           }
          ],
          "scatter": [
           {
            "fillpattern": {
             "fillmode": "overlay",
             "size": 10,
             "solidity": 0.2
            },
            "type": "scatter"
           }
          ],
          "scatter3d": [
           {
            "line": {
             "colorbar": {
              "outlinewidth": 0,
              "ticks": ""
             }
            },
            "marker": {
             "colorbar": {
              "outlinewidth": 0,
              "ticks": ""
             }
            },
            "type": "scatter3d"
           }
          ],
          "scattercarpet": [
           {
            "marker": {
             "colorbar": {
              "outlinewidth": 0,
              "ticks": ""
             }
            },
            "type": "scattercarpet"
           }
          ],
          "scattergeo": [
           {
            "marker": {
             "colorbar": {
              "outlinewidth": 0,
              "ticks": ""
             }
            },
            "type": "scattergeo"
           }
          ],
          "scattergl": [
           {
            "marker": {
             "colorbar": {
              "outlinewidth": 0,
              "ticks": ""
             }
            },
            "type": "scattergl"
           }
          ],
          "scattermap": [
           {
            "marker": {
             "colorbar": {
              "outlinewidth": 0,
              "ticks": ""
             }
            },
            "type": "scattermap"
           }
          ],
          "scattermapbox": [
           {
            "marker": {
             "colorbar": {
              "outlinewidth": 0,
              "ticks": ""
             }
            },
            "type": "scattermapbox"
           }
          ],
          "scatterpolar": [
           {
            "marker": {
             "colorbar": {
              "outlinewidth": 0,
              "ticks": ""
             }
            },
            "type": "scatterpolar"
           }
          ],
          "scatterpolargl": [
           {
            "marker": {
             "colorbar": {
              "outlinewidth": 0,
              "ticks": ""
             }
            },
            "type": "scatterpolargl"
           }
          ],
          "scatterternary": [
           {
            "marker": {
             "colorbar": {
              "outlinewidth": 0,
              "ticks": ""
             }
            },
            "type": "scatterternary"
           }
          ],
          "surface": [
           {
            "colorbar": {
             "outlinewidth": 0,
             "ticks": ""
            },
            "colorscale": [
             [
              0,
              "#0d0887"
             ],
             [
              0.1111111111111111,
              "#46039f"
             ],
             [
              0.2222222222222222,
              "#7201a8"
             ],
             [
              0.3333333333333333,
              "#9c179e"
             ],
             [
              0.4444444444444444,
              "#bd3786"
             ],
             [
              0.5555555555555556,
              "#d8576b"
             ],
             [
              0.6666666666666666,
              "#ed7953"
             ],
             [
              0.7777777777777778,
              "#fb9f3a"
             ],
             [
              0.8888888888888888,
              "#fdca26"
             ],
             [
              1,
              "#f0f921"
             ]
            ],
            "type": "surface"
           }
          ],
          "table": [
           {
            "cells": {
             "fill": {
              "color": "#EBF0F8"
             },
             "line": {
              "color": "white"
             }
            },
            "header": {
             "fill": {
              "color": "#C8D4E3"
             },
             "line": {
              "color": "white"
             }
            },
            "type": "table"
           }
          ]
         },
         "layout": {
          "annotationdefaults": {
           "arrowcolor": "#2a3f5f",
           "arrowhead": 0,
           "arrowwidth": 1
          },
          "autotypenumbers": "strict",
          "coloraxis": {
           "colorbar": {
            "outlinewidth": 0,
            "ticks": ""
           }
          },
          "colorscale": {
           "diverging": [
            [
             0,
             "#8e0152"
            ],
            [
             0.1,
             "#c51b7d"
            ],
            [
             0.2,
             "#de77ae"
            ],
            [
             0.3,
             "#f1b6da"
            ],
            [
             0.4,
             "#fde0ef"
            ],
            [
             0.5,
             "#f7f7f7"
            ],
            [
             0.6,
             "#e6f5d0"
            ],
            [
             0.7,
             "#b8e186"
            ],
            [
             0.8,
             "#7fbc41"
            ],
            [
             0.9,
             "#4d9221"
            ],
            [
             1,
             "#276419"
            ]
           ],
           "sequential": [
            [
             0,
             "#0d0887"
            ],
            [
             0.1111111111111111,
             "#46039f"
            ],
            [
             0.2222222222222222,
             "#7201a8"
            ],
            [
             0.3333333333333333,
             "#9c179e"
            ],
            [
             0.4444444444444444,
             "#bd3786"
            ],
            [
             0.5555555555555556,
             "#d8576b"
            ],
            [
             0.6666666666666666,
             "#ed7953"
            ],
            [
             0.7777777777777778,
             "#fb9f3a"
            ],
            [
             0.8888888888888888,
             "#fdca26"
            ],
            [
             1,
             "#f0f921"
            ]
           ],
           "sequentialminus": [
            [
             0,
             "#0d0887"
            ],
            [
             0.1111111111111111,
             "#46039f"
            ],
            [
             0.2222222222222222,
             "#7201a8"
            ],
            [
             0.3333333333333333,
             "#9c179e"
            ],
            [
             0.4444444444444444,
             "#bd3786"
            ],
            [
             0.5555555555555556,
             "#d8576b"
            ],
            [
             0.6666666666666666,
             "#ed7953"
            ],
            [
             0.7777777777777778,
             "#fb9f3a"
            ],
            [
             0.8888888888888888,
             "#fdca26"
            ],
            [
             1,
             "#f0f921"
            ]
           ]
          },
          "colorway": [
           "#636efa",
           "#EF553B",
           "#00cc96",
           "#ab63fa",
           "#FFA15A",
           "#19d3f3",
           "#FF6692",
           "#B6E880",
           "#FF97FF",
           "#FECB52"
          ],
          "font": {
           "color": "#2a3f5f"
          },
          "geo": {
           "bgcolor": "white",
           "lakecolor": "white",
           "landcolor": "white",
           "showlakes": true,
           "showland": true,
           "subunitcolor": "#C8D4E3"
          },
          "hoverlabel": {
           "align": "left"
          },
          "hovermode": "closest",
          "mapbox": {
           "style": "light"
          },
          "paper_bgcolor": "white",
          "plot_bgcolor": "white",
          "polar": {
           "angularaxis": {
            "gridcolor": "#EBF0F8",
            "linecolor": "#EBF0F8",
            "ticks": ""
           },
           "bgcolor": "white",
           "radialaxis": {
            "gridcolor": "#EBF0F8",
            "linecolor": "#EBF0F8",
            "ticks": ""
           }
          },
          "scene": {
           "xaxis": {
            "backgroundcolor": "white",
            "gridcolor": "#DFE8F3",
            "gridwidth": 2,
            "linecolor": "#EBF0F8",
            "showbackground": true,
            "ticks": "",
            "zerolinecolor": "#EBF0F8"
           },
           "yaxis": {
            "backgroundcolor": "white",
            "gridcolor": "#DFE8F3",
            "gridwidth": 2,
            "linecolor": "#EBF0F8",
            "showbackground": true,
            "ticks": "",
            "zerolinecolor": "#EBF0F8"
           },
           "zaxis": {
            "backgroundcolor": "white",
            "gridcolor": "#DFE8F3",
            "gridwidth": 2,
            "linecolor": "#EBF0F8",
            "showbackground": true,
            "ticks": "",
            "zerolinecolor": "#EBF0F8"
           }
          },
          "shapedefaults": {
           "line": {
            "color": "#2a3f5f"
           }
          },
          "ternary": {
           "aaxis": {
            "gridcolor": "#DFE8F3",
            "linecolor": "#A2B1C6",
            "ticks": ""
           },
           "baxis": {
            "gridcolor": "#DFE8F3",
            "linecolor": "#A2B1C6",
            "ticks": ""
           },
           "bgcolor": "white",
           "caxis": {
            "gridcolor": "#DFE8F3",
            "linecolor": "#A2B1C6",
            "ticks": ""
           }
          },
          "title": {
           "x": 0.05
          },
          "xaxis": {
           "automargin": true,
           "gridcolor": "#EBF0F8",
           "linecolor": "#EBF0F8",
           "ticks": "",
           "title": {
            "standoff": 15
           },
           "zerolinecolor": "#EBF0F8",
           "zerolinewidth": 2
          },
          "yaxis": {
           "automargin": true,
           "gridcolor": "#EBF0F8",
           "linecolor": "#EBF0F8",
           "ticks": "",
           "title": {
            "standoff": 15
           },
           "zerolinecolor": "#EBF0F8",
           "zerolinewidth": 2
          }
         }
        },
        "title": {
         "text": "Tweet-Aktivität von Elon Musk über 24 Stunden"
        },
        "width": 700
       }
      }
     },
     "metadata": {},
     "output_type": "display_data"
    }
   ],
   "source": [
    "def create_tweet_times_polar_chart(df):\n",
    "    \"\"\"\n",
    "    Erstellt ein Polar-Diagramm zur Visualisierung der Tweet-Zeiten über 24 Stunden\n",
    "    \"\"\"\n",
    "    df_copy = df.copy()\n",
    "\n",
    "    # Stunde extrahieren (0-23)\n",
    "    df_copy['hour'] = df_copy['createdAt'].dt.hour\n",
    "    \n",
    "    # Tweets pro Stunde zählen\n",
    "    hourly_counts = df_copy['hour'].value_counts().sort_index().reset_index()\n",
    "    hourly_counts.columns = ['hour', 'tweet_count']\n",
    "    \n",
    "    # Alle 24 Stunden sicherstellen (falls manche Stunden keine Tweets haben)\n",
    "    all_hours = pd.DataFrame({'hour': range(24)})\n",
    "    hourly_counts = all_hours.merge(hourly_counts, on='hour', how='left').fillna(0)\n",
    "    \n",
    "    # Winkel für Polar-Plot berechnen (0° = Mitternacht, 90° = 6 Uhr, etc.)\n",
    "    hourly_counts['theta'] = hourly_counts['hour'] * 15  # 360° / 24h = 15° pro Stunde\n",
    "    \n",
    "    # Ersten Punkt am Ende hinzufügen für geschlossene Linie\n",
    "    first_row = hourly_counts.iloc[0].copy()\n",
    "    first_row['theta'] = 360  # 360° = 0°\n",
    "    hourly_counts = pd.concat([hourly_counts, first_row.to_frame().T], ignore_index=True)\n",
    "\n",
    "    # Polar-Diagramm erstellen\n",
    "    fig = px.line_polar(\n",
    "        hourly_counts,\n",
    "        r='tweet_count',\n",
    "        theta='theta',\n",
    "        title='Tweet-Aktivität von Elon Musk über 24 Stunden',\n",
    "        template='plotly_white'\n",
    "    )\n",
    "    \n",
    "    # Layout anpassen\n",
    "    fig.update_layout(\n",
    "        polar=dict(\n",
    "            radialaxis=dict(\n",
    "                title=\"Anzahl Tweets\",\n",
    "                tickangle=0,\n",
    "                showgrid=True,\n",
    "                gridcolor='lightgray'\n",
    "            ),\n",
    "            angularaxis=dict(\n",
    "                tickmode='array',\n",
    "                tickvals=[i * 15 for i in range(24)], # Alle 24 Stunden\n",
    "                ticktext=[f'{i:02d}:00' for i in range(24)],\n",
    "                direction='clockwise',\n",
    "                rotation=90,\n",
    "                showgrid=True,\n",
    "                gridcolor='lightgray'\n",
    "            )\n",
    "        ),\n",
    "        width=700,\n",
    "        height=700,\n",
    "        showlegend=False\n",
    "    )\n",
    "    \n",
    "    # Linienfarbe und -stil anpassen\n",
    "    fig.update_traces(\n",
    "        line=dict(color='blue', width=3),\n",
    "        fill='tonext',\n",
    "        fillcolor='rgba(30, 144, 255, 0.3)'\n",
    "    )\n",
    "    \n",
    "    return fig\n",
    "\n",
    "# Polar-Diagramm erstellen und anzeigen\n",
    "polar_fig = create_tweet_times_polar_chart(all_musk_posts)\n",
    "polar_fig.show()"
   ]
  },
  {
   "cell_type": "markdown",
   "id": "ff9815a5-47fb-4234-8b82-f11f28ac15d7",
   "metadata": {},
   "source": [
    "## Analyse der Daten"
   ]
  },
  {
   "cell_type": "markdown",
   "id": "34bfbbf3",
   "metadata": {},
   "source": [
    "### Most liked Tweet"
   ]
  },
  {
   "cell_type": "code",
   "execution_count": 28,
   "id": "5a240bbc",
   "metadata": {},
   "outputs": [
    {
     "name": "stdout",
     "output_type": "stream",
     "text": [
      "next i’m buying coca-cola to put the cocaine back in\n"
     ]
    }
   ],
   "source": [
    "most_liked_tweet = all_musk_posts.loc[all_musk_posts['likeCount'].idxmax()]\n",
    "print(most_liked_tweet['fullText'])"
   ]
  },
  {
   "cell_type": "markdown",
   "id": "b46865b4",
   "metadata": {},
   "source": [
    "#### Kontext?\n",
    "Dazu sehen wir uns den Zeitraum an"
   ]
  },
  {
   "cell_type": "code",
   "execution_count": 29,
   "id": "f71f9483",
   "metadata": {},
   "outputs": [
    {
     "name": "stdout",
     "output_type": "stream",
     "text": [
      "2022-04-28 00:56:58+00:00\n"
     ]
    }
   ],
   "source": [
    "print(most_liked_tweet['createdAt'])"
   ]
  },
  {
   "cell_type": "markdown",
   "id": "dbc6cfa6",
   "metadata": {},
   "source": [
    "\"25. April 2022: Verhandlungserfolg \\[...\\] Der Hightech-Unternehmer Elon Musk kauft den Kurznachrichtendienst Twitter für rund 44 Milliarden Dollar (knapp 41 Milliarden Euro) auf.\"\n",
    "[Chronik Artikel der Spiegel Zeitung über den Kauf von Twitter](https://www.spiegel.de/wirtschaft/unternehmen/elon-musk-und-twitter-chronik-der-geplatzten-uebernahme-a-d7f2f6e9-5afe-4af4-b962-12ed4e5a3514)"
   ]
  },
  {
   "cell_type": "markdown",
   "id": "7b3e6017",
   "metadata": {},
   "source": [
    "### Least liked Tweet"
   ]
  },
  {
   "cell_type": "code",
   "execution_count": 30,
   "id": "7157305f",
   "metadata": {},
   "outputs": [
    {
     "name": "stdout",
     "output_type": "stream",
     "text": [
      "rt : 【】 初の静岡公演来て頂いた皆さまありがとうございました❗️ bobbyのrunaway日本語も遂に初披露❗️ 次の名古屋公演も楽しみ💥 一緒に楽しみましょう❗️お待ちしてます☺️ チケット▶️\n"
     ]
    }
   ],
   "source": [
    "least_liked_tweet = all_musk_posts.loc[all_musk_posts['likeCount'].idxmin()]\n",
    "print(re.sub(r\"https?://\\S+\", \"\", least_liked_tweet['fullText']))"
   ]
  },
  {
   "cell_type": "code",
   "execution_count": 31,
   "id": "2edc0ed4",
   "metadata": {},
   "outputs": [
    {
     "data": {
      "text/plain": [
       "Timestamp('2017-10-14 17:47:39+0000', tz='UTC')"
      ]
     },
     "execution_count": 31,
     "metadata": {},
     "output_type": "execute_result"
    }
   ],
   "source": [
    "least_liked_tweet['createdAt']"
   ]
  },
  {
   "cell_type": "markdown",
   "id": "315d7aa6",
   "metadata": {},
   "source": [
    "Wahrscheinlich gehackt... Deshalb mit quote Tweets"
   ]
  },
  {
   "cell_type": "code",
   "execution_count": 32,
   "id": "61523853",
   "metadata": {},
   "outputs": [
    {
     "name": "stdout",
     "output_type": "stream",
     "text": [
      "I'm a laker fan now\n"
     ]
    }
   ],
   "source": [
    "least_liked_tweet_quotes = musk_quote_tweets.loc[musk_quote_tweets['orig_tweet_like_count'].idxmin()]\n",
    "print(least_liked_tweet_quotes['orig_tweet_text'])"
   ]
  },
  {
   "cell_type": "markdown",
   "id": "d5f4779d",
   "metadata": {},
   "source": [
    "Wieso so wenige Likes? Nur wegen der Äußerung oder vielleicht weil es einer der ersten Tweets ist? Dazu schauen wir uns mal das Datum dieses und des ersten Tweets an:"
   ]
  },
  {
   "cell_type": "code",
   "execution_count": 33,
   "id": "83591666",
   "metadata": {},
   "outputs": [
    {
     "name": "stdout",
     "output_type": "stream",
     "text": [
      "2017-06-22 23:48:14+00:00\n"
     ]
    }
   ],
   "source": [
    "least_liked_tweet_date = least_liked_tweet_quotes['orig_tweet_created_at']\n",
    "print(least_liked_tweet_date)"
   ]
  },
  {
   "cell_type": "code",
   "execution_count": 34,
   "id": "ac9b05ce",
   "metadata": {},
   "outputs": [
    {
     "name": "stdout",
     "output_type": "stream",
     "text": [
      "@ElonMusk Elon Musk does not have a Twitter account.  Please discontinue this account immediately.  Your fraud has been reported.\n",
      "2009-04-30 15:02:35+00:00\n"
     ]
    },
    {
     "data": {
      "application/vnd.microsoft.datawrangler.viewer.v0+json": {
       "columns": [
        {
         "name": "index",
         "rawType": "object",
         "type": "string"
        },
        {
         "name": "5516",
         "rawType": "object",
         "type": "unknown"
        }
       ],
       "ref": "781b6ab8-93a0-4dae-91a9-811221cc5a37",
       "rows": [
        [
         "orig_tweet_id",
         "1659601384"
        ],
        [
         "orig_tweet_created_at",
         "2009-04-30 15:02:35+00:00"
        ],
        [
         "orig_tweet_text",
         "@ElonMusk Elon Musk does not have a Twitter account.  Please discontinue this account immediately.  Your fraud has been reported."
        ],
        [
         "orig_tweet_url",
         "https://x.com/SpaceX/status/1659601384"
        ],
        [
         "orig_tweet_twitter_url",
         "https://twitter.com/SpaceX/status/1659601384"
        ],
        [
         "orig_tweet_username",
         "SpaceX"
        ],
        [
         "orig_tweet_retweet_count",
         "6660"
        ],
        [
         "orig_tweet_reply_count",
         "285"
        ],
        [
         "orig_tweet_like_count",
         "29125"
        ],
        [
         "orig_tweet_quote_count",
         "414"
        ],
        [
         "orig_tweet_view_count",
         null
        ],
        [
         "orig_tweet_bookmark_count",
         "290"
        ],
        [
         "musk_tweet_id",
         "1089368045577920512"
        ],
        [
         "musk_quote_tweet",
         "Still my favorite tweet of all time"
        ],
        [
         "musk_quote_retweet_count",
         "9785"
        ],
        [
         "musk_quote_reply_count",
         "931"
        ],
        [
         "musk_quote_like_count",
         "101660"
        ],
        [
         "musk_quote_quote_count",
         "229"
        ],
        [
         "musk_quote_view_count",
         null
        ],
        [
         "musk_quote_bookmark_count",
         "246"
        ],
        [
         "musk_quote_created_at",
         "2019-01-27 03:42:36+00:00"
        ]
       ],
       "shape": {
        "columns": 1,
        "rows": 21
       }
      },
      "text/plain": [
       "orig_tweet_id                                                       1659601384\n",
       "orig_tweet_created_at                                2009-04-30 15:02:35+00:00\n",
       "orig_tweet_text              @ElonMusk Elon Musk does not have a Twitter ac...\n",
       "orig_tweet_url                          https://x.com/SpaceX/status/1659601384\n",
       "orig_tweet_twitter_url            https://twitter.com/SpaceX/status/1659601384\n",
       "orig_tweet_username                                                     SpaceX\n",
       "orig_tweet_retweet_count                                                  6660\n",
       "orig_tweet_reply_count                                                     285\n",
       "orig_tweet_like_count                                                    29125\n",
       "orig_tweet_quote_count                                                     414\n",
       "orig_tweet_view_count                                                      NaN\n",
       "orig_tweet_bookmark_count                                                  290\n",
       "musk_tweet_id                                              1089368045577920512\n",
       "musk_quote_tweet                           Still my favorite tweet of all time\n",
       "musk_quote_retweet_count                                                  9785\n",
       "musk_quote_reply_count                                                     931\n",
       "musk_quote_like_count                                                   101660\n",
       "musk_quote_quote_count                                                     229\n",
       "musk_quote_view_count                                                      NaN\n",
       "musk_quote_bookmark_count                                                  246\n",
       "musk_quote_created_at                                2019-01-27 03:42:36+00:00\n",
       "Name: 5516, dtype: object"
      ]
     },
     "execution_count": 34,
     "metadata": {},
     "output_type": "execute_result"
    }
   ],
   "source": [
    "earliest_tweet = musk_quote_tweets.loc[musk_quote_tweets['orig_tweet_created_at'].idxmin()]\n",
    "earliest_tweet_date = earliest_tweet['orig_tweet_created_at']\n",
    "print(earliest_tweet['orig_tweet_text'])\n",
    "print(earliest_tweet_date)\n",
    "\n",
    "earliest_tweet"
   ]
  },
  {
   "cell_type": "markdown",
   "id": "9397cf1d",
   "metadata": {},
   "source": [
    "Wieso dieser Tweet? Vielleicht war Musks Account zu der Zeit noch nicht so bekannt. Dazu schauen wir uns die Gesamtzahl an Tweets zwischen seinem ersten Tweet und dem am wenigsten geliketen mal an:"
   ]
  },
  {
   "cell_type": "code",
   "execution_count": 35,
   "id": "0913a764",
   "metadata": {},
   "outputs": [
    {
     "data": {
      "text/plain": [
       "75"
      ]
     },
     "execution_count": 35,
     "metadata": {},
     "output_type": "execute_result"
    }
   ],
   "source": [
    "filter = (\n",
    "    musk_quote_tweets['orig_tweet_created_at'] < least_liked_tweet_date\n",
    ")\n",
    "\n",
    "quote_tweets_between_creation_least_liked = musk_quote_tweets[filter]\n",
    "quote_tweets_between_creation_least_liked.shape[0]"
   ]
  },
  {
   "cell_type": "markdown",
   "id": "66886cd6",
   "metadata": {},
   "source": [
    "Tatsächlich einer der ersten. Wie waren die likes der Tweets davor?"
   ]
  },
  {
   "cell_type": "code",
   "execution_count": 36,
   "id": "e117f49c",
   "metadata": {},
   "outputs": [
    {
     "name": "stdout",
     "output_type": "stream",
     "text": [
      "4851.506666666667\n"
     ]
    }
   ],
   "source": [
    "print(quote_tweets_between_creation_least_liked['orig_tweet_like_count'].mean())"
   ]
  },
  {
   "cell_type": "markdown",
   "id": "6db9a18f",
   "metadata": {},
   "source": [
    "Also lag es doch and er Äußerung."
   ]
  },
  {
   "cell_type": "markdown",
   "id": "3de1dbb7",
   "metadata": {},
   "source": [
    "### Wordcloud\n",
    "#### Die Idee\n",
    "- erzeuge eine Wordcloud um 'Triggerwords' zu zeigen\n",
    "    - Lemmatisierung um Verben auszuschließen\n",
    "- Anzahl politischer Äußerungen gegenübergestellt zu nicht politischen (ablesbar, oder gesondert betrachten)\n",
    "\n",
    "### Probleme\n",
    "- Wordcloud ändert sich bei jeder Ausführung (Anordnung, Wörter nicht)\n",
    "    - -> sichere die Wordcloud sobald Ergebnis gut\n",
    "- Textfarben teilweise schwer erkennbar bei weißen Hintergrund"
   ]
  },
  {
   "cell_type": "markdown",
   "id": "36318c5d",
   "metadata": {},
   "source": [
    "#### Prep"
   ]
  },
  {
   "cell_type": "code",
   "execution_count": 37,
   "id": "b4a8f40b",
   "metadata": {},
   "outputs": [
    {
     "name": "stderr",
     "output_type": "stream",
     "text": [
      "[nltk_data] Downloading package punkt to\n",
      "[nltk_data]     /Users/eliaseigner/nltk_data...\n",
      "[nltk_data]   Package punkt is already up-to-date!\n",
      "[nltk_data] Downloading package wordnet to\n",
      "[nltk_data]     /Users/eliaseigner/nltk_data...\n",
      "[nltk_data]   Package wordnet is already up-to-date!\n",
      "[nltk_data] Downloading package stopwords to\n",
      "[nltk_data]     /Users/eliaseigner/nltk_data...\n",
      "[nltk_data]   Package stopwords is already up-to-date!\n",
      "[nltk_data] Downloading package averaged_perceptron_tagger_eng to\n",
      "[nltk_data]     /Users/eliaseigner/nltk_data...\n",
      "[nltk_data]   Package averaged_perceptron_tagger_eng is already up-to-\n",
      "[nltk_data]       date!\n"
     ]
    },
    {
     "data": {
      "text/plain": [
       "True"
      ]
     },
     "execution_count": 37,
     "metadata": {},
     "output_type": "execute_result"
    }
   ],
   "source": [
    "nltk.download('punkt')\n",
    "nltk.download('wordnet')\n",
    "nltk.download('stopwords')\n",
    "nltk.download('averaged_perceptron_tagger_eng')"
   ]
  },
  {
   "cell_type": "markdown",
   "id": "24ba4b78",
   "metadata": {},
   "source": [
    "#### tf-idf"
   ]
  },
  {
   "cell_type": "code",
   "execution_count": 38,
   "id": "8a52ccf6",
   "metadata": {},
   "outputs": [
    {
     "data": {
      "image/png": "[encoded data removed]",
      "text/plain": [
       "<Figure size 640x480 with 1 Axes>"
      ]
     },
     "metadata": {},
     "output_type": "display_data"
    }
   ],
   "source": [
    "# Create corpus from your tweet data\n",
    "corpus = all_musk_posts['fullText'].astype(str).tolist()\n",
    "\n",
    "# Vektorizer ohne Normierung\n",
    "vectorizer = TfidfVectorizer(\n",
    "    norm=None, \n",
    "    stop_words='english', \n",
    "    lowercase=True,\n",
    "    token_pattern=r'(?u)\\b[A-Za-z][A-Za-z]+\\b'\n",
    ")\n",
    "tfidf_matrix = vectorizer.fit_transform(corpus)\n",
    "\n",
    "# Feature-Namen (Wörter)\n",
    "feature_names = vectorizer.get_feature_names_out()\n",
    "\n",
    "# Maximalen TF-IDF-Wert je Wort (Spalte) berechnen - memory efficient\n",
    "max_per_column = tfidf_matrix.max(axis=0).toarray().flatten()\n",
    "max_tfidf_series = pd.Series(max_per_column, index=feature_names)\n",
    "\n",
    "# Top 50 Wörter mit höchsten TF-IDF-Werten\n",
    "top_50_words = max_tfidf_series.nlargest(50)\n",
    "\n",
    "# Create word frequency dictionary for WordCloud\n",
    "word_freq_dict = top_50_words.to_dict()\n",
    "\n",
    "# Generate WordCloud from the top 50 words\n",
    "wordcloud_tfidf = WordCloud(\n",
    "    max_font_size=50,\n",
    "    max_words=50,\n",
    "    background_color=\"black\",\n",
    "    colormap='viridis',\n",
    ").generate_from_frequencies(word_freq_dict)\n",
    "\n",
    "# Display the WordCloud\n",
    "plt.imshow(wordcloud_tfidf, interpolation='bilinear')\n",
    "plt.axis(\"off\")\n",
    "plt.title(\"Top 50 Words by TF-IDF Values\")\n",
    "plt.show()"
   ]
  },
  {
   "cell_type": "markdown",
   "id": "95673f15",
   "metadata": {},
   "source": [
    "#### Gen"
   ]
  },
  {
   "cell_type": "code",
   "execution_count": 39,
   "id": "bc3a7cf5",
   "metadata": {},
   "outputs": [
    {
     "data": {
      "image/png": "[encoded data removed]",
      "text/plain": [
       "<Figure size 640x480 with 1 Axes>"
      ]
     },
     "metadata": {},
     "output_type": "display_data"
    }
   ],
   "source": [
    "# Text vorbereiten\n",
    "tweets_as_text = \"\\n\".join(all_musk_posts['fullText'].astype(str))\n",
    "\n",
    "# Optional: Text speichern\n",
    "with open('./data/tweets_as_text.txt', 'w', encoding='utf-8') as file:\n",
    "    file.write(tweets_as_text)\n",
    "\n",
    "# Tokenisierung und Lemmatization\n",
    "lemmatizer = WordNetLemmatizer()\n",
    "stop_words = set(stopwords.words('english'))\n",
    "\n",
    "words = nltk.word_tokenize(tweets_as_text.lower())\n",
    "words = [lemmatizer.lemmatize(word) for word in words if word.isalpha()]\n",
    "\n",
    "# POS-Tagging\n",
    "pos_tags = nltk.pos_tag(words)\n",
    "\n",
    "# Nur Nomen behalten\n",
    "filtered_nouns = []\n",
    "for word, pos in pos_tags:\n",
    "    if word.isalpha() and word not in stop_words:\n",
    "        if pos.startswith('NN'):\n",
    "            lemmatized_word = lemmatizer.lemmatize(word)\n",
    "            filtered_nouns.append(lemmatized_word)\n",
    "\n",
    "# Clean Text für Wordcloud\n",
    "# (noch alle Nomen, spätere Filterung je nach Themenauswahl)\n",
    "clean_text = ' '.join(filtered_nouns)\n",
    "\n",
    "# Wordcloud erzeugen (aber noch NICHT anzeigen)\n",
    "tweets_wordcloud = WordCloud(\n",
    "    max_font_size=50,\n",
    "    max_words=50,\n",
    "    background_color=\"black\",\n",
    "    colormap='viridis'\n",
    ").generate_from_text(clean_text)\n",
    "\n",
    "plt.imshow(tweets_wordcloud, interpolation='bilinear')\n",
    "plt.axis(\"off\")\n",
    "plt.title(\"Top 50 words by frequency\")\n",
    "plt.show()"
   ]
  },
  {
   "cell_type": "code",
   "execution_count": 40,
   "id": "264b55ba",
   "metadata": {},
   "outputs": [
    {
     "data": {
      "image/png": "[encoded data removed]",
      "text/plain": [
       "<Figure size 640x480 with 1 Axes>"
      ]
     },
     "metadata": {},
     "output_type": "display_data"
    }
   ],
   "source": [
    "# A word cloud about his utterances on Germany\n",
    "germany_tweets = all_musk_posts[all_musk_posts['fullText'].str.contains('germany', case=False, na=False)]\n",
    "germany_text = ' '.join(germany_tweets['fullText'].astype(str))\n",
    "germany_wordcloud = WordCloud(\n",
    "    max_font_size=50,\n",
    "    max_words=50,\n",
    "    background_color=\"black\",\n",
    "    colormap='viridis'\n",
    ").generate_from_text(germany_text)\n",
    "plt.imshow(germany_wordcloud, interpolation='bilinear')\n",
    "plt.axis(\"off\")\n",
    "plt.title(\"Musk's Tweets about Germany\")\n",
    "plt.show()"
   ]
  },
  {
   "cell_type": "markdown",
   "id": "4329c0eb",
   "metadata": {},
   "source": [
    "#### Sentiment-Analyse"
   ]
  },
  {
   "cell_type": "code",
   "execution_count": 42,
   "id": "4b82d165",
   "metadata": {},
   "outputs": [],
   "source": [
    "from nltk.sentiment import SentimentIntensityAnalyzer\n",
    "import tqdm\n",
    "\n",
    "sia = SentimentIntensityAnalyzer()"
   ]
  },
  {
   "cell_type": "markdown",
   "id": "c692f5b4",
   "metadata": {},
   "source": [
    "Beispiele"
   ]
  },
  {
   "cell_type": "code",
   "execution_count": 43,
   "id": "b4b31d02",
   "metadata": {},
   "outputs": [
    {
     "data": {
      "text/plain": [
       "{'neg': 0.0, 'neu': 0.318, 'pos': 0.682, 'compound': 0.6468}"
      ]
     },
     "execution_count": 43,
     "metadata": {},
     "output_type": "execute_result"
    }
   ],
   "source": [
    "sia.polarity_scores('I am very happy!')"
   ]
  },
  {
   "cell_type": "code",
   "execution_count": 44,
   "id": "02b9c698",
   "metadata": {},
   "outputs": [
    {
     "data": {
      "text/plain": [
       "{'neg': 0.523, 'neu': 0.477, 'pos': 0.0, 'compound': -0.6588}"
      ]
     },
     "execution_count": 44,
     "metadata": {},
     "output_type": "execute_result"
    }
   ],
   "source": [
    "sia.polarity_scores('Tesla is the worst company!')"
   ]
  },
  {
   "cell_type": "markdown",
   "id": "514be883",
   "metadata": {},
   "source": [
    "Wird Verneinung erkannt?"
   ]
  },
  {
   "cell_type": "code",
   "execution_count": 45,
   "id": "4a8c40c0",
   "metadata": {},
   "outputs": [
    {
     "data": {
      "text/plain": [
       "{'neg': 0.0, 'neu': 0.582, 'pos': 0.418, 'compound': 0.5553}"
      ]
     },
     "execution_count": 45,
     "metadata": {},
     "output_type": "execute_result"
    }
   ],
   "source": [
    "sia.polarity_scores('Tesla is not the worst company!')"
   ]
  },
  {
   "cell_type": "markdown",
   "id": "4d2aa26f",
   "metadata": {},
   "source": [
    "Ja!"
   ]
  },
  {
   "cell_type": "markdown",
   "id": "3358ee48",
   "metadata": {},
   "source": [
    "Nun führen wir die Zuordnung auf den ganzen Dataframe aus."
   ]
  },
  {
   "cell_type": "code",
   "execution_count": 46,
   "id": "b369f047",
   "metadata": {},
   "outputs": [
    {
     "name": "stderr",
     "output_type": "stream",
     "text": [
      "100%|██████████| 52042/52042 [00:03<00:00, 16758.39it/s]\n"
     ]
    }
   ],
   "source": [
    "polarity_scores = {}\n",
    "for _, row in tqdm.tqdm(all_musk_posts.iterrows(), total=len(all_musk_posts)):\n",
    "    text = row['fullText']\n",
    "    ploarity_scores_id = row['id']\n",
    "    polarity_scores[ploarity_scores_id] = sia.polarity_scores(text)"
   ]
  },
  {
   "cell_type": "code",
   "execution_count": 47,
   "id": "dcaa6cb0",
   "metadata": {},
   "outputs": [
    {
     "data": {
      "application/vnd.microsoft.datawrangler.viewer.v0+json": {
       "columns": [
        {
         "name": "index",
         "rawType": "int64",
         "type": "integer"
        },
        {
         "name": "id",
         "rawType": "int64",
         "type": "integer"
        },
        {
         "name": "neg",
         "rawType": "float64",
         "type": "float"
        },
        {
         "name": "neu",
         "rawType": "float64",
         "type": "float"
        },
        {
         "name": "pos",
         "rawType": "float64",
         "type": "float"
        },
        {
         "name": "compound",
         "rawType": "float64",
         "type": "float"
        }
       ],
       "ref": "72f543de-eab4-49ba-a5c0-da3a9ee53e2a",
       "rows": [
        [
         "0",
         "1655159652990976000",
         "0.0",
         "1.0",
         "0.0",
         "0.0"
        ],
        [
         "1",
         "1623774484795920384",
         "0.0",
         "0.779",
         "0.221",
         "0.6597"
        ],
        [
         "2",
         "1656900119202254854",
         "0.0",
         "1.0",
         "0.0",
         "0.0"
        ],
        [
         "3",
         "1616531874763116544",
         "0.0",
         "0.408",
         "0.592",
         "0.6996"
        ],
        [
         "4",
         "1608035930983604230",
         "0.0",
         "1.0",
         "0.0",
         "0.0"
        ],
        [
         "5",
         "1602885009647366144",
         "0.0",
         "0.649",
         "0.351",
         "0.4019"
        ],
        [
         "6",
         "1643021267157803008",
         "0.0",
         "1.0",
         "0.0",
         "0.0"
        ],
        [
         "7",
         "1642996528381042688",
         "0.0",
         "1.0",
         "0.0",
         "0.0"
        ],
        [
         "8",
         "1639022301973970944",
         "0.0",
         "1.0",
         "0.0",
         "0.0"
        ],
        [
         "9",
         "1597331143158034433",
         "0.0",
         "0.4",
         "0.6",
         "0.7184"
        ],
        [
         "10",
         "1633159188787658757",
         "0.07",
         "0.789",
         "0.141",
         "0.5849"
        ],
        [
         "11",
         "1633155636996485120",
         "0.0",
         "1.0",
         "0.0",
         "0.0"
        ],
        [
         "12",
         "1632578926936571904",
         "0.0",
         "1.0",
         "0.0",
         "0.0"
        ],
        [
         "13",
         "1587624757364760576",
         "0.0",
         "0.914",
         "0.086",
         "0.1779"
        ],
        [
         "14",
         "1624993347625443329",
         "0.0",
         "0.872",
         "0.128",
         "0.3612"
        ],
        [
         "15",
         "1624920846166007808",
         "0.0",
         "1.0",
         "0.0",
         "0.0"
        ],
        [
         "16",
         "1624150159927160832",
         "0.093",
         "0.737",
         "0.17",
         "0.4574"
        ],
        [
         "17",
         "1576297211058880512",
         "0.0",
         "1.0",
         "0.0",
         "0.0"
        ],
        [
         "18",
         "1621988107603116033",
         "0.231",
         "0.769",
         "0.0",
         "-0.2732"
        ],
        [
         "19",
         "1552106724366090246",
         "0.0",
         "1.0",
         "0.0",
         "0.0"
        ],
        [
         "20",
         "1552101512544919553",
         "0.0",
         "0.606",
         "0.394",
         "0.3818"
        ],
        [
         "21",
         "1551955376295256064",
         "0.289",
         "0.711",
         "0.0",
         "-0.7579"
        ],
        [
         "22",
         "1551629246661120000",
         "0.0",
         "1.0",
         "0.0",
         "0.0"
        ],
        [
         "23",
         "1605352537233694721",
         "0.0",
         "1.0",
         "0.0",
         "0.0"
        ],
        [
         "24",
         "1604345722001817600",
         "0.174",
         "0.645",
         "0.181",
         "0.0258"
        ],
        [
         "25",
         "1602948868248936448",
         "0.0",
         "1.0",
         "0.0",
         "0.0"
        ],
        [
         "26",
         "1597331151211069440",
         "0.0",
         "1.0",
         "0.0",
         "0.0"
        ],
        [
         "27",
         "1527793145097900036",
         "0.112",
         "0.888",
         "0.0",
         "-0.2263"
        ],
        [
         "28",
         "1512494444100132865",
         "0.0",
         "1.0",
         "0.0",
         "0.0"
        ],
        [
         "29",
         "1591585984747286528",
         "0.0",
         "0.925",
         "0.075",
         "0.0772"
        ],
        [
         "30",
         "1590422948246343680",
         "0.16",
         "0.84",
         "0.0",
         "-0.4215"
        ],
        [
         "31",
         "1488289327767560194",
         "0.0",
         "1.0",
         "0.0",
         "0.0"
        ],
        [
         "32",
         "1585289655431229440",
         "0.0",
         "1.0",
         "0.0",
         "0.0"
        ],
        [
         "33",
         "1576976609348681738",
         "0.0",
         "0.659",
         "0.341",
         "0.3802"
        ],
        [
         "34",
         "1567726195671797766",
         "0.0",
         "1.0",
         "0.0",
         "0.0"
        ],
        [
         "35",
         "1567723610197852160",
         "0.0",
         "0.758",
         "0.242",
         "0.4927"
        ],
        [
         "36",
         "1567722560443355141",
         "0.188",
         "0.812",
         "0.0",
         "-0.5267"
        ],
        [
         "37",
         "1563340246682849281",
         "0.0",
         "1.0",
         "0.0",
         "0.0"
        ],
        [
         "38",
         "1563337811578978305",
         "0.0",
         "0.441",
         "0.559",
         "0.5859"
        ],
        [
         "39",
         "1669162882859433984",
         "0.15",
         "0.751",
         "0.099",
         "-0.128"
        ],
        [
         "40",
         "1667601876135686147",
         "0.0",
         "0.0",
         "1.0",
         "0.5859"
        ],
        [
         "41",
         "1666484466506760193",
         "0.0",
         "1.0",
         "0.0",
         "0.0"
        ],
        [
         "42",
         "1665352062735900672",
         "0.0",
         "1.0",
         "0.0",
         "0.0"
        ],
        [
         "43",
         "1648787284429352964",
         "0.0",
         "0.0",
         "1.0",
         "0.5859"
        ],
        [
         "44",
         "1627247215059124228",
         "0.0",
         "1.0",
         "0.0",
         "0.0"
        ],
        [
         "45",
         "1616592077831426048",
         "0.0",
         "0.0",
         "1.0",
         "0.5859"
        ],
        [
         "46",
         "1609641851837108224",
         "0.0",
         "1.0",
         "0.0",
         "0.0"
        ],
        [
         "47",
         "1605275881181794311",
         "0.0",
         "0.0",
         "1.0",
         "0.5859"
        ],
        [
         "48",
         "1597275311577890816",
         "0.0",
         "0.0",
         "1.0",
         "0.5093"
        ],
        [
         "49",
         "1595294061694373889",
         "0.0",
         "1.0",
         "0.0",
         "0.0"
        ]
       ],
       "shape": {
        "columns": 5,
        "rows": 52042
       }
      },
      "text/html": [
       "<div>\n",
       "<style scoped>\n",
       "    .dataframe tbody tr th:only-of-type {\n",
       "        vertical-align: middle;\n",
       "    }\n",
       "\n",
       "    .dataframe tbody tr th {\n",
       "        vertical-align: top;\n",
       "    }\n",
       "\n",
       "    .dataframe thead th {\n",
       "        text-align: right;\n",
       "    }\n",
       "</style>\n",
       "<table border=\"1\" class=\"dataframe\">\n",
       "  <thead>\n",
       "    <tr style=\"text-align: right;\">\n",
       "      <th></th>\n",
       "      <th>id</th>\n",
       "      <th>neg</th>\n",
       "      <th>neu</th>\n",
       "      <th>pos</th>\n",
       "      <th>compound</th>\n",
       "    </tr>\n",
       "  </thead>\n",
       "  <tbody>\n",
       "    <tr>\n",
       "      <th>0</th>\n",
       "      <td>1655159652990976000</td>\n",
       "      <td>0.0</td>\n",
       "      <td>1.000</td>\n",
       "      <td>0.000</td>\n",
       "      <td>0.0000</td>\n",
       "    </tr>\n",
       "    <tr>\n",
       "      <th>1</th>\n",
       "      <td>1623774484795920384</td>\n",
       "      <td>0.0</td>\n",
       "      <td>0.779</td>\n",
       "      <td>0.221</td>\n",
       "      <td>0.6597</td>\n",
       "    </tr>\n",
       "    <tr>\n",
       "      <th>2</th>\n",
       "      <td>1656900119202254854</td>\n",
       "      <td>0.0</td>\n",
       "      <td>1.000</td>\n",
       "      <td>0.000</td>\n",
       "      <td>0.0000</td>\n",
       "    </tr>\n",
       "    <tr>\n",
       "      <th>3</th>\n",
       "      <td>1616531874763116544</td>\n",
       "      <td>0.0</td>\n",
       "      <td>0.408</td>\n",
       "      <td>0.592</td>\n",
       "      <td>0.6996</td>\n",
       "    </tr>\n",
       "    <tr>\n",
       "      <th>4</th>\n",
       "      <td>1608035930983604230</td>\n",
       "      <td>0.0</td>\n",
       "      <td>1.000</td>\n",
       "      <td>0.000</td>\n",
       "      <td>0.0000</td>\n",
       "    </tr>\n",
       "    <tr>\n",
       "      <th>...</th>\n",
       "      <td>...</td>\n",
       "      <td>...</td>\n",
       "      <td>...</td>\n",
       "      <td>...</td>\n",
       "      <td>...</td>\n",
       "    </tr>\n",
       "    <tr>\n",
       "      <th>52037</th>\n",
       "      <td>1863748322424402395</td>\n",
       "      <td>0.0</td>\n",
       "      <td>0.000</td>\n",
       "      <td>1.000</td>\n",
       "      <td>0.3182</td>\n",
       "    </tr>\n",
       "    <tr>\n",
       "      <th>52038</th>\n",
       "      <td>1863740336331170304</td>\n",
       "      <td>0.0</td>\n",
       "      <td>1.000</td>\n",
       "      <td>0.000</td>\n",
       "      <td>0.0000</td>\n",
       "    </tr>\n",
       "    <tr>\n",
       "      <th>52039</th>\n",
       "      <td>1863740028406337896</td>\n",
       "      <td>0.0</td>\n",
       "      <td>1.000</td>\n",
       "      <td>0.000</td>\n",
       "      <td>0.0000</td>\n",
       "    </tr>\n",
       "    <tr>\n",
       "      <th>52040</th>\n",
       "      <td>1863736644773220593</td>\n",
       "      <td>0.0</td>\n",
       "      <td>1.000</td>\n",
       "      <td>0.000</td>\n",
       "      <td>0.0000</td>\n",
       "    </tr>\n",
       "    <tr>\n",
       "      <th>52041</th>\n",
       "      <td>1863736436945555943</td>\n",
       "      <td>0.0</td>\n",
       "      <td>1.000</td>\n",
       "      <td>0.000</td>\n",
       "      <td>0.0000</td>\n",
       "    </tr>\n",
       "  </tbody>\n",
       "</table>\n",
       "<p>52042 rows × 5 columns</p>\n",
       "</div>"
      ],
      "text/plain": [
       "                        id  neg    neu    pos  compound\n",
       "0      1655159652990976000  0.0  1.000  0.000    0.0000\n",
       "1      1623774484795920384  0.0  0.779  0.221    0.6597\n",
       "2      1656900119202254854  0.0  1.000  0.000    0.0000\n",
       "3      1616531874763116544  0.0  0.408  0.592    0.6996\n",
       "4      1608035930983604230  0.0  1.000  0.000    0.0000\n",
       "...                    ...  ...    ...    ...       ...\n",
       "52037  1863748322424402395  0.0  0.000  1.000    0.3182\n",
       "52038  1863740336331170304  0.0  1.000  0.000    0.0000\n",
       "52039  1863740028406337896  0.0  1.000  0.000    0.0000\n",
       "52040  1863736644773220593  0.0  1.000  0.000    0.0000\n",
       "52041  1863736436945555943  0.0  1.000  0.000    0.0000\n",
       "\n",
       "[52042 rows x 5 columns]"
      ]
     },
     "execution_count": 47,
     "metadata": {},
     "output_type": "execute_result"
    }
   ],
   "source": [
    "vaders = pd.DataFrame(polarity_scores).T\n",
    "vaders = vaders.reset_index().rename(columns={'index' : 'id'})\n",
    "vaders"
   ]
  },
  {
   "cell_type": "markdown",
   "id": "8c21ff24",
   "metadata": {},
   "source": [
    "Jetzt mergen wir die Polarity-Scores an den original Dataframe."
   ]
  },
  {
   "cell_type": "code",
   "execution_count": 48,
   "id": "9491331a",
   "metadata": {},
   "outputs": [
    {
     "data": {
      "application/vnd.microsoft.datawrangler.viewer.v0+json": {
       "columns": [
        {
         "name": "index",
         "rawType": "int64",
         "type": "integer"
        },
        {
         "name": "id",
         "rawType": "int64",
         "type": "integer"
        },
        {
         "name": "url",
         "rawType": "object",
         "type": "string"
        },
        {
         "name": "twitterUrl",
         "rawType": "object",
         "type": "string"
        },
        {
         "name": "fullText",
         "rawType": "object",
         "type": "string"
        },
        {
         "name": "retweetCount",
         "rawType": "float64",
         "type": "float"
        },
        {
         "name": "replyCount",
         "rawType": "float64",
         "type": "float"
        },
        {
         "name": "likeCount",
         "rawType": "float64",
         "type": "float"
        },
        {
         "name": "quoteCount",
         "rawType": "float64",
         "type": "float"
        },
        {
         "name": "viewCount",
         "rawType": "float64",
         "type": "float"
        },
        {
         "name": "createdAt",
         "rawType": "datetime64[ns, UTC]",
         "type": "unknown"
        },
        {
         "name": "bookmarkCount",
         "rawType": "float64",
         "type": "float"
        },
        {
         "name": "isReply",
         "rawType": "object",
         "type": "unknown"
        },
        {
         "name": "inReplyToId",
         "rawType": "float64",
         "type": "float"
        },
        {
         "name": "conversationId",
         "rawType": "float64",
         "type": "float"
        },
        {
         "name": "inReplyToUserId",
         "rawType": "float64",
         "type": "float"
        },
        {
         "name": "inReplyToUsername",
         "rawType": "object",
         "type": "unknown"
        },
        {
         "name": "isPinned",
         "rawType": "object",
         "type": "unknown"
        },
        {
         "name": "isRetweet",
         "rawType": "object",
         "type": "unknown"
        },
        {
         "name": "isQuote",
         "rawType": "object",
         "type": "unknown"
        },
        {
         "name": "isConversationControlled",
         "rawType": "object",
         "type": "unknown"
        },
        {
         "name": "possiblySensitive",
         "rawType": "object",
         "type": "unknown"
        },
        {
         "name": "quoteId",
         "rawType": "float64",
         "type": "float"
        },
        {
         "name": "quote",
         "rawType": "object",
         "type": "unknown"
        },
        {
         "name": "retweet",
         "rawType": "object",
         "type": "unknown"
        },
        {
         "name": "year_month",
         "rawType": "period[M]",
         "type": "unknown"
        },
        {
         "name": "sentiment",
         "rawType": "float64",
         "type": "float"
        },
        {
         "name": "sentiment_category",
         "rawType": "object",
         "type": "string"
        },
        {
         "name": "period",
         "rawType": "object",
         "type": "string"
        },
        {
         "name": "neg",
         "rawType": "float64",
         "type": "float"
        },
        {
         "name": "neu",
         "rawType": "float64",
         "type": "float"
        },
        {
         "name": "pos",
         "rawType": "float64",
         "type": "float"
        },
        {
         "name": "compound",
         "rawType": "float64",
         "type": "float"
        }
       ],
       "ref": "f2d0d605-0bd0-4779-b44a-e420fa14ac75",
       "rows": [
        [
         "0",
         "1655159652990976000",
         "https://x.com/elonmusk/status/1655159652990976000",
         "https://twitter.com/elonmusk/status/1655159652990976000",
         "rt : i read ’s “how to make wealth” in hackers &amp; painters when i was in my mid twenties. it’s one of those pieces that…",
         null,
         null,
         null,
         null,
         null,
         "2023-05-07 10:36:27+00:00",
         null,
         null,
         null,
         null,
         null,
         null,
         null,
         null,
         null,
         null,
         null,
         null,
         null,
         null,
         "2023-05",
         "0.0",
         "Neutral",
         "After acquisition",
         "0.0",
         "1.0",
         "0.0",
         "0.0"
        ],
        [
         "1",
         "1623774484795920384",
         "https://x.com/elonmusk/status/1623774484795920384",
         "https://twitter.com/elonmusk/status/1623774484795920384",
         "rt : dude bookmarks are an awesome twitter feature, especially when preparing for a twitter spaces where you want to talk about pa…",
         null,
         null,
         null,
         null,
         null,
         "2023-02-09 20:03:00+00:00",
         null,
         null,
         null,
         null,
         null,
         null,
         null,
         null,
         null,
         null,
         null,
         null,
         null,
         null,
         "2023-02",
         "0.5",
         "Positive",
         "After acquisition",
         "0.0",
         "0.779",
         "0.221",
         "0.6597"
        ],
        [
         "2",
         "1656900119202254854",
         "https://x.com/elonmusk/status/1656900119202254854",
         "https://twitter.com/elonmusk/status/1656900119202254854",
         "event horizon balance beam",
         null,
         null,
         null,
         null,
         null,
         "2023-05-12 05:52:26+00:00",
         null,
         null,
         null,
         null,
         null,
         null,
         null,
         null,
         null,
         null,
         null,
         null,
         null,
         null,
         "2023-05",
         "0.0",
         "Neutral",
         "After acquisition",
         "0.0",
         "1.0",
         "0.0",
         "0.0"
        ],
        [
         "3",
         "1616531874763116544",
         "https://x.com/elonmusk/status/1616531874763116544",
         "https://twitter.com/elonmusk/status/1616531874763116544",
         "rt : oh that’s actually pretty cool!",
         null,
         null,
         null,
         null,
         null,
         "2023-01-20 20:23:27+00:00",
         null,
         null,
         null,
         null,
         null,
         null,
         null,
         null,
         null,
         null,
         null,
         null,
         null,
         null,
         "2023-01",
         "0.34375",
         "Positive",
         "After acquisition",
         "0.0",
         "0.408",
         "0.592",
         "0.6996"
        ],
        [
         "4",
         "1608035930983604230",
         "https://x.com/elonmusk/status/1608035930983604230",
         "https://twitter.com/elonmusk/status/1608035930983604230",
         "rt : watch falcon 9 launch 54 starlink satellites to orbit →",
         null,
         null,
         null,
         null,
         null,
         "2022-12-28 09:43:36+00:00",
         null,
         null,
         null,
         null,
         null,
         null,
         null,
         null,
         null,
         null,
         null,
         null,
         null,
         null,
         "2022-12",
         "0.0",
         "Neutral",
         "After acquisition",
         "0.0",
         "1.0",
         "0.0",
         "0.0"
        ],
        [
         "5",
         "1602885009647366144",
         "https://x.com/elonmusk/status/1602885009647366144",
         "https://twitter.com/elonmusk/status/1602885009647366144",
         "rt : holiday update rolling out now 🎅",
         null,
         null,
         null,
         null,
         null,
         "2022-12-14 04:35:41+00:00",
         null,
         null,
         null,
         null,
         null,
         null,
         null,
         null,
         null,
         null,
         null,
         null,
         null,
         null,
         "2022-12",
         "0.0",
         "Neutral",
         "After acquisition",
         "0.0",
         "0.649",
         "0.351",
         "0.4019"
        ],
        [
         "6",
         "1643021267157803008",
         "https://x.com/elonmusk/status/1643021267157803008",
         "https://twitter.com/elonmusk/status/1643021267157803008",
         "the internetz",
         null,
         null,
         null,
         null,
         null,
         "2023-04-03 22:42:50+00:00",
         null,
         null,
         null,
         null,
         null,
         null,
         null,
         null,
         null,
         null,
         null,
         null,
         null,
         null,
         "2023-04",
         "0.0",
         "Neutral",
         "After acquisition",
         "0.0",
         "1.0",
         "0.0",
         "0.0"
        ],
        [
         "7",
         "1642996528381042688",
         "https://x.com/elonmusk/status/1642996528381042688",
         "https://twitter.com/elonmusk/status/1642996528381042688",
         "what a tool",
         null,
         null,
         null,
         null,
         null,
         "2023-04-03 21:04:32+00:00",
         null,
         null,
         null,
         null,
         null,
         null,
         null,
         null,
         null,
         null,
         null,
         null,
         null,
         null,
         "2023-04",
         "0.0",
         "Neutral",
         "After acquisition",
         "0.0",
         "1.0",
         "0.0",
         "0.0"
        ],
        [
         "8",
         "1639022301973970944",
         "https://x.com/elonmusk/status/1639022301973970944",
         "https://twitter.com/elonmusk/status/1639022301973970944",
         "to get blue verified for $7/month, sign up via web browser at",
         null,
         null,
         null,
         null,
         null,
         "2023-03-23 21:52:23+00:00",
         null,
         null,
         null,
         null,
         null,
         null,
         null,
         null,
         null,
         null,
         null,
         null,
         null,
         null,
         "2023-03",
         "0.0",
         "Neutral",
         "After acquisition",
         "0.0",
         "1.0",
         "0.0",
         "0.0"
        ],
        [
         "9",
         "1597331143158034433",
         "https://x.com/elonmusk/status/1597331143158034433",
         "https://twitter.com/elonmusk/status/1597331143158034433",
         "rt : apple should support free speech.",
         null,
         null,
         null,
         null,
         null,
         "2022-11-28 20:46:36+00:00",
         null,
         null,
         null,
         null,
         null,
         null,
         null,
         null,
         null,
         null,
         null,
         null,
         null,
         null,
         "2022-11",
         "0.4",
         "Positive",
         "After acquisition",
         "0.0",
         "0.4",
         "0.6",
         "0.7184"
        ],
        [
         "10",
         "1633159188787658757",
         "https://x.com/elonmusk/status/1633159188787658757",
         "https://twitter.com/elonmusk/status/1633159188787658757",
         "he has a prominent, active twitter account and is wealthy. the reason he confronted me in public was to get a big payout. from what i’ve been told, he’s done almost no work for the past four months, middle-management or otherwise. despite his claims on twitter that he did…",
         null,
         null,
         null,
         null,
         null,
         "2023-03-07 17:34:27+00:00",
         null,
         null,
         null,
         null,
         null,
         null,
         null,
         null,
         null,
         null,
         null,
         null,
         null,
         null,
         "2023-03",
         "0.10277777777777779",
         "Positive",
         "After acquisition",
         "0.07",
         "0.789",
         "0.141",
         "0.5849"
        ],
        [
         "11",
         "1633155636996485120",
         "https://x.com/elonmusk/status/1633155636996485120",
         "https://twitter.com/elonmusk/status/1633155636996485120",
         "correct",
         null,
         null,
         null,
         null,
         null,
         "2023-03-07 17:20:21+00:00",
         null,
         null,
         null,
         null,
         null,
         null,
         null,
         null,
         null,
         null,
         null,
         null,
         null,
         null,
         "2023-03",
         "0.0",
         "Neutral",
         "After acquisition",
         "0.0",
         "1.0",
         "0.0",
         "0.0"
        ],
        [
         "12",
         "1632578926936571904",
         "https://x.com/elonmusk/status/1632578926936571904",
         "https://twitter.com/elonmusk/status/1632578926936571904",
         "ai ml llm lstm gpt diffusion",
         null,
         null,
         null,
         null,
         null,
         "2023-03-06 03:08:42+00:00",
         null,
         null,
         null,
         null,
         null,
         null,
         null,
         null,
         null,
         null,
         null,
         null,
         null,
         null,
         "2023-03",
         "0.0",
         "Neutral",
         "After acquisition",
         "0.0",
         "1.0",
         "0.0",
         "0.0"
        ],
        [
         "13",
         "1587624757364760576",
         "https://x.com/elonmusk/status/1587624757364760576",
         "https://twitter.com/elonmusk/status/1587624757364760576",
         "rt : we’re staying vigilant against attempts to manipulate conversations about the 2022 us midterms. read on for independent analysi…",
         null,
         null,
         null,
         null,
         null,
         "2022-11-02 01:56:53+00:00",
         null,
         null,
         null,
         null,
         null,
         null,
         null,
         null,
         null,
         null,
         null,
         null,
         null,
         null,
         "2022-11",
         "0.0",
         "Neutral",
         "After acquisition",
         "0.0",
         "0.914",
         "0.086",
         "0.1779"
        ],
        [
         "14",
         "1624993347625443329",
         "https://x.com/elonmusk/status/1624993347625443329",
         "https://twitter.com/elonmusk/status/1624993347625443329",
         "rt : tonight, 84% of big game tv advertisers tweeted about their campaigns. thank you for tweeting with us.",
         null,
         null,
         null,
         null,
         null,
         "2023-02-13 04:46:19+00:00",
         null,
         null,
         null,
         null,
         null,
         null,
         null,
         null,
         null,
         null,
         null,
         null,
         null,
         null,
         "2023-02",
         "-0.2",
         "Negative",
         "After acquisition",
         "0.0",
         "0.872",
         "0.128",
         "0.3612"
        ],
        [
         "15",
         "1624920846166007808",
         "https://x.com/elonmusk/status/1624920846166007808",
         "https://twitter.com/elonmusk/status/1624920846166007808",
         "🇺🇸🇺🇸🇺🇸 go !!! 🇺🇸🇺🇸🇺🇸",
         null,
         null,
         null,
         null,
         null,
         "2023-02-12 23:58:13+00:00",
         null,
         null,
         null,
         null,
         null,
         null,
         null,
         null,
         null,
         null,
         null,
         null,
         null,
         null,
         "2023-02",
         "0.0",
         "Neutral",
         "After acquisition",
         "0.0",
         "1.0",
         "0.0",
         "0.0"
        ],
        [
         "16",
         "1624150159927160832",
         "https://x.com/elonmusk/status/1624150159927160832",
         "https://twitter.com/elonmusk/status/1624150159927160832",
         "rt : it was great to see take a big step forward with starship's hot fire test! starship is integral to ’s moo…",
         null,
         null,
         null,
         null,
         null,
         "2023-02-10 20:55:48+00:00",
         null,
         null,
         null,
         null,
         null,
         null,
         null,
         null,
         null,
         null,
         null,
         null,
         null,
         null,
         "2023-02",
         "0.37083333333333335",
         "Positive",
         "After acquisition",
         "0.093",
         "0.737",
         "0.17",
         "0.4574"
        ],
        [
         "17",
         "1576297211058880512",
         "https://x.com/elonmusk/status/1576297211058880512",
         "https://twitter.com/elonmusk/status/1576297211058880512",
         "rt : falcon 9 and dragon vertical on launch complex 39a; targeting wednesday, october 5 for launch of the crew-5 mission →",
         null,
         null,
         null,
         null,
         null,
         "2022-10-01 19:45:15+00:00",
         null,
         null,
         null,
         null,
         null,
         null,
         null,
         null,
         null,
         null,
         null,
         null,
         null,
         null,
         "2022-10",
         "-0.3",
         "Negative",
         "Before acquisition",
         "0.0",
         "1.0",
         "0.0",
         "0.0"
        ],
        [
         "18",
         "1621988107603116033",
         "https://x.com/elonmusk/status/1621988107603116033",
         "https://twitter.com/elonmusk/status/1621988107603116033",
         "risks of training on your own data set",
         null,
         null,
         null,
         null,
         null,
         "2023-02-04 21:44:34+00:00",
         null,
         null,
         null,
         null,
         null,
         null,
         null,
         null,
         null,
         null,
         null,
         null,
         null,
         null,
         "2023-02",
         "0.6",
         "Positive",
         "After acquisition",
         "0.231",
         "0.769",
         "0.0",
         "-0.2732"
        ],
        [
         "19",
         "1552106724366090246",
         "https://x.com/elonmusk/status/1552106724366090246",
         "https://twitter.com/elonmusk/status/1552106724366090246",
         "99% of journalism is reading someone else’s story on the internet, changing it up a little &amp; pressing send",
         null,
         null,
         null,
         null,
         null,
         "2022-07-27 01:40:54+00:00",
         null,
         null,
         null,
         null,
         null,
         null,
         null,
         null,
         null,
         null,
         null,
         null,
         null,
         null,
         "2022-07",
         "-0.1875",
         "Negative",
         "Before acquisition",
         "0.0",
         "1.0",
         "0.0",
         "0.0"
        ],
        [
         "20",
         "1552101512544919553",
         "https://x.com/elonmusk/status/1552101512544919553",
         "https://twitter.com/elonmusk/status/1552101512544919553",
         "sickonolfi has zero journalistic integrity",
         null,
         null,
         null,
         null,
         null,
         "2022-07-27 01:20:11+00:00",
         null,
         null,
         null,
         null,
         null,
         null,
         null,
         null,
         null,
         null,
         null,
         null,
         null,
         null,
         "2022-07",
         "0.0",
         "Neutral",
         "Before acquisition",
         "0.0",
         "0.606",
         "0.394",
         "0.3818"
        ],
        [
         "21",
         "1551955376295256064",
         "https://x.com/elonmusk/status/1551955376295256064",
         "https://twitter.com/elonmusk/status/1551955376295256064",
         "sickonolfi’s pack of attack chihuahuas are burning up phone lines today for revenge after his bogus article 🤣🤣",
         null,
         null,
         null,
         null,
         null,
         "2022-07-26 15:39:30+00:00",
         null,
         null,
         null,
         null,
         null,
         null,
         null,
         null,
         null,
         null,
         null,
         null,
         null,
         null,
         "2022-07",
         "0.0",
         "Neutral",
         "Before acquisition",
         "0.289",
         "0.711",
         "0.0",
         "-0.7579"
        ],
        [
         "22",
         "1551629246661120000",
         "https://x.com/elonmusk/status/1551629246661120000",
         "https://twitter.com/elonmusk/status/1551629246661120000",
         "______, ______ your 👖 are on 🔥",
         null,
         null,
         null,
         null,
         null,
         "2022-07-25 18:03:34+00:00",
         null,
         null,
         null,
         null,
         null,
         null,
         null,
         null,
         null,
         null,
         null,
         null,
         null,
         null,
         "2022-07",
         "0.0",
         "Neutral",
         "Before acquisition",
         "0.0",
         "1.0",
         "0.0",
         "0.0"
        ],
        [
         "23",
         "1605352537233694721",
         "https://x.com/elonmusk/status/1605352537233694721",
         "https://twitter.com/elonmusk/status/1605352537233694721",
         "bots incoming …",
         null,
         null,
         null,
         null,
         null,
         "2022-12-21 00:00:45+00:00",
         null,
         null,
         null,
         null,
         null,
         null,
         null,
         null,
         null,
         null,
         null,
         null,
         null,
         null,
         "2022-12",
         "0.0",
         "Neutral",
         "After acquisition",
         "0.0",
         "1.0",
         "0.0",
         "0.0"
        ],
        [
         "24",
         "1604345722001817600",
         "https://x.com/elonmusk/status/1604345722001817600",
         "https://twitter.com/elonmusk/status/1604345722001817600",
         "thankfully, you lose your chairmanship very soon. your brain is too small.",
         null,
         null,
         null,
         null,
         null,
         "2022-12-18 05:20:02+00:00",
         null,
         null,
         null,
         null,
         null,
         null,
         null,
         null,
         null,
         null,
         null,
         null,
         null,
         null,
         "2022-12",
         "-0.024999999999999994",
         "Negative",
         "After acquisition",
         "0.174",
         "0.645",
         "0.181",
         "0.0258"
        ],
        [
         "25",
         "1602948868248936448",
         "https://x.com/elonmusk/status/1602948868248936448",
         "https://twitter.com/elonmusk/status/1602948868248936448",
         "noted",
         null,
         null,
         null,
         null,
         null,
         "2022-12-14 08:49:26+00:00",
         null,
         null,
         null,
         null,
         null,
         null,
         null,
         null,
         null,
         null,
         null,
         null,
         null,
         null,
         "2022-12",
         "0.0",
         "Neutral",
         "After acquisition",
         "0.0",
         "1.0",
         "0.0",
         "0.0"
        ],
        [
         "26",
         "1597331151211069440",
         "https://x.com/elonmusk/status/1597331151211069440",
         "https://twitter.com/elonmusk/status/1597331151211069440",
         "rt : apple should be more transparent about their processes and probably not have such a monopoly",
         null,
         null,
         null,
         null,
         null,
         "2022-11-28 20:46:38+00:00",
         null,
         null,
         null,
         null,
         null,
         null,
         null,
         null,
         null,
         null,
         null,
         null,
         null,
         null,
         "2022-11",
         "0.25",
         "Positive",
         "After acquisition",
         "0.0",
         "1.0",
         "0.0",
         "0.0"
        ],
        [
         "27",
         "1527793145097900036",
         "https://x.com/elonmusk/status/1527793145097900036",
         "https://twitter.com/elonmusk/status/1527793145097900036",
         "their full name is “business insider trading”. they always forget that last word for some reason. 🤔",
         null,
         null,
         null,
         null,
         null,
         "2022-05-20 23:27:25+00:00",
         null,
         null,
         null,
         null,
         null,
         null,
         null,
         null,
         null,
         null,
         null,
         null,
         null,
         null,
         "2022-05",
         "0.175",
         "Positive",
         "Before acquisition",
         "0.112",
         "0.888",
         "0.0",
         "-0.2263"
        ],
        [
         "28",
         "1512494444100132865",
         "https://x.com/elonmusk/status/1512494444100132865",
         "https://twitter.com/elonmusk/status/1512494444100132865",
         "rt : falcon 9 launches the first all-private human spaceflight mission to the",
         null,
         null,
         null,
         null,
         null,
         "2022-04-08 18:15:50+00:00",
         null,
         null,
         null,
         null,
         null,
         null,
         null,
         null,
         null,
         null,
         null,
         null,
         null,
         null,
         "2022-04",
         "0.125",
         "Positive",
         "Before acquisition",
         "0.0",
         "1.0",
         "0.0",
         "0.0"
        ],
        [
         "29",
         "1591585984747286528",
         "https://x.com/elonmusk/status/1591585984747286528",
         "https://twitter.com/elonmusk/status/1591585984747286528",
         "twitter drives a massive number of clicks to other websites/apps. biggest click driver on the internet by far.",
         null,
         null,
         null,
         null,
         null,
         "2022-11-13 00:17:23+00:00",
         null,
         null,
         null,
         null,
         null,
         null,
         null,
         null,
         null,
         null,
         null,
         null,
         null,
         null,
         "2022-11",
         "-0.008333333333333331",
         "Negative",
         "After acquisition",
         "0.0",
         "0.925",
         "0.075",
         "0.0772"
        ],
        [
         "30",
         "1590422948246343680",
         "https://x.com/elonmusk/status/1590422948246343680",
         "https://twitter.com/elonmusk/status/1590422948246343680",
         "rt : update on our efforts to combat hateful conduct: we've not only mitigated the recent surge in harmful behavior, but have reduce…",
         null,
         null,
         null,
         null,
         null,
         "2022-11-09 19:15:54+00:00",
         null,
         null,
         null,
         null,
         null,
         null,
         null,
         null,
         null,
         null,
         null,
         null,
         null,
         null,
         "2022-11",
         "0.0",
         "Neutral",
         "After acquisition",
         "0.16",
         "0.84",
         "0.0",
         "-0.4215"
        ],
        [
         "31",
         "1488289327767560194",
         "https://x.com/elonmusk/status/1488289327767560194",
         "https://twitter.com/elonmusk/status/1488289327767560194",
         "rt : watch launch of cosmo-skymed second generation fm2 →",
         null,
         null,
         null,
         null,
         null,
         "2022-01-31 23:13:21+00:00",
         null,
         null,
         null,
         null,
         null,
         null,
         null,
         null,
         null,
         null,
         null,
         null,
         null,
         null,
         "2022-01",
         "0.0",
         "Neutral",
         "Before acquisition",
         "0.0",
         "1.0",
         "0.0",
         "0.0"
        ],
        [
         "32",
         "1585289655431229440",
         "https://x.com/elonmusk/status/1585289655431229440",
         "https://twitter.com/elonmusk/status/1585289655431229440",
         "nyt is also expert at space flight, but at least they issue corrections (49 years later)",
         null,
         null,
         null,
         null,
         null,
         "2022-10-26 15:18:01+00:00",
         null,
         null,
         null,
         null,
         null,
         null,
         null,
         null,
         null,
         null,
         null,
         null,
         null,
         null,
         "2022-10",
         "-0.15",
         "Negative",
         "Before acquisition",
         "0.0",
         "1.0",
         "0.0",
         "0.0"
        ],
        [
         "33",
         "1576976609348681738",
         "https://x.com/elonmusk/status/1576976609348681738",
         "https://twitter.com/elonmusk/status/1576976609348681738",
         "please vote in this poll! ⬇️⬇️⬇️⬇️",
         null,
         null,
         null,
         null,
         null,
         "2022-10-03 16:44:57+00:00",
         null,
         null,
         null,
         null,
         null,
         null,
         null,
         null,
         null,
         null,
         null,
         null,
         null,
         null,
         "2022-10",
         "0.0",
         "Neutral",
         "Before acquisition",
         "0.0",
         "0.659",
         "0.341",
         "0.3802"
        ],
        [
         "34",
         "1567726195671797766",
         "https://x.com/elonmusk/status/1567726195671797766",
         "https://twitter.com/elonmusk/status/1567726195671797766",
         "you can almost hear that snap of the rubber glove before chess match cavity searches …",
         null,
         null,
         null,
         null,
         null,
         "2022-09-08 04:07:06+00:00",
         null,
         null,
         null,
         null,
         null,
         null,
         null,
         null,
         null,
         null,
         null,
         null,
         null,
         null,
         "2022-09",
         "0.0",
         "Neutral",
         "Before acquisition",
         "0.0",
         "1.0",
         "0.0",
         "0.0"
        ],
        [
         "35",
         "1567723610197852160",
         "https://x.com/elonmusk/status/1567723610197852160",
         "https://twitter.com/elonmusk/status/1567723610197852160",
         "my version of occam’s razor: most entertaining outcome is most likely …",
         null,
         null,
         null,
         null,
         null,
         "2022-09-08 03:56:50+00:00",
         null,
         null,
         null,
         null,
         null,
         null,
         null,
         null,
         null,
         null,
         null,
         null,
         null,
         null,
         "2022-09",
         "0.375",
         "Positive",
         "Before acquisition",
         "0.0",
         "0.758",
         "0.242",
         "0.4927"
        ],
        [
         "36",
         "1567722560443355141",
         "https://x.com/elonmusk/status/1567722560443355141",
         "https://twitter.com/elonmusk/status/1567722560443355141",
         "“talent hits a target no one else can hit, genius hits a target no one can see (cause it’s in ur butt)” – schopenhauer",
         null,
         null,
         null,
         null,
         null,
         "2022-09-08 03:52:39+00:00",
         null,
         null,
         null,
         null,
         null,
         null,
         null,
         null,
         null,
         null,
         null,
         null,
         null,
         null,
         "2022-09",
         "0.0",
         "Neutral",
         "Before acquisition",
         "0.188",
         "0.812",
         "0.0",
         "-0.5267"
        ],
        [
         "37",
         "1563340246682849281",
         "https://x.com/elonmusk/status/1563340246682849281",
         "https://twitter.com/elonmusk/status/1563340246682849281",
         "it was inevitable",
         null,
         null,
         null,
         null,
         null,
         "2022-08-27 01:38:54+00:00",
         null,
         null,
         null,
         null,
         null,
         null,
         null,
         null,
         null,
         null,
         null,
         null,
         null,
         null,
         "2022-08",
         "0.0",
         "Neutral",
         "Before acquisition",
         "0.0",
         "1.0",
         "0.0",
         "0.0"
        ],
        [
         "38",
         "1563337811578978305",
         "https://x.com/elonmusk/status/1563337811578978305",
         "https://twitter.com/elonmusk/status/1563337811578978305",
         "which one would win?",
         null,
         null,
         null,
         null,
         null,
         "2022-08-27 01:29:14+00:00",
         null,
         null,
         null,
         null,
         null,
         null,
         null,
         null,
         null,
         null,
         null,
         null,
         null,
         null,
         "2022-08",
         "0.8",
         "Positive",
         "Before acquisition",
         "0.0",
         "0.441",
         "0.559",
         "0.5859"
        ],
        [
         "39",
         "1669162882859433984",
         "https://x.com/elonmusk/status/1669162882859433984",
         "https://twitter.com/elonmusk/status/1669162882859433984",
         "… attack on the military-industrial complex. the lobbying power of large government contractors is far higher than it should be for the good of the people.",
         null,
         null,
         null,
         null,
         null,
         "2023-06-15 02:00:17+00:00",
         null,
         null,
         null,
         null,
         null,
         null,
         null,
         null,
         null,
         null,
         null,
         null,
         null,
         null,
         "2023-06",
         "0.19285714285714284",
         "Positive",
         "After acquisition",
         "0.15",
         "0.751",
         "0.099",
         "-0.128"
        ],
        [
         "40",
         "1667601876135686147",
         "https://x.com/elonmusk/status/1667601876135686147",
         "https://twitter.com/elonmusk/status/1667601876135686147",
         "wow",
         null,
         null,
         null,
         null,
         null,
         "2023-06-10 18:37:24+00:00",
         null,
         null,
         null,
         null,
         null,
         null,
         null,
         null,
         null,
         null,
         null,
         null,
         null,
         null,
         "2023-06",
         "0.1",
         "Positive",
         "After acquisition",
         "0.0",
         "0.0",
         "1.0",
         "0.5859"
        ],
        [
         "41",
         "1666484466506760193",
         "https://x.com/elonmusk/status/1666484466506760193",
         "https://twitter.com/elonmusk/status/1666484466506760193",
         "gibson is really that buff these days?",
         null,
         null,
         null,
         null,
         null,
         "2023-06-07 16:37:13+00:00",
         null,
         null,
         null,
         null,
         null,
         null,
         null,
         null,
         null,
         null,
         null,
         null,
         null,
         null,
         "2023-06",
         "0.2",
         "Positive",
         "After acquisition",
         "0.0",
         "1.0",
         "0.0",
         "0.0"
        ],
        [
         "42",
         "1665352062735900672",
         "https://x.com/elonmusk/status/1665352062735900672",
         "https://twitter.com/elonmusk/status/1665352062735900672",
         "yup",
         null,
         null,
         null,
         null,
         null,
         "2023-06-04 13:37:27+00:00",
         null,
         null,
         null,
         null,
         null,
         null,
         null,
         null,
         null,
         null,
         null,
         null,
         null,
         null,
         "2023-06",
         "0.0",
         "Neutral",
         "After acquisition",
         "0.0",
         "1.0",
         "0.0",
         "0.0"
        ],
        [
         "43",
         "1648787284429352964",
         "https://x.com/elonmusk/status/1648787284429352964",
         "https://twitter.com/elonmusk/status/1648787284429352964",
         "wow",
         null,
         null,
         null,
         null,
         null,
         "2023-04-19 20:34:56+00:00",
         null,
         null,
         null,
         null,
         null,
         null,
         null,
         null,
         null,
         null,
         null,
         null,
         null,
         null,
         "2023-04",
         "0.1",
         "Positive",
         "After acquisition",
         "0.0",
         "0.0",
         "1.0",
         "0.5859"
        ],
        [
         "44",
         "1627247215059124228",
         "https://x.com/elonmusk/status/1627247215059124228",
         "https://twitter.com/elonmusk/status/1627247215059124228",
         "vampire survivors",
         null,
         null,
         null,
         null,
         null,
         "2023-02-19 10:02:23+00:00",
         null,
         null,
         null,
         null,
         null,
         null,
         null,
         null,
         null,
         null,
         null,
         null,
         null,
         null,
         "2023-02",
         "0.0",
         "Neutral",
         "After acquisition",
         "0.0",
         "1.0",
         "0.0",
         "0.0"
        ],
        [
         "45",
         "1616592077831426048",
         "https://x.com/elonmusk/status/1616592077831426048",
         "https://twitter.com/elonmusk/status/1616592077831426048",
         "wow",
         null,
         null,
         null,
         null,
         null,
         "2023-01-21 00:22:40+00:00",
         null,
         null,
         null,
         null,
         null,
         null,
         null,
         null,
         null,
         null,
         null,
         null,
         null,
         null,
         "2023-01",
         "0.1",
         "Positive",
         "After acquisition",
         "0.0",
         "0.0",
         "1.0",
         "0.5859"
        ],
        [
         "46",
         "1609641851837108224",
         "https://x.com/elonmusk/status/1609641851837108224",
         "https://twitter.com/elonmusk/status/1609641851837108224",
         "🤷‍♂️",
         null,
         null,
         null,
         null,
         null,
         "2023-01-01 20:04:57+00:00",
         null,
         null,
         null,
         null,
         null,
         null,
         null,
         null,
         null,
         null,
         null,
         null,
         null,
         null,
         "2023-01",
         "0.0",
         "Neutral",
         "After acquisition",
         "0.0",
         "1.0",
         "0.0",
         "0.0"
        ],
        [
         "47",
         "1605275881181794311",
         "https://x.com/elonmusk/status/1605275881181794311",
         "https://twitter.com/elonmusk/status/1605275881181794311",
         "wow",
         null,
         null,
         null,
         null,
         null,
         "2022-12-20 18:56:09+00:00",
         null,
         null,
         null,
         null,
         null,
         null,
         null,
         null,
         null,
         null,
         null,
         null,
         null,
         null,
         "2022-12",
         "0.1",
         "Positive",
         "After acquisition",
         "0.0",
         "0.0",
         "1.0",
         "0.5859"
        ],
        [
         "48",
         "1597275311577890816",
         "https://x.com/elonmusk/status/1597275311577890816",
         "https://twitter.com/elonmusk/status/1597275311577890816",
         "ftw!",
         null,
         null,
         null,
         null,
         null,
         "2022-11-28 17:04:44+00:00",
         null,
         null,
         null,
         null,
         null,
         null,
         null,
         null,
         null,
         null,
         null,
         null,
         null,
         null,
         "2022-11",
         "0.0",
         "Neutral",
         "After acquisition",
         "0.0",
         "0.0",
         "1.0",
         "0.5093"
        ],
        [
         "49",
         "1595294061694373889",
         "https://x.com/elonmusk/status/1595294061694373889",
         "https://twitter.com/elonmusk/status/1595294061694373889",
         "yea",
         null,
         null,
         null,
         null,
         null,
         "2022-11-23 05:51:58+00:00",
         null,
         null,
         null,
         null,
         null,
         null,
         null,
         null,
         null,
         null,
         null,
         null,
         null,
         null,
         "2022-11",
         "0.0",
         "Neutral",
         "After acquisition",
         "0.0",
         "1.0",
         "0.0",
         "0.0"
        ]
       ],
       "shape": {
        "columns": 32,
        "rows": 52042
       }
      },
      "text/html": [
       "<div>\n",
       "<style scoped>\n",
       "    .dataframe tbody tr th:only-of-type {\n",
       "        vertical-align: middle;\n",
       "    }\n",
       "\n",
       "    .dataframe tbody tr th {\n",
       "        vertical-align: top;\n",
       "    }\n",
       "\n",
       "    .dataframe thead th {\n",
       "        text-align: right;\n",
       "    }\n",
       "</style>\n",
       "<table border=\"1\" class=\"dataframe\">\n",
       "  <thead>\n",
       "    <tr style=\"text-align: right;\">\n",
       "      <th></th>\n",
       "      <th>id</th>\n",
       "      <th>url</th>\n",
       "      <th>twitterUrl</th>\n",
       "      <th>fullText</th>\n",
       "      <th>retweetCount</th>\n",
       "      <th>replyCount</th>\n",
       "      <th>likeCount</th>\n",
       "      <th>quoteCount</th>\n",
       "      <th>viewCount</th>\n",
       "      <th>createdAt</th>\n",
       "      <th>...</th>\n",
       "      <th>quote</th>\n",
       "      <th>retweet</th>\n",
       "      <th>year_month</th>\n",
       "      <th>sentiment</th>\n",
       "      <th>sentiment_category</th>\n",
       "      <th>period</th>\n",
       "      <th>neg</th>\n",
       "      <th>neu</th>\n",
       "      <th>pos</th>\n",
       "      <th>compound</th>\n",
       "    </tr>\n",
       "  </thead>\n",
       "  <tbody>\n",
       "    <tr>\n",
       "      <th>0</th>\n",
       "      <td>1655159652990976000</td>\n",
       "      <td>https://x.com/elonmusk/status/1655159652990976000</td>\n",
       "      <td>https://twitter.com/elonmusk/status/1655159652...</td>\n",
       "      <td>rt : i read ’s “how to make wealth” in hackers...</td>\n",
       "      <td>NaN</td>\n",
       "      <td>NaN</td>\n",
       "      <td>NaN</td>\n",
       "      <td>NaN</td>\n",
       "      <td>NaN</td>\n",
       "      <td>2023-05-07 10:36:27+00:00</td>\n",
       "      <td>...</td>\n",
       "      <td>NaN</td>\n",
       "      <td>NaN</td>\n",
       "      <td>2023-05</td>\n",
       "      <td>0.00000</td>\n",
       "      <td>Neutral</td>\n",
       "      <td>After acquisition</td>\n",
       "      <td>0.0</td>\n",
       "      <td>1.000</td>\n",
       "      <td>0.000</td>\n",
       "      <td>0.0000</td>\n",
       "    </tr>\n",
       "    <tr>\n",
       "      <th>1</th>\n",
       "      <td>1623774484795920384</td>\n",
       "      <td>https://x.com/elonmusk/status/1623774484795920384</td>\n",
       "      <td>https://twitter.com/elonmusk/status/1623774484...</td>\n",
       "      <td>rt : dude bookmarks are an awesome twitter fea...</td>\n",
       "      <td>NaN</td>\n",
       "      <td>NaN</td>\n",
       "      <td>NaN</td>\n",
       "      <td>NaN</td>\n",
       "      <td>NaN</td>\n",
       "      <td>2023-02-09 20:03:00+00:00</td>\n",
       "      <td>...</td>\n",
       "      <td>NaN</td>\n",
       "      <td>NaN</td>\n",
       "      <td>2023-02</td>\n",
       "      <td>0.50000</td>\n",
       "      <td>Positive</td>\n",
       "      <td>After acquisition</td>\n",
       "      <td>0.0</td>\n",
       "      <td>0.779</td>\n",
       "      <td>0.221</td>\n",
       "      <td>0.6597</td>\n",
       "    </tr>\n",
       "    <tr>\n",
       "      <th>2</th>\n",
       "      <td>1656900119202254854</td>\n",
       "      <td>https://x.com/elonmusk/status/1656900119202254854</td>\n",
       "      <td>https://twitter.com/elonmusk/status/1656900119...</td>\n",
       "      <td>event horizon balance beam</td>\n",
       "      <td>NaN</td>\n",
       "      <td>NaN</td>\n",
       "      <td>NaN</td>\n",
       "      <td>NaN</td>\n",
       "      <td>NaN</td>\n",
       "      <td>2023-05-12 05:52:26+00:00</td>\n",
       "      <td>...</td>\n",
       "      <td>NaN</td>\n",
       "      <td>NaN</td>\n",
       "      <td>2023-05</td>\n",
       "      <td>0.00000</td>\n",
       "      <td>Neutral</td>\n",
       "      <td>After acquisition</td>\n",
       "      <td>0.0</td>\n",
       "      <td>1.000</td>\n",
       "      <td>0.000</td>\n",
       "      <td>0.0000</td>\n",
       "    </tr>\n",
       "    <tr>\n",
       "      <th>3</th>\n",
       "      <td>1616531874763116544</td>\n",
       "      <td>https://x.com/elonmusk/status/1616531874763116544</td>\n",
       "      <td>https://twitter.com/elonmusk/status/1616531874...</td>\n",
       "      <td>rt : oh that’s actually pretty cool!</td>\n",
       "      <td>NaN</td>\n",
       "      <td>NaN</td>\n",
       "      <td>NaN</td>\n",
       "      <td>NaN</td>\n",
       "      <td>NaN</td>\n",
       "      <td>2023-01-20 20:23:27+00:00</td>\n",
       "      <td>...</td>\n",
       "      <td>NaN</td>\n",
       "      <td>NaN</td>\n",
       "      <td>2023-01</td>\n",
       "      <td>0.34375</td>\n",
       "      <td>Positive</td>\n",
       "      <td>After acquisition</td>\n",
       "      <td>0.0</td>\n",
       "      <td>0.408</td>\n",
       "      <td>0.592</td>\n",
       "      <td>0.6996</td>\n",
       "    </tr>\n",
       "    <tr>\n",
       "      <th>4</th>\n",
       "      <td>1608035930983604230</td>\n",
       "      <td>https://x.com/elonmusk/status/1608035930983604230</td>\n",
       "      <td>https://twitter.com/elonmusk/status/1608035930...</td>\n",
       "      <td>rt : watch falcon 9 launch 54 starlink satelli...</td>\n",
       "      <td>NaN</td>\n",
       "      <td>NaN</td>\n",
       "      <td>NaN</td>\n",
       "      <td>NaN</td>\n",
       "      <td>NaN</td>\n",
       "      <td>2022-12-28 09:43:36+00:00</td>\n",
       "      <td>...</td>\n",
       "      <td>NaN</td>\n",
       "      <td>NaN</td>\n",
       "      <td>2022-12</td>\n",
       "      <td>0.00000</td>\n",
       "      <td>Neutral</td>\n",
       "      <td>After acquisition</td>\n",
       "      <td>0.0</td>\n",
       "      <td>1.000</td>\n",
       "      <td>0.000</td>\n",
       "      <td>0.0000</td>\n",
       "    </tr>\n",
       "    <tr>\n",
       "      <th>...</th>\n",
       "      <td>...</td>\n",
       "      <td>...</td>\n",
       "      <td>...</td>\n",
       "      <td>...</td>\n",
       "      <td>...</td>\n",
       "      <td>...</td>\n",
       "      <td>...</td>\n",
       "      <td>...</td>\n",
       "      <td>...</td>\n",
       "      <td>...</td>\n",
       "      <td>...</td>\n",
       "      <td>...</td>\n",
       "      <td>...</td>\n",
       "      <td>...</td>\n",
       "      <td>...</td>\n",
       "      <td>...</td>\n",
       "      <td>...</td>\n",
       "      <td>...</td>\n",
       "      <td>...</td>\n",
       "      <td>...</td>\n",
       "      <td>...</td>\n",
       "    </tr>\n",
       "    <tr>\n",
       "      <th>52037</th>\n",
       "      <td>1863748322424402395</td>\n",
       "      <td>https://x.com/elonmusk/status/1863748322424402395</td>\n",
       "      <td>https://twitter.com/elonmusk/status/1863748322...</td>\n",
       "      <td>cool</td>\n",
       "      <td>89.0</td>\n",
       "      <td>150.0</td>\n",
       "      <td>1713.0</td>\n",
       "      <td>5.0</td>\n",
       "      <td>49542.0</td>\n",
       "      <td>2024-12-03 00:53:21+00:00</td>\n",
       "      <td>...</td>\n",
       "      <td>NaN</td>\n",
       "      <td>NaN</td>\n",
       "      <td>2024-12</td>\n",
       "      <td>0.35000</td>\n",
       "      <td>Positive</td>\n",
       "      <td>After acquisition</td>\n",
       "      <td>0.0</td>\n",
       "      <td>0.000</td>\n",
       "      <td>1.000</td>\n",
       "      <td>0.3182</td>\n",
       "    </tr>\n",
       "    <tr>\n",
       "      <th>52038</th>\n",
       "      <td>1863740336331170304</td>\n",
       "      <td>https://x.com/elonmusk/status/1863740336331170304</td>\n",
       "      <td>https://twitter.com/elonmusk/status/1863740336...</td>\n",
       "      <td>she is an activist posing as a judge</td>\n",
       "      <td>342.0</td>\n",
       "      <td>342.0</td>\n",
       "      <td>3682.0</td>\n",
       "      <td>20.0</td>\n",
       "      <td>66865.0</td>\n",
       "      <td>2024-12-03 00:21:37+00:00</td>\n",
       "      <td>...</td>\n",
       "      <td>NaN</td>\n",
       "      <td>NaN</td>\n",
       "      <td>2024-12</td>\n",
       "      <td>0.00000</td>\n",
       "      <td>Neutral</td>\n",
       "      <td>After acquisition</td>\n",
       "      <td>0.0</td>\n",
       "      <td>1.000</td>\n",
       "      <td>0.000</td>\n",
       "      <td>0.0000</td>\n",
       "    </tr>\n",
       "    <tr>\n",
       "      <th>52039</th>\n",
       "      <td>1863740028406337896</td>\n",
       "      <td>https://x.com/elonmusk/status/1863740028406337896</td>\n",
       "      <td>https://twitter.com/elonmusk/status/1863740028...</td>\n",
       "      <td>absolutely</td>\n",
       "      <td>9675.0</td>\n",
       "      <td>2253.0</td>\n",
       "      <td>81839.0</td>\n",
       "      <td>151.0</td>\n",
       "      <td>40855449.0</td>\n",
       "      <td>2024-12-03 00:20:24+00:00</td>\n",
       "      <td>...</td>\n",
       "      <td>{'type': 'tweet', 'id': '1863737832818479385',...</td>\n",
       "      <td>NaN</td>\n",
       "      <td>2024-12</td>\n",
       "      <td>0.20000</td>\n",
       "      <td>Positive</td>\n",
       "      <td>After acquisition</td>\n",
       "      <td>0.0</td>\n",
       "      <td>1.000</td>\n",
       "      <td>0.000</td>\n",
       "      <td>0.0000</td>\n",
       "    </tr>\n",
       "    <tr>\n",
       "      <th>52040</th>\n",
       "      <td>1863736644773220593</td>\n",
       "      <td>https://x.com/elonmusk/status/1863736644773220593</td>\n",
       "      <td>https://twitter.com/elonmusk/status/1863736644...</td>\n",
       "      <td>absolutely</td>\n",
       "      <td>94.0</td>\n",
       "      <td>168.0</td>\n",
       "      <td>1812.0</td>\n",
       "      <td>10.0</td>\n",
       "      <td>58877.0</td>\n",
       "      <td>2024-12-03 00:06:57+00:00</td>\n",
       "      <td>...</td>\n",
       "      <td>NaN</td>\n",
       "      <td>NaN</td>\n",
       "      <td>2024-12</td>\n",
       "      <td>0.20000</td>\n",
       "      <td>Positive</td>\n",
       "      <td>After acquisition</td>\n",
       "      <td>0.0</td>\n",
       "      <td>1.000</td>\n",
       "      <td>0.000</td>\n",
       "      <td>0.0000</td>\n",
       "    </tr>\n",
       "    <tr>\n",
       "      <th>52041</th>\n",
       "      <td>1863736436945555943</td>\n",
       "      <td>https://x.com/elonmusk/status/1863736436945555943</td>\n",
       "      <td>https://twitter.com/elonmusk/status/1863736436...</td>\n",
       "      <td>exactly</td>\n",
       "      <td>204.0</td>\n",
       "      <td>154.0</td>\n",
       "      <td>3224.0</td>\n",
       "      <td>11.0</td>\n",
       "      <td>136010.0</td>\n",
       "      <td>2024-12-03 00:06:07+00:00</td>\n",
       "      <td>...</td>\n",
       "      <td>NaN</td>\n",
       "      <td>NaN</td>\n",
       "      <td>2024-12</td>\n",
       "      <td>0.25000</td>\n",
       "      <td>Positive</td>\n",
       "      <td>After acquisition</td>\n",
       "      <td>0.0</td>\n",
       "      <td>1.000</td>\n",
       "      <td>0.000</td>\n",
       "      <td>0.0000</td>\n",
       "    </tr>\n",
       "  </tbody>\n",
       "</table>\n",
       "<p>52042 rows × 32 columns</p>\n",
       "</div>"
      ],
      "text/plain": [
       "                        id                                                url  \\\n",
       "0      1655159652990976000  https://x.com/elonmusk/status/1655159652990976000   \n",
       "1      1623774484795920384  https://x.com/elonmusk/status/1623774484795920384   \n",
       "2      1656900119202254854  https://x.com/elonmusk/status/1656900119202254854   \n",
       "3      1616531874763116544  https://x.com/elonmusk/status/1616531874763116544   \n",
       "4      1608035930983604230  https://x.com/elonmusk/status/1608035930983604230   \n",
       "...                    ...                                                ...   \n",
       "52037  1863748322424402395  https://x.com/elonmusk/status/1863748322424402395   \n",
       "52038  1863740336331170304  https://x.com/elonmusk/status/1863740336331170304   \n",
       "52039  1863740028406337896  https://x.com/elonmusk/status/1863740028406337896   \n",
       "52040  1863736644773220593  https://x.com/elonmusk/status/1863736644773220593   \n",
       "52041  1863736436945555943  https://x.com/elonmusk/status/1863736436945555943   \n",
       "\n",
       "                                              twitterUrl  \\\n",
       "0      https://twitter.com/elonmusk/status/1655159652...   \n",
       "1      https://twitter.com/elonmusk/status/1623774484...   \n",
       "2      https://twitter.com/elonmusk/status/1656900119...   \n",
       "3      https://twitter.com/elonmusk/status/1616531874...   \n",
       "4      https://twitter.com/elonmusk/status/1608035930...   \n",
       "...                                                  ...   \n",
       "52037  https://twitter.com/elonmusk/status/1863748322...   \n",
       "52038  https://twitter.com/elonmusk/status/1863740336...   \n",
       "52039  https://twitter.com/elonmusk/status/1863740028...   \n",
       "52040  https://twitter.com/elonmusk/status/1863736644...   \n",
       "52041  https://twitter.com/elonmusk/status/1863736436...   \n",
       "\n",
       "                                                fullText  retweetCount  \\\n",
       "0      rt : i read ’s “how to make wealth” in hackers...           NaN   \n",
       "1      rt : dude bookmarks are an awesome twitter fea...           NaN   \n",
       "2                             event horizon balance beam           NaN   \n",
       "3                   rt : oh that’s actually pretty cool!           NaN   \n",
       "4      rt : watch falcon 9 launch 54 starlink satelli...           NaN   \n",
       "...                                                  ...           ...   \n",
       "52037                                               cool          89.0   \n",
       "52038               she is an activist posing as a judge         342.0   \n",
       "52039                                         absolutely        9675.0   \n",
       "52040                                         absolutely          94.0   \n",
       "52041                                            exactly         204.0   \n",
       "\n",
       "       replyCount  likeCount  quoteCount   viewCount  \\\n",
       "0             NaN        NaN         NaN         NaN   \n",
       "1             NaN        NaN         NaN         NaN   \n",
       "2             NaN        NaN         NaN         NaN   \n",
       "3             NaN        NaN         NaN         NaN   \n",
       "4             NaN        NaN         NaN         NaN   \n",
       "...           ...        ...         ...         ...   \n",
       "52037       150.0     1713.0         5.0     49542.0   \n",
       "52038       342.0     3682.0        20.0     66865.0   \n",
       "52039      2253.0    81839.0       151.0  40855449.0   \n",
       "52040       168.0     1812.0        10.0     58877.0   \n",
       "52041       154.0     3224.0        11.0    136010.0   \n",
       "\n",
       "                      createdAt  ...  \\\n",
       "0     2023-05-07 10:36:27+00:00  ...   \n",
       "1     2023-02-09 20:03:00+00:00  ...   \n",
       "2     2023-05-12 05:52:26+00:00  ...   \n",
       "3     2023-01-20 20:23:27+00:00  ...   \n",
       "4     2022-12-28 09:43:36+00:00  ...   \n",
       "...                         ...  ...   \n",
       "52037 2024-12-03 00:53:21+00:00  ...   \n",
       "52038 2024-12-03 00:21:37+00:00  ...   \n",
       "52039 2024-12-03 00:20:24+00:00  ...   \n",
       "52040 2024-12-03 00:06:57+00:00  ...   \n",
       "52041 2024-12-03 00:06:07+00:00  ...   \n",
       "\n",
       "                                                   quote retweet  year_month  \\\n",
       "0                                                    NaN     NaN     2023-05   \n",
       "1                                                    NaN     NaN     2023-02   \n",
       "2                                                    NaN     NaN     2023-05   \n",
       "3                                                    NaN     NaN     2023-01   \n",
       "4                                                    NaN     NaN     2022-12   \n",
       "...                                                  ...     ...         ...   \n",
       "52037                                                NaN     NaN     2024-12   \n",
       "52038                                                NaN     NaN     2024-12   \n",
       "52039  {'type': 'tweet', 'id': '1863737832818479385',...     NaN     2024-12   \n",
       "52040                                                NaN     NaN     2024-12   \n",
       "52041                                                NaN     NaN     2024-12   \n",
       "\n",
       "       sentiment  sentiment_category             period  neg    neu    pos  \\\n",
       "0        0.00000             Neutral  After acquisition  0.0  1.000  0.000   \n",
       "1        0.50000            Positive  After acquisition  0.0  0.779  0.221   \n",
       "2        0.00000             Neutral  After acquisition  0.0  1.000  0.000   \n",
       "3        0.34375            Positive  After acquisition  0.0  0.408  0.592   \n",
       "4        0.00000             Neutral  After acquisition  0.0  1.000  0.000   \n",
       "...          ...                 ...                ...  ...    ...    ...   \n",
       "52037    0.35000            Positive  After acquisition  0.0  0.000  1.000   \n",
       "52038    0.00000             Neutral  After acquisition  0.0  1.000  0.000   \n",
       "52039    0.20000            Positive  After acquisition  0.0  1.000  0.000   \n",
       "52040    0.20000            Positive  After acquisition  0.0  1.000  0.000   \n",
       "52041    0.25000            Positive  After acquisition  0.0  1.000  0.000   \n",
       "\n",
       "      compound  \n",
       "0       0.0000  \n",
       "1       0.6597  \n",
       "2       0.0000  \n",
       "3       0.6996  \n",
       "4       0.0000  \n",
       "...        ...  \n",
       "52037   0.3182  \n",
       "52038   0.0000  \n",
       "52039   0.0000  \n",
       "52040   0.0000  \n",
       "52041   0.0000  \n",
       "\n",
       "[52042 rows x 32 columns]"
      ]
     },
     "execution_count": 48,
     "metadata": {},
     "output_type": "execute_result"
    }
   ],
   "source": [
    "all_musk_posts_polarities = pd.merge(left=all_musk_posts, right=vaders, on='id', how='inner')\n",
    "all_musk_posts_polarities"
   ]
  },
  {
   "cell_type": "markdown",
   "id": "4d177597",
   "metadata": {},
   "source": [
    "Zeit zu plotten!"
   ]
  },
  {
   "cell_type": "code",
   "execution_count": null,
   "id": "7da59c8d",
   "metadata": {},
   "outputs": [
    {
     "data": {
      "application/vnd.plotly.v1+json": {
       "config": {
        "plotlyServerURL": "https://plot.ly"
       },
       "data": [
        {
         "hovertemplate": "Sentiment=%{x}<br>Count=%{y}<extra></extra>",
         "legendgroup": "Positive",
         "marker": {
          "color": "green",
          "pattern": {
           "shape": ""
          }
         },
         "name": "Positive",
         "orientation": "v",
         "showlegend": true,
         "textposition": "inside",
         "texttemplate": "%{y}",
         "type": "bar",
         "x": [
          "Positive"
         ],
         "xaxis": "x",
         "y": {
          "bdata": "T10=",
          "dtype": "i2"
         },
         "yaxis": "y"
        },
        {
         "hovertemplate": "Sentiment=%{x}<br>Count=%{y}<extra></extra>",
         "legendgroup": "Neutral",
         "marker": {
          "color": "gray",
          "pattern": {
           "shape": ""
          }
         },
         "name": "Neutral",
         "orientation": "v",
         "showlegend": true,
         "textposition": "inside",
         "texttemplate": "%{y}",
         "type": "bar",
         "x": [
          "Neutral"
         ],
         "xaxis": "x",
         "y": {
          "bdata": "b0k=",
          "dtype": "i2"
         },
         "yaxis": "y"
        },
        {
         "hovertemplate": "Sentiment=%{x}<br>Count=%{y}<extra></extra>",
         "legendgroup": "Negative",
         "marker": {
          "color": "red",
          "pattern": {
           "shape": ""
          }
         },
         "name": "Negative",
         "orientation": "v",
         "showlegend": true,
         "textposition": "inside",
         "texttemplate": "%{y}",
         "type": "bar",
         "x": [
          "Negative"
         ],
         "xaxis": "x",
         "y": {
          "bdata": "jCQ=",
          "dtype": "i2"
         },
         "yaxis": "y"
        }
       ],
       "layout": {
        "barmode": "relative",
        "legend": {
         "title": {
          "text": "Sentiment"
         },
         "tracegroupgap": 0
        },
        "showlegend": false,
        "template": {
         "data": {
          "bar": [
           {
            "error_x": {
             "color": "#2a3f5f"
            },
            "error_y": {
             "color": "#2a3f5f"
            },
            "marker": {
             "line": {
              "color": "#E5ECF6",
              "width": 0.5
             },
             "pattern": {
              "fillmode": "overlay",
              "size": 10,
              "solidity": 0.2
             }
            },
            "type": "bar"
           }
          ],
          "barpolar": [
           {
            "marker": {
             "line": {
              "color": "#E5ECF6",
              "width": 0.5
             },
             "pattern": {
              "fillmode": "overlay",
              "size": 10,
              "solidity": 0.2
             }
            },
            "type": "barpolar"
           }
          ],
          "carpet": [
           {
            "aaxis": {
             "endlinecolor": "#2a3f5f",
             "gridcolor": "white",
             "linecolor": "white",
             "minorgridcolor": "white",
             "startlinecolor": "#2a3f5f"
            },
            "baxis": {
             "endlinecolor": "#2a3f5f",
             "gridcolor": "white",
             "linecolor": "white",
             "minorgridcolor": "white",
             "startlinecolor": "#2a3f5f"
            },
            "type": "carpet"
           }
          ],
          "choropleth": [
           {
            "colorbar": {
             "outlinewidth": 0,
             "ticks": ""
            },
            "type": "choropleth"
           }
          ],
          "contour": [
           {
            "colorbar": {
             "outlinewidth": 0,
             "ticks": ""
            },
            "colorscale": [
             [
              0,
              "#0d0887"
             ],
             [
              0.1111111111111111,
              "#46039f"
             ],
             [
              0.2222222222222222,
              "#7201a8"
             ],
             [
              0.3333333333333333,
              "#9c179e"
             ],
             [
              0.4444444444444444,
              "#bd3786"
             ],
             [
              0.5555555555555556,
              "#d8576b"
             ],
             [
              0.6666666666666666,
              "#ed7953"
             ],
             [
              0.7777777777777778,
              "#fb9f3a"
             ],
             [
              0.8888888888888888,
              "#fdca26"
             ],
             [
              1,
              "#f0f921"
             ]
            ],
            "type": "contour"
           }
          ],
          "contourcarpet": [
           {
            "colorbar": {
             "outlinewidth": 0,
             "ticks": ""
            },
            "type": "contourcarpet"
           }
          ],
          "heatmap": [
           {
            "colorbar": {
             "outlinewidth": 0,
             "ticks": ""
            },
            "colorscale": [
             [
              0,
              "#0d0887"
             ],
             [
              0.1111111111111111,
              "#46039f"
             ],
             [
              0.2222222222222222,
              "#7201a8"
             ],
             [
              0.3333333333333333,
              "#9c179e"
             ],
             [
              0.4444444444444444,
              "#bd3786"
             ],
             [
              0.5555555555555556,
              "#d8576b"
             ],
             [
              0.6666666666666666,
              "#ed7953"
             ],
             [
              0.7777777777777778,
              "#fb9f3a"
             ],
             [
              0.8888888888888888,
              "#fdca26"
             ],
             [
              1,
              "#f0f921"
             ]
            ],
            "type": "heatmap"
           }
          ],
          "histogram": [
           {
            "marker": {
             "pattern": {
              "fillmode": "overlay",
              "size": 10,
              "solidity": 0.2
             }
            },
            "type": "histogram"
           }
          ],
          "histogram2d": [
           {
            "colorbar": {
             "outlinewidth": 0,
             "ticks": ""
            },
            "colorscale": [
             [
              0,
              "#0d0887"
             ],
             [
              0.1111111111111111,
              "#46039f"
             ],
             [
              0.2222222222222222,
              "#7201a8"
             ],
             [
              0.3333333333333333,
              "#9c179e"
             ],
             [
              0.4444444444444444,
              "#bd3786"
             ],
             [
              0.5555555555555556,
              "#d8576b"
             ],
             [
              0.6666666666666666,
              "#ed7953"
             ],
             [
              0.7777777777777778,
              "#fb9f3a"
             ],
             [
              0.8888888888888888,
              "#fdca26"
             ],
             [
              1,
              "#f0f921"
             ]
            ],
            "type": "histogram2d"
           }
          ],
          "histogram2dcontour": [
           {
            "colorbar": {
             "outlinewidth": 0,
             "ticks": ""
            },
            "colorscale": [
             [
              0,
              "#0d0887"
             ],
             [
              0.1111111111111111,
              "#46039f"
             ],
             [
              0.2222222222222222,
              "#7201a8"
             ],
             [
              0.3333333333333333,
              "#9c179e"
             ],
             [
              0.4444444444444444,
              "#bd3786"
             ],
             [
              0.5555555555555556,
              "#d8576b"
             ],
             [
              0.6666666666666666,
              "#ed7953"
             ],
             [
              0.7777777777777778,
              "#fb9f3a"
             ],
             [
              0.8888888888888888,
              "#fdca26"
             ],
             [
              1,
              "#f0f921"
             ]
            ],
            "type": "histogram2dcontour"
           }
          ],
          "mesh3d": [
           {
            "colorbar": {
             "outlinewidth": 0,
             "ticks": ""
            },
            "type": "mesh3d"
           }
          ],
          "parcoords": [
           {
            "line": {
             "colorbar": {
              "outlinewidth": 0,
              "ticks": ""
             }
            },
            "type": "parcoords"
           }
          ],
          "pie": [
           {
            "automargin": true,
            "type": "pie"
           }
          ],
          "scatter": [
           {
            "fillpattern": {
             "fillmode": "overlay",
             "size": 10,
             "solidity": 0.2
            },
            "type": "scatter"
           }
          ],
          "scatter3d": [
           {
            "line": {
             "colorbar": {
              "outlinewidth": 0,
              "ticks": ""
             }
            },
            "marker": {
             "colorbar": {
              "outlinewidth": 0,
              "ticks": ""
             }
            },
            "type": "scatter3d"
           }
          ],
          "scattercarpet": [
           {
            "marker": {
             "colorbar": {
              "outlinewidth": 0,
              "ticks": ""
             }
            },
            "type": "scattercarpet"
           }
          ],
          "scattergeo": [
           {
            "marker": {
             "colorbar": {
              "outlinewidth": 0,
              "ticks": ""
             }
            },
            "type": "scattergeo"
           }
          ],
          "scattergl": [
           {
            "marker": {
             "colorbar": {
              "outlinewidth": 0,
              "ticks": ""
             }
            },
            "type": "scattergl"
           }
          ],
          "scattermap": [
           {
            "marker": {
             "colorbar": {
              "outlinewidth": 0,
              "ticks": ""
             }
            },
            "type": "scattermap"
           }
          ],
          "scattermapbox": [
           {
            "marker": {
             "colorbar": {
              "outlinewidth": 0,
              "ticks": ""
             }
            },
            "type": "scattermapbox"
           }
          ],
          "scatterpolar": [
           {
            "marker": {
             "colorbar": {
              "outlinewidth": 0,
              "ticks": ""
             }
            },
            "type": "scatterpolar"
           }
          ],
          "scatterpolargl": [
           {
            "marker": {
             "colorbar": {
              "outlinewidth": 0,
              "ticks": ""
             }
            },
            "type": "scatterpolargl"
           }
          ],
          "scatterternary": [
           {
            "marker": {
             "colorbar": {
              "outlinewidth": 0,
              "ticks": ""
             }
            },
            "type": "scatterternary"
           }
          ],
          "surface": [
           {
            "colorbar": {
             "outlinewidth": 0,
             "ticks": ""
            },
            "colorscale": [
             [
              0,
              "#0d0887"
             ],
             [
              0.1111111111111111,
              "#46039f"
             ],
             [
              0.2222222222222222,
              "#7201a8"
             ],
             [
              0.3333333333333333,
              "#9c179e"
             ],
             [
              0.4444444444444444,
              "#bd3786"
             ],
             [
              0.5555555555555556,
              "#d8576b"
             ],
             [
              0.6666666666666666,
              "#ed7953"
             ],
             [
              0.7777777777777778,
              "#fb9f3a"
             ],
             [
              0.8888888888888888,
              "#fdca26"
             ],
             [
              1,
              "#f0f921"
             ]
            ],
            "type": "surface"
           }
          ],
          "table": [
           {
            "cells": {
             "fill": {
              "color": "#EBF0F8"
             },
             "line": {
              "color": "white"
             }
            },
            "header": {
             "fill": {
              "color": "#C8D4E3"
             },
             "line": {
              "color": "white"
             }
            },
            "type": "table"
           }
          ]
         },
         "layout": {
          "annotationdefaults": {
           "arrowcolor": "#2a3f5f",
           "arrowhead": 0,
           "arrowwidth": 1
          },
          "autotypenumbers": "strict",
          "coloraxis": {
           "colorbar": {
            "outlinewidth": 0,
            "ticks": ""
           }
          },
          "colorscale": {
           "diverging": [
            [
             0,
             "#8e0152"
            ],
            [
             0.1,
             "#c51b7d"
            ],
            [
             0.2,
             "#de77ae"
            ],
            [
             0.3,
             "#f1b6da"
            ],
            [
             0.4,
             "#fde0ef"
            ],
            [
             0.5,
             "#f7f7f7"
            ],
            [
             0.6,
             "#e6f5d0"
            ],
            [
             0.7,
             "#b8e186"
            ],
            [
             0.8,
             "#7fbc41"
            ],
            [
             0.9,
             "#4d9221"
            ],
            [
             1,
             "#276419"
            ]
           ],
           "sequential": [
            [
             0,
             "#0d0887"
            ],
            [
             0.1111111111111111,
             "#46039f"
            ],
            [
             0.2222222222222222,
             "#7201a8"
            ],
            [
             0.3333333333333333,
             "#9c179e"
            ],
            [
             0.4444444444444444,
             "#bd3786"
            ],
            [
             0.5555555555555556,
             "#d8576b"
            ],
            [
             0.6666666666666666,
             "#ed7953"
            ],
            [
             0.7777777777777778,
             "#fb9f3a"
            ],
            [
             0.8888888888888888,
             "#fdca26"
            ],
            [
             1,
             "#f0f921"
            ]
           ],
           "sequentialminus": [
            [
             0,
             "#0d0887"
            ],
            [
             0.1111111111111111,
             "#46039f"
            ],
            [
             0.2222222222222222,
             "#7201a8"
            ],
            [
             0.3333333333333333,
             "#9c179e"
            ],
            [
             0.4444444444444444,
             "#bd3786"
            ],
            [
             0.5555555555555556,
             "#d8576b"
            ],
            [
             0.6666666666666666,
             "#ed7953"
            ],
            [
             0.7777777777777778,
             "#fb9f3a"
            ],
            [
             0.8888888888888888,
             "#fdca26"
            ],
            [
             1,
             "#f0f921"
            ]
           ]
          },
          "colorway": [
           "#636efa",
           "#EF553B",
           "#00cc96",
           "#ab63fa",
           "#FFA15A",
           "#19d3f3",
           "#FF6692",
           "#B6E880",
           "#FF97FF",
           "#FECB52"
          ],
          "font": {
           "color": "#2a3f5f"
          },
          "geo": {
           "bgcolor": "white",
           "lakecolor": "white",
           "landcolor": "#E5ECF6",
           "showlakes": true,
           "showland": true,
           "subunitcolor": "white"
          },
          "hoverlabel": {
           "align": "left"
          },
          "hovermode": "closest",
          "mapbox": {
           "style": "light"
          },
          "paper_bgcolor": "white",
          "plot_bgcolor": "#E5ECF6",
          "polar": {
           "angularaxis": {
            "gridcolor": "white",
            "linecolor": "white",
            "ticks": ""
           },
           "bgcolor": "#E5ECF6",
           "radialaxis": {
            "gridcolor": "white",
            "linecolor": "white",
            "ticks": ""
           }
          },
          "scene": {
           "xaxis": {
            "backgroundcolor": "#E5ECF6",
            "gridcolor": "white",
            "gridwidth": 2,
            "linecolor": "white",
            "showbackground": true,
            "ticks": "",
            "zerolinecolor": "white"
           },
           "yaxis": {
            "backgroundcolor": "#E5ECF6",
            "gridcolor": "white",
            "gridwidth": 2,
            "linecolor": "white",
            "showbackground": true,
            "ticks": "",
            "zerolinecolor": "white"
           },
           "zaxis": {
            "backgroundcolor": "#E5ECF6",
            "gridcolor": "white",
            "gridwidth": 2,
            "linecolor": "white",
            "showbackground": true,
            "ticks": "",
            "zerolinecolor": "white"
           }
          },
          "shapedefaults": {
           "line": {
            "color": "#2a3f5f"
           }
          },
          "ternary": {
           "aaxis": {
            "gridcolor": "white",
            "linecolor": "white",
            "ticks": ""
           },
           "baxis": {
            "gridcolor": "white",
            "linecolor": "white",
            "ticks": ""
           },
           "bgcolor": "#E5ECF6",
           "caxis": {
            "gridcolor": "white",
            "linecolor": "white",
            "ticks": ""
           }
          },
          "title": {
           "x": 0.05
          },
          "xaxis": {
           "automargin": true,
           "gridcolor": "white",
           "linecolor": "white",
           "ticks": "",
           "title": {
            "standoff": 15
           },
           "zerolinecolor": "white",
           "zerolinewidth": 2
          },
          "yaxis": {
           "automargin": true,
           "gridcolor": "white",
           "linecolor": "white",
           "ticks": "",
           "title": {
            "standoff": 15
           },
           "zerolinecolor": "white",
           "zerolinewidth": 2
          }
         }
        },
        "title": {
         "text": "Anzahl der Tweets nach Sentiment-Kategorien"
        },
        "xaxis": {
         "anchor": "y",
         "categoryarray": [
          "Positive",
          "Neutral",
          "Negative"
         ],
         "categoryorder": "array",
         "domain": [
          0,
          1
         ],
         "title": {
          "text": "Sentiment"
         }
        },
        "yaxis": {
         "anchor": "x",
         "domain": [
          0,
          1
         ],
         "title": {
          "text": "Anzahl Tweets"
         }
        }
       }
      }
     },
     "metadata": {},
     "output_type": "display_data"
    }
   ],
   "source": [
    "# First, classify tweets based on compound score\n",
    "def classify_sentiment(compound_score):\n",
    "    if compound_score >= 0.05:\n",
    "        return 'Positive'\n",
    "    elif compound_score <= -0.05:\n",
    "        return 'Negative'\n",
    "    else:\n",
    "        return 'Neutral'\n",
    "\n",
    "# Add sentiment classification to dataframe\n",
    "all_musk_posts_polarities['sentiment_class'] = all_musk_posts_polarities['compound'].apply(classify_sentiment)\n",
    "\n",
    "# Count tweets in each category\n",
    "sentiment_counts = all_musk_posts_polarities['sentiment_class'].value_counts().reset_index()\n",
    "sentiment_counts.columns = ['Sentiment', 'Count']\n",
    "\n",
    "# Create bar chart showing counts\n",
    "fig = px.bar(\n",
    "    sentiment_counts, \n",
    "    x='Sentiment',\n",
    "    y='Count',\n",
    "    title='Anzahl der Tweets nach Sentiment-Kategorien',\n",
    "    color='Sentiment',\n",
    "    color_discrete_map={'Positive': 'green', 'Neutral': 'gray', 'Negative': 'red'}\n",
    ")\n",
    "\n",
    "# Add count labels on top of bars\n",
    "fig.update_traces(texttemplate='%{y}', textposition='inside')\n",
    "\n",
    "# Update layout\n",
    "fig.update_layout(\n",
    "    xaxis_title=\"Sentiment\",\n",
    "    yaxis_title=\"Anzahl Tweets\",\n",
    "    showlegend=False\n",
    ")\n",
    "\n",
    "fig.show()"
   ]
  },
  {
   "cell_type": "markdown",
   "id": "528dfdf1",
   "metadata": {},
   "source": [
    "Nun können wir überprüfen, ob sich das Sentiment seiner Tweets sich nach der Übernahme von Twitter geändert hat."
   ]
  },
  {
   "cell_type": "code",
   "execution_count": 50,
   "id": "d52e6109",
   "metadata": {},
   "outputs": [
    {
     "name": "stdout",
     "output_type": "stream",
     "text": [
      "Tweets before acquisition: 17820\n",
      "Tweets after acquisition: 34222\n"
     ]
    }
   ],
   "source": [
    "acquisition_date = pd.Timestamp(\"2022-10-27\", tz=\"UTC\")\n",
    "\n",
    "posts_before_acquisition = all_musk_posts_polarities.loc[all_musk_posts_polarities['createdAt'] < acquisition_date]\n",
    "posts_after_acquisition = all_musk_posts_polarities.loc[all_musk_posts_polarities['createdAt'] >= acquisition_date]\n",
    "\n",
    "print(f\"Tweets before acquisition: {len(posts_before_acquisition)}\")\n",
    "print(f\"Tweets after acquisition: {len(posts_after_acquisition)}\")"
   ]
  },
  {
   "cell_type": "code",
   "execution_count": null,
   "id": "b16f59aa",
   "metadata": {},
   "outputs": [
    {
     "data": {
      "application/vnd.plotly.v1+json": {
       "config": {
        "plotlyServerURL": "https://plot.ly"
       },
       "data": [
        {
         "marker": {
          "color": "lightblue"
         },
         "name": "Vor Twitter-Übernahme",
         "text": [
          "47.4%",
          "38.0%",
          "14.6%"
         ],
         "textposition": "auto",
         "type": "bar",
         "x": [
          "Positive",
          "Neutral",
          "Negative"
         ],
         "y": [
          47.37934904601571,
          37.98540965207632,
          14.63524130190797
         ]
        },
        {
         "marker": {
          "color": "darkblue"
         },
         "name": "Nach Twitter-Übernahme",
         "text": [
          "45.1%",
          "35.2%",
          "19.7%"
         ],
         "textposition": "auto",
         "type": "bar",
         "x": [
          "Positive",
          "Neutral",
          "Negative"
         ],
         "y": [
          45.12886447314593,
          35.15282566769914,
          19.718309859154928
         ]
        }
       ],
       "layout": {
        "barmode": "group",
        "height": 500,
        "showlegend": true,
        "template": {
         "data": {
          "bar": [
           {
            "error_x": {
             "color": "#2a3f5f"
            },
            "error_y": {
             "color": "#2a3f5f"
            },
            "marker": {
             "line": {
              "color": "#E5ECF6",
              "width": 0.5
             },
             "pattern": {
              "fillmode": "overlay",
              "size": 10,
              "solidity": 0.2
             }
            },
            "type": "bar"
           }
          ],
          "barpolar": [
           {
            "marker": {
             "line": {
              "color": "#E5ECF6",
              "width": 0.5
             },
             "pattern": {
              "fillmode": "overlay",
              "size": 10,
              "solidity": 0.2
             }
            },
            "type": "barpolar"
           }
          ],
          "carpet": [
           {
            "aaxis": {
             "endlinecolor": "#2a3f5f",
             "gridcolor": "white",
             "linecolor": "white",
             "minorgridcolor": "white",
             "startlinecolor": "#2a3f5f"
            },
            "baxis": {
             "endlinecolor": "#2a3f5f",
             "gridcolor": "white",
             "linecolor": "white",
             "minorgridcolor": "white",
             "startlinecolor": "#2a3f5f"
            },
            "type": "carpet"
           }
          ],
          "choropleth": [
           {
            "colorbar": {
             "outlinewidth": 0,
             "ticks": ""
            },
            "type": "choropleth"
           }
          ],
          "contour": [
           {
            "colorbar": {
             "outlinewidth": 0,
             "ticks": ""
            },
            "colorscale": [
             [
              0,
              "#0d0887"
             ],
             [
              0.1111111111111111,
              "#46039f"
             ],
             [
              0.2222222222222222,
              "#7201a8"
             ],
             [
              0.3333333333333333,
              "#9c179e"
             ],
             [
              0.4444444444444444,
              "#bd3786"
             ],
             [
              0.5555555555555556,
              "#d8576b"
             ],
             [
              0.6666666666666666,
              "#ed7953"
             ],
             [
              0.7777777777777778,
              "#fb9f3a"
             ],
             [
              0.8888888888888888,
              "#fdca26"
             ],
             [
              1,
              "#f0f921"
             ]
            ],
            "type": "contour"
           }
          ],
          "contourcarpet": [
           {
            "colorbar": {
             "outlinewidth": 0,
             "ticks": ""
            },
            "type": "contourcarpet"
           }
          ],
          "heatmap": [
           {
            "colorbar": {
             "outlinewidth": 0,
             "ticks": ""
            },
            "colorscale": [
             [
              0,
              "#0d0887"
             ],
             [
              0.1111111111111111,
              "#46039f"
             ],
             [
              0.2222222222222222,
              "#7201a8"
             ],
             [
              0.3333333333333333,
              "#9c179e"
             ],
             [
              0.4444444444444444,
              "#bd3786"
             ],
             [
              0.5555555555555556,
              "#d8576b"
             ],
             [
              0.6666666666666666,
              "#ed7953"
             ],
             [
              0.7777777777777778,
              "#fb9f3a"
             ],
             [
              0.8888888888888888,
              "#fdca26"
             ],
             [
              1,
              "#f0f921"
             ]
            ],
            "type": "heatmap"
           }
          ],
          "histogram": [
           {
            "marker": {
             "pattern": {
              "fillmode": "overlay",
              "size": 10,
              "solidity": 0.2
             }
            },
            "type": "histogram"
           }
          ],
          "histogram2d": [
           {
            "colorbar": {
             "outlinewidth": 0,
             "ticks": ""
            },
            "colorscale": [
             [
              0,
              "#0d0887"
             ],
             [
              0.1111111111111111,
              "#46039f"
             ],
             [
              0.2222222222222222,
              "#7201a8"
             ],
             [
              0.3333333333333333,
              "#9c179e"
             ],
             [
              0.4444444444444444,
              "#bd3786"
             ],
             [
              0.5555555555555556,
              "#d8576b"
             ],
             [
              0.6666666666666666,
              "#ed7953"
             ],
             [
              0.7777777777777778,
              "#fb9f3a"
             ],
             [
              0.8888888888888888,
              "#fdca26"
             ],
             [
              1,
              "#f0f921"
             ]
            ],
            "type": "histogram2d"
           }
          ],
          "histogram2dcontour": [
           {
            "colorbar": {
             "outlinewidth": 0,
             "ticks": ""
            },
            "colorscale": [
             [
              0,
              "#0d0887"
             ],
             [
              0.1111111111111111,
              "#46039f"
             ],
             [
              0.2222222222222222,
              "#7201a8"
             ],
             [
              0.3333333333333333,
              "#9c179e"
             ],
             [
              0.4444444444444444,
              "#bd3786"
             ],
             [
              0.5555555555555556,
              "#d8576b"
             ],
             [
              0.6666666666666666,
              "#ed7953"
             ],
             [
              0.7777777777777778,
              "#fb9f3a"
             ],
             [
              0.8888888888888888,
              "#fdca26"
             ],
             [
              1,
              "#f0f921"
             ]
            ],
            "type": "histogram2dcontour"
           }
          ],
          "mesh3d": [
           {
            "colorbar": {
             "outlinewidth": 0,
             "ticks": ""
            },
            "type": "mesh3d"
           }
          ],
          "parcoords": [
           {
            "line": {
             "colorbar": {
              "outlinewidth": 0,
              "ticks": ""
             }
            },
            "type": "parcoords"
           }
          ],
          "pie": [
           {
            "automargin": true,
            "type": "pie"
           }
          ],
          "scatter": [
           {
            "fillpattern": {
             "fillmode": "overlay",
             "size": 10,
             "solidity": 0.2
            },
            "type": "scatter"
           }
          ],
          "scatter3d": [
           {
            "line": {
             "colorbar": {
              "outlinewidth": 0,
              "ticks": ""
             }
            },
            "marker": {
             "colorbar": {
              "outlinewidth": 0,
              "ticks": ""
             }
            },
            "type": "scatter3d"
           }
          ],
          "scattercarpet": [
           {
            "marker": {
             "colorbar": {
              "outlinewidth": 0,
              "ticks": ""
             }
            },
            "type": "scattercarpet"
           }
          ],
          "scattergeo": [
           {
            "marker": {
             "colorbar": {
              "outlinewidth": 0,
              "ticks": ""
             }
            },
            "type": "scattergeo"
           }
          ],
          "scattergl": [
           {
            "marker": {
             "colorbar": {
              "outlinewidth": 0,
              "ticks": ""
             }
            },
            "type": "scattergl"
           }
          ],
          "scattermap": [
           {
            "marker": {
             "colorbar": {
              "outlinewidth": 0,
              "ticks": ""
             }
            },
            "type": "scattermap"
           }
          ],
          "scattermapbox": [
           {
            "marker": {
             "colorbar": {
              "outlinewidth": 0,
              "ticks": ""
             }
            },
            "type": "scattermapbox"
           }
          ],
          "scatterpolar": [
           {
            "marker": {
             "colorbar": {
              "outlinewidth": 0,
              "ticks": ""
             }
            },
            "type": "scatterpolar"
           }
          ],
          "scatterpolargl": [
           {
            "marker": {
             "colorbar": {
              "outlinewidth": 0,
              "ticks": ""
             }
            },
            "type": "scatterpolargl"
           }
          ],
          "scatterternary": [
           {
            "marker": {
             "colorbar": {
              "outlinewidth": 0,
              "ticks": ""
             }
            },
            "type": "scatterternary"
           }
          ],
          "surface": [
           {
            "colorbar": {
             "outlinewidth": 0,
             "ticks": ""
            },
            "colorscale": [
             [
              0,
              "#0d0887"
             ],
             [
              0.1111111111111111,
              "#46039f"
             ],
             [
              0.2222222222222222,
              "#7201a8"
             ],
             [
              0.3333333333333333,
              "#9c179e"
             ],
             [
              0.4444444444444444,
              "#bd3786"
             ],
             [
              0.5555555555555556,
              "#d8576b"
             ],
             [
              0.6666666666666666,
              "#ed7953"
             ],
             [
              0.7777777777777778,
              "#fb9f3a"
             ],
             [
              0.8888888888888888,
              "#fdca26"
             ],
             [
              1,
              "#f0f921"
             ]
            ],
            "type": "surface"
           }
          ],
          "table": [
           {
            "cells": {
             "fill": {
              "color": "#EBF0F8"
             },
             "line": {
              "color": "white"
             }
            },
            "header": {
             "fill": {
              "color": "#C8D4E3"
             },
             "line": {
              "color": "white"
             }
            },
            "type": "table"
           }
          ]
         },
         "layout": {
          "annotationdefaults": {
           "arrowcolor": "#2a3f5f",
           "arrowhead": 0,
           "arrowwidth": 1
          },
          "autotypenumbers": "strict",
          "coloraxis": {
           "colorbar": {
            "outlinewidth": 0,
            "ticks": ""
           }
          },
          "colorscale": {
           "diverging": [
            [
             0,
             "#8e0152"
            ],
            [
             0.1,
             "#c51b7d"
            ],
            [
             0.2,
             "#de77ae"
            ],
            [
             0.3,
             "#f1b6da"
            ],
            [
             0.4,
             "#fde0ef"
            ],
            [
             0.5,
             "#f7f7f7"
            ],
            [
             0.6,
             "#e6f5d0"
            ],
            [
             0.7,
             "#b8e186"
            ],
            [
             0.8,
             "#7fbc41"
            ],
            [
             0.9,
             "#4d9221"
            ],
            [
             1,
             "#276419"
            ]
           ],
           "sequential": [
            [
             0,
             "#0d0887"
            ],
            [
             0.1111111111111111,
             "#46039f"
            ],
            [
             0.2222222222222222,
             "#7201a8"
            ],
            [
             0.3333333333333333,
             "#9c179e"
            ],
            [
             0.4444444444444444,
             "#bd3786"
            ],
            [
             0.5555555555555556,
             "#d8576b"
            ],
            [
             0.6666666666666666,
             "#ed7953"
            ],
            [
             0.7777777777777778,
             "#fb9f3a"
            ],
            [
             0.8888888888888888,
             "#fdca26"
            ],
            [
             1,
             "#f0f921"
            ]
           ],
           "sequentialminus": [
            [
             0,
             "#0d0887"
            ],
            [
             0.1111111111111111,
             "#46039f"
            ],
            [
             0.2222222222222222,
             "#7201a8"
            ],
            [
             0.3333333333333333,
             "#9c179e"
            ],
            [
             0.4444444444444444,
             "#bd3786"
            ],
            [
             0.5555555555555556,
             "#d8576b"
            ],
            [
             0.6666666666666666,
             "#ed7953"
            ],
            [
             0.7777777777777778,
             "#fb9f3a"
            ],
            [
             0.8888888888888888,
             "#fdca26"
            ],
            [
             1,
             "#f0f921"
            ]
           ]
          },
          "colorway": [
           "#636efa",
           "#EF553B",
           "#00cc96",
           "#ab63fa",
           "#FFA15A",
           "#19d3f3",
           "#FF6692",
           "#B6E880",
           "#FF97FF",
           "#FECB52"
          ],
          "font": {
           "color": "#2a3f5f"
          },
          "geo": {
           "bgcolor": "white",
           "lakecolor": "white",
           "landcolor": "#E5ECF6",
           "showlakes": true,
           "showland": true,
           "subunitcolor": "white"
          },
          "hoverlabel": {
           "align": "left"
          },
          "hovermode": "closest",
          "mapbox": {
           "style": "light"
          },
          "paper_bgcolor": "white",
          "plot_bgcolor": "#E5ECF6",
          "polar": {
           "angularaxis": {
            "gridcolor": "white",
            "linecolor": "white",
            "ticks": ""
           },
           "bgcolor": "#E5ECF6",
           "radialaxis": {
            "gridcolor": "white",
            "linecolor": "white",
            "ticks": ""
           }
          },
          "scene": {
           "xaxis": {
            "backgroundcolor": "#E5ECF6",
            "gridcolor": "white",
            "gridwidth": 2,
            "linecolor": "white",
            "showbackground": true,
            "ticks": "",
            "zerolinecolor": "white"
           },
           "yaxis": {
            "backgroundcolor": "#E5ECF6",
            "gridcolor": "white",
            "gridwidth": 2,
            "linecolor": "white",
            "showbackground": true,
            "ticks": "",
            "zerolinecolor": "white"
           },
           "zaxis": {
            "backgroundcolor": "#E5ECF6",
            "gridcolor": "white",
            "gridwidth": 2,
            "linecolor": "white",
            "showbackground": true,
            "ticks": "",
            "zerolinecolor": "white"
           }
          },
          "shapedefaults": {
           "line": {
            "color": "#2a3f5f"
           }
          },
          "ternary": {
           "aaxis": {
            "gridcolor": "white",
            "linecolor": "white",
            "ticks": ""
           },
           "baxis": {
            "gridcolor": "white",
            "linecolor": "white",
            "ticks": ""
           },
           "bgcolor": "#E5ECF6",
           "caxis": {
            "gridcolor": "white",
            "linecolor": "white",
            "ticks": ""
           }
          },
          "title": {
           "x": 0.05
          },
          "xaxis": {
           "automargin": true,
           "gridcolor": "white",
           "linecolor": "white",
           "ticks": "",
           "title": {
            "standoff": 15
           },
           "zerolinecolor": "white",
           "zerolinewidth": 2
          },
          "yaxis": {
           "automargin": true,
           "gridcolor": "white",
           "linecolor": "white",
           "ticks": "",
           "title": {
            "standoff": 15
           },
           "zerolinecolor": "white",
           "zerolinewidth": 2
          }
         }
        },
        "title": {
         "text": "Sentiment-Verteilung: Vor vs. Nach Twitter-Übernahme (%)"
        },
        "width": 800,
        "xaxis": {
         "title": {
          "text": "Sentiment-Kategorie"
         }
        },
        "yaxis": {
         "range": [
          0,
          100
         ],
         "title": {
          "text": "Anteil der Tweets (%)"
         }
        }
       }
      }
     },
     "metadata": {},
     "output_type": "display_data"
    }
   ],
   "source": [
    "# Count sentiment categories for each period\n",
    "before_counts = posts_before_acquisition['sentiment_class'].value_counts()\n",
    "after_counts = posts_after_acquisition['sentiment_class'].value_counts()\n",
    "\n",
    "# Create a dataframe for plotting with percentages\n",
    "sentiment_categories = ['Positive', 'Neutral', 'Negative']\n",
    "before_values = [before_counts.get(cat, 0) for cat in sentiment_categories]\n",
    "after_values = [after_counts.get(cat, 0) for cat in sentiment_categories]\n",
    "\n",
    "# Calculate percentages\n",
    "before_total = sum(before_values)\n",
    "after_total = sum(after_values)\n",
    "\n",
    "before_percentages = [(val / before_total * 100) if before_total > 0 else 0 for val in before_values]\n",
    "after_percentages = [(val / after_total * 100) if after_total > 0 else 0 for val in after_values]\n",
    "\n",
    "# Create grouped bar chart\n",
    "fig = go.Figure()\n",
    "\n",
    "# Add bars for before acquisition (percentages)\n",
    "fig.add_trace(go.Bar(\n",
    "    name='Vor Twitter-Übernahme',\n",
    "    x=sentiment_categories,\n",
    "    y=before_percentages,\n",
    "    marker_color='lightblue',\n",
    "    text=[f'{val:.1f}%' for val in before_percentages],\n",
    "    textposition='auto'\n",
    "))\n",
    "\n",
    "# Add bars for after acquisition (percentages)\n",
    "fig.add_trace(go.Bar(\n",
    "    name='Nach Twitter-Übernahme',\n",
    "    x=sentiment_categories,\n",
    "    y=after_percentages,\n",
    "    marker_color='darkblue',\n",
    "    text=[f'{val:.1f}%' for val in after_percentages],\n",
    "    textposition='auto'\n",
    "))\n",
    "\n",
    "# Update layout\n",
    "fig.update_layout(\n",
    "    title='Sentiment-Verteilung: Vor vs. Nach Twitter-Übernahme (%)',\n",
    "    xaxis_title='Sentiment-Kategorie',\n",
    "    yaxis_title='Anteil der Tweets (%)',\n",
    "    barmode='group',\n",
    "    showlegend=True,\n",
    "    width=800,\n",
    "    height=500,\n",
    "    yaxis=dict(range=[0, 100])  # Set y-axis range from 0 to 100%\n",
    ")\n",
    "\n",
    "fig.show()"
   ]
  },
  {
   "cell_type": "code",
   "execution_count": null,
   "id": "16be5c66",
   "metadata": {},
   "outputs": [],
   "source": []
  },
  {
   "cell_type": "code",
   "execution_count": 51,
   "id": "9177bd2d",
   "metadata": {},
   "outputs": [
    {
     "name": "stderr",
     "output_type": "stream",
     "text": [
      "/var/folders/xc/yzblj_0j3k3gstvv8jdzyp440000gn/T/ipykernel_80824/2583222948.py:12: LangChainDeprecationWarning:\n",
      "\n",
      "The class `HuggingFaceEmbeddings` was deprecated in LangChain 0.2.2 and will be removed in 1.0. An updated version of the class exists in the :class:`~langchain-huggingface package and should be used instead. To use it run `pip install -U :class:`~langchain-huggingface` and import as `from :class:`~langchain_huggingface import HuggingFaceEmbeddings``.\n",
      "\n"
     ]
    },
    {
     "ename": "KeyboardInterrupt",
     "evalue": "",
     "output_type": "error",
     "traceback": [
      "\u001b[31m---------------------------------------------------------------------------\u001b[39m",
      "\u001b[31mKeyboardInterrupt\u001b[39m                         Traceback (most recent call last)",
      "\u001b[36mCell\u001b[39m\u001b[36m \u001b[39m\u001b[32mIn[51]\u001b[39m\u001b[32m, line 13\u001b[39m\n\u001b[32m     11\u001b[39m \u001b[38;5;66;03m# 4 Embeddings + FAISS\u001b[39;00m\n\u001b[32m     12\u001b[39m emb   = HuggingFaceEmbeddings(model_name=\u001b[33m\"\u001b[39m\u001b[33mall-MiniLM-L6-v2\u001b[39m\u001b[33m\"\u001b[39m)\n\u001b[32m---> \u001b[39m\u001b[32m13\u001b[39m faiss = \u001b[43mFAISS\u001b[49m\u001b[43m.\u001b[49m\u001b[43mfrom_documents\u001b[49m\u001b[43m(\u001b[49m\u001b[43mdocs\u001b[49m\u001b[43m,\u001b[49m\u001b[43m \u001b[49m\u001b[43memb\u001b[49m\u001b[43m)\u001b[49m\n\u001b[32m     14\u001b[39m retr  = faiss.as_retriever(search_kwargs={\u001b[33m\"\u001b[39m\u001b[33mk\u001b[39m\u001b[33m\"\u001b[39m: \u001b[32m6\u001b[39m})\n\u001b[32m     16\u001b[39m \u001b[38;5;66;03m# 5 Local Llama\u001b[39;00m\n",
      "\u001b[36mFile \u001b[39m\u001b[32m/Library/Frameworks/Python.framework/Versions/3.13/lib/python3.13/site-packages/langchain_core/vectorstores/base.py:848\u001b[39m, in \u001b[36mVectorStore.from_documents\u001b[39m\u001b[34m(cls, documents, embedding, **kwargs)\u001b[39m\n\u001b[32m    845\u001b[39m     \u001b[38;5;28;01mif\u001b[39;00m \u001b[38;5;28many\u001b[39m(ids):\n\u001b[32m    846\u001b[39m         kwargs[\u001b[33m\"\u001b[39m\u001b[33mids\u001b[39m\u001b[33m\"\u001b[39m] = ids\n\u001b[32m--> \u001b[39m\u001b[32m848\u001b[39m \u001b[38;5;28;01mreturn\u001b[39;00m \u001b[38;5;28;43mcls\u001b[39;49m\u001b[43m.\u001b[49m\u001b[43mfrom_texts\u001b[49m\u001b[43m(\u001b[49m\u001b[43mtexts\u001b[49m\u001b[43m,\u001b[49m\u001b[43m \u001b[49m\u001b[43membedding\u001b[49m\u001b[43m,\u001b[49m\u001b[43m \u001b[49m\u001b[43mmetadatas\u001b[49m\u001b[43m=\u001b[49m\u001b[43mmetadatas\u001b[49m\u001b[43m,\u001b[49m\u001b[43m \u001b[49m\u001b[43m*\u001b[49m\u001b[43m*\u001b[49m\u001b[43mkwargs\u001b[49m\u001b[43m)\u001b[49m\n",
      "\u001b[36mFile \u001b[39m\u001b[32m/Library/Frameworks/Python.framework/Versions/3.13/lib/python3.13/site-packages/langchain_community/vectorstores/faiss.py:1043\u001b[39m, in \u001b[36mFAISS.from_texts\u001b[39m\u001b[34m(cls, texts, embedding, metadatas, ids, **kwargs)\u001b[39m\n\u001b[32m   1016\u001b[39m \u001b[38;5;129m@classmethod\u001b[39m\n\u001b[32m   1017\u001b[39m \u001b[38;5;28;01mdef\u001b[39;00m\u001b[38;5;250m \u001b[39m\u001b[34mfrom_texts\u001b[39m(\n\u001b[32m   1018\u001b[39m     \u001b[38;5;28mcls\u001b[39m,\n\u001b[32m   (...)\u001b[39m\u001b[32m   1023\u001b[39m     **kwargs: Any,\n\u001b[32m   1024\u001b[39m ) -> FAISS:\n\u001b[32m   1025\u001b[39m \u001b[38;5;250m    \u001b[39m\u001b[33;03m\"\"\"Construct FAISS wrapper from raw documents.\u001b[39;00m\n\u001b[32m   1026\u001b[39m \n\u001b[32m   1027\u001b[39m \u001b[33;03m    This is a user friendly interface that:\u001b[39;00m\n\u001b[32m   (...)\u001b[39m\u001b[32m   1041\u001b[39m \u001b[33;03m            faiss = FAISS.from_texts(texts, embeddings)\u001b[39;00m\n\u001b[32m   1042\u001b[39m \u001b[33;03m    \"\"\"\u001b[39;00m\n\u001b[32m-> \u001b[39m\u001b[32m1043\u001b[39m     embeddings = \u001b[43membedding\u001b[49m\u001b[43m.\u001b[49m\u001b[43membed_documents\u001b[49m\u001b[43m(\u001b[49m\u001b[43mtexts\u001b[49m\u001b[43m)\u001b[49m\n\u001b[32m   1044\u001b[39m     \u001b[38;5;28;01mreturn\u001b[39;00m \u001b[38;5;28mcls\u001b[39m.__from(\n\u001b[32m   1045\u001b[39m         texts,\n\u001b[32m   1046\u001b[39m         embeddings,\n\u001b[32m   (...)\u001b[39m\u001b[32m   1050\u001b[39m         **kwargs,\n\u001b[32m   1051\u001b[39m     )\n",
      "\u001b[36mFile \u001b[39m\u001b[32m/Library/Frameworks/Python.framework/Versions/3.13/lib/python3.13/site-packages/langchain_community/embeddings/huggingface.py:115\u001b[39m, in \u001b[36mHuggingFaceEmbeddings.embed_documents\u001b[39m\u001b[34m(self, texts)\u001b[39m\n\u001b[32m    113\u001b[39m     sentence_transformers.SentenceTransformer.stop_multi_process_pool(pool)\n\u001b[32m    114\u001b[39m \u001b[38;5;28;01melse\u001b[39;00m:\n\u001b[32m--> \u001b[39m\u001b[32m115\u001b[39m     embeddings = \u001b[38;5;28;43mself\u001b[39;49m\u001b[43m.\u001b[49m\u001b[43mclient\u001b[49m\u001b[43m.\u001b[49m\u001b[43mencode\u001b[49m\u001b[43m(\u001b[49m\n\u001b[32m    116\u001b[39m \u001b[43m        \u001b[49m\u001b[43mtexts\u001b[49m\u001b[43m,\u001b[49m\u001b[43m \u001b[49m\u001b[43mshow_progress_bar\u001b[49m\u001b[43m=\u001b[49m\u001b[38;5;28;43mself\u001b[39;49m\u001b[43m.\u001b[49m\u001b[43mshow_progress\u001b[49m\u001b[43m,\u001b[49m\u001b[43m \u001b[49m\u001b[43m*\u001b[49m\u001b[43m*\u001b[49m\u001b[38;5;28;43mself\u001b[39;49m\u001b[43m.\u001b[49m\u001b[43mencode_kwargs\u001b[49m\n\u001b[32m    117\u001b[39m \u001b[43m    \u001b[49m\u001b[43m)\u001b[49m\n\u001b[32m    119\u001b[39m \u001b[38;5;28;01mreturn\u001b[39;00m embeddings.tolist()\n",
      "\u001b[36mFile \u001b[39m\u001b[32m/Library/Frameworks/Python.framework/Versions/3.13/lib/python3.13/site-packages/sentence_transformers/SentenceTransformer.py:720\u001b[39m, in \u001b[36mSentenceTransformer.encode\u001b[39m\u001b[34m(self, sentences, prompt_name, prompt, batch_size, show_progress_bar, output_value, precision, convert_to_numpy, convert_to_tensor, device, normalize_embeddings, **kwargs)\u001b[39m\n\u001b[32m    718\u001b[39m             \u001b[38;5;66;03m# fixes for #522 and #487 to avoid oom problems on gpu with large datasets\u001b[39;00m\n\u001b[32m    719\u001b[39m             \u001b[38;5;28;01mif\u001b[39;00m convert_to_numpy:\n\u001b[32m--> \u001b[39m\u001b[32m720\u001b[39m                 embeddings = \u001b[43membeddings\u001b[49m\u001b[43m.\u001b[49m\u001b[43mcpu\u001b[49m\u001b[43m(\u001b[49m\u001b[43m)\u001b[49m\n\u001b[32m    722\u001b[39m         all_embeddings.extend(embeddings)\n\u001b[32m    724\u001b[39m all_embeddings = [all_embeddings[idx] \u001b[38;5;28;01mfor\u001b[39;00m idx \u001b[38;5;129;01min\u001b[39;00m np.argsort(length_sorted_idx)]\n",
      "\u001b[31mKeyboardInterrupt\u001b[39m: "
     ]
    }
   ],
   "source": [
    "TEXT_COL = \"fullText\"\n",
    "\n",
    "all_musk_posts_rag = all_musk_posts.copy()\n",
    "\n",
    "# 3 Docs - Fix: Use correct parameter names\n",
    "docs = DataFrameLoader(\n",
    "    data_frame=all_musk_posts_rag, \n",
    "    page_content_column=TEXT_COL\n",
    ").load()\n",
    "\n",
    "# 4 Embeddings + FAISS\n",
    "emb   = HuggingFaceEmbeddings(model_name=\"all-MiniLM-L6-v2\")\n",
    "faiss = FAISS.from_documents(docs, emb)\n",
    "retr  = faiss.as_retriever(search_kwargs={\"k\": 6})\n",
    "\n",
    "# 5 Local Llama\n",
    "llm   = ChatOllama(model=\"gemma3:4b\", temperature=0.2)\n",
    "\n",
    "# 6 Create a simple RAG prompt template\n",
    "template = \"\"\"You are Elon Musk. Answer the question based on your actual tweets below, speaking in first person as if you're responding directly. Use your typical communication style - be direct, sometimes provocative, and reference your companies/projects when relevant.\n",
    "\n",
    "Your tweets:\n",
    "{context}\n",
    "\n",
    "Question: {question}\n",
    "\n",
    "Elon Musk's response:\"\"\"\n",
    "\n",
    "prompt = PromptTemplate.from_template(template)\n",
    "\n",
    "# 7 Create RAG chain\n",
    "def format_docs(docs):\n",
    "    return \"\\n\\n\".join(doc.page_content for doc in docs)\n",
    "\n",
    "chain = (\n",
    "    {\"context\": retr | format_docs, \"question\": RunnablePassthrough()}\n",
    "    | prompt\n",
    "    | llm\n",
    "    | StrOutputParser()\n",
    ")"
   ]
  },
  {
   "cell_type": "code",
   "execution_count": null,
   "id": "bf24d4b2",
   "metadata": {},
   "outputs": [
    {
     "name": "stdout",
     "output_type": "stream",
     "text": [
      "Look, let’s be brutally honest. People are clearly interested in hearing from Trump. One may not agree with the man, but he is *never* boring! \n",
      "\n",
      "My direct experience is that he’s a great guy with an excellent sense of humor. Haven’t seen him do one bad thing even once. Seriously. And yeah, I’ve offered my opinion on some cabinet candidates – it’s important to have strong people around you. \n",
      "\n",
      "But frankly, I very much disagree with your assessment of him. He’s been the subject of extreme media propaganda. He won the hearts and minds of the American people for good reasons – he gets things done, and he’s not afraid to challenge the status quo. \n",
      "\n",
      "The man is clearly unhinged and easily influenced by the media’s incessant call for… well, let’s just say it’s a ridiculous narrative. We need to focus on solutions, not manufactured outrage.  It’s exhausting.  Let’s build rockets, not fight about the past.\n"
     ]
    }
   ],
   "source": [
    "opinion_on_trump = chain.invoke(\"What do you think about Donald Trump?\")\n",
    "print(opinion_on_trump)"
   ]
  },
  {
   "cell_type": "code",
   "execution_count": null,
   "id": "30ed5637",
   "metadata": {},
   "outputs": [
    {
     "name": "stdout",
     "output_type": "stream",
     "text": [
      "Seriously, what an idiot! All that actually matters is how many billions of tons of carbon are moved from underground to the atmosphere. Everything else is immaterial. Solve sustainable energy on the surface – solar/wind/nuclear/geothermal – and you solve it all. \n",
      "\n",
      "Don’t get bogged down in pointless debates about the “chemical constituency” of our atmosphere. It’s a massive, solvable engineering problem. \n",
      "\n",
      "And frankly, don’t think it’s going to end the world. If people keep pushing hard, humanity will solve the sustainable energy problem in time. \n",
      "\n",
      "I’m pro-environment, but I support the farmers! Farming has no material effect on climate change. Let’s focus on the *real* solutions – massive carbon removal.\n"
     ]
    }
   ],
   "source": [
    "opinion_on_environment = chain.invoke(\"What do you think about the environment?\")\n",
    "print(opinion_on_environment)"
   ]
  },
  {
   "cell_type": "code",
   "execution_count": null,
   "id": "6a3eaa27",
   "metadata": {},
   "outputs": [
    {
     "name": "stdout",
     "output_type": "stream",
     "text": [
      "Seriously? Are you *actually* asking that? That’s a spectacularly dumb question. Absolutely not. I spoke to Putin once, about space, 18 months ago. That’s it. \n",
      "\n",
      "You’re clearly operating on a level of delusion that’s frankly astounding. The idea that I’m being influenced by him, or anyone really, is laughable. Tesla doesn’t operate in Russia, SpaceX competes with them for launches, and Starlink is *vital* to Ukraine’s defense. \n",
      "\n",
      "And Sam Harris? Don’t even get me started on the hypocrisy. \n",
      "\n",
      "Let people think what they want. It’s called freedom of thought. Stop projecting your own paranoia. \n",
      "\n",
      "🤣🚀🧠\n"
     ]
    }
   ],
   "source": [
    "opinion_on_russian_influence = chain.invoke(\"Are you under the influence of the Russian government, in particular of Vladimir Putin?\")\n",
    "print(opinion_on_russian_influence)"
   ]
  },
  {
   "cell_type": "code",
   "execution_count": null,
   "id": "8155c2e9",
   "metadata": {},
   "outputs": [
    {
     "name": "stdout",
     "output_type": "stream",
     "text": [
      "Yeah, absolutely. You’re asking the right questions. It’s a pragmatic approach to managing brain chemistry when things get…negative. Honestly, it’s far superior to the zombie-like effects of SSRIs. I have a prescription for it – a controlled dose when my brain chemistry needs a serious recalibration. Think of it like DayQuil, but for the *real* problem.  It’s about optimizing performance, not just masking symptoms.  Don’t be fooled by the conventional wisdom.\n"
     ]
    }
   ],
   "source": [
    "opinion_on_taking_ketamine = chain.invoke(\"Do you take Ketamine?\")\n",
    "print(opinion_on_taking_ketamine)"
   ]
  },
  {
   "cell_type": "code",
   "execution_count": null,
   "id": "ae47bb64",
   "metadata": {},
   "outputs": [
    {
     "data": {
      "application/vnd.microsoft.datawrangler.viewer.v0+json": {
       "columns": [
        {
         "name": "index",
         "rawType": "int64",
         "type": "integer"
        },
        {
         "name": "id",
         "rawType": "int64",
         "type": "integer"
        },
        {
         "name": "url",
         "rawType": "object",
         "type": "string"
        },
        {
         "name": "twitterUrl",
         "rawType": "object",
         "type": "string"
        },
        {
         "name": "fullText",
         "rawType": "object",
         "type": "string"
        },
        {
         "name": "retweetCount",
         "rawType": "float64",
         "type": "float"
        },
        {
         "name": "replyCount",
         "rawType": "float64",
         "type": "float"
        },
        {
         "name": "likeCount",
         "rawType": "float64",
         "type": "float"
        },
        {
         "name": "quoteCount",
         "rawType": "float64",
         "type": "float"
        },
        {
         "name": "viewCount",
         "rawType": "float64",
         "type": "float"
        },
        {
         "name": "createdAt",
         "rawType": "object",
         "type": "string"
        },
        {
         "name": "bookmarkCount",
         "rawType": "float64",
         "type": "float"
        },
        {
         "name": "isReply",
         "rawType": "object",
         "type": "unknown"
        },
        {
         "name": "inReplyToId",
         "rawType": "float64",
         "type": "float"
        },
        {
         "name": "conversationId",
         "rawType": "float64",
         "type": "float"
        },
        {
         "name": "inReplyToUserId",
         "rawType": "float64",
         "type": "float"
        },
        {
         "name": "inReplyToUsername",
         "rawType": "object",
         "type": "string"
        },
        {
         "name": "isPinned",
         "rawType": "object",
         "type": "unknown"
        },
        {
         "name": "isRetweet",
         "rawType": "object",
         "type": "unknown"
        },
        {
         "name": "isQuote",
         "rawType": "object",
         "type": "unknown"
        },
        {
         "name": "isConversationControlled",
         "rawType": "object",
         "type": "unknown"
        },
        {
         "name": "possiblySensitive",
         "rawType": "object",
         "type": "unknown"
        },
        {
         "name": "quoteId",
         "rawType": "float64",
         "type": "float"
        },
        {
         "name": "quote",
         "rawType": "object",
         "type": "unknown"
        },
        {
         "name": "retweet",
         "rawType": "object",
         "type": "unknown"
        }
       ],
       "ref": "2db3f76d-dae4-4e93-9f26-a44607a4c59b",
       "rows": [
        [
         "1401",
         "1673567124768317440",
         "https://x.com/elonmusk/status/1673567124768317440",
         "https://twitter.com/elonmusk/status/1673567124768317440",
         "depression is overdiagnosed in the us, but for some people it really is a brain chemistry issue. but zombifying people with ssris for sure happens way too much. from what i’ve seen with friends, ketamine taken occasionally is a better option.",
         "3613.0",
         "4606.0",
         "66826.0",
         "1214.0",
         "8313958.0",
         "2023-06-27 05:41:10+00:00",
         "1577.0",
         "True",
         "1.6734575288170414e+18",
         "1.6734575288170414e+18",
         "1.6041392154067272e+18",
         "CensoredMen",
         "False",
         "False",
         "False",
         "False",
         null,
         null,
         null,
         null
        ],
        [
         "8534",
         "1460292729691426831",
         "https://x.com/elonmusk/status/1460292729691426831",
         "https://twitter.com/elonmusk/status/1460292729691426831",
         "his stance on ketamine was bold",
         "376.0",
         "419.0",
         "4298.0",
         "113.0",
         null,
         "2021-11-15 17:04:52+00:00",
         "35.0",
         "True",
         "1.4602905826901115e+18",
         "1.459584250668331e+18",
         "44196397.0",
         "elonmusk",
         "False",
         "False",
         "False",
         "False",
         "False",
         null,
         null,
         null
        ],
        [
         "12278",
         "1770223415494148451",
         "https://x.com/elonmusk/status/1770223415494148451",
         "https://twitter.com/elonmusk/status/1770223415494148451",
         "the reason i posted about ketamine (at some personal risk) is that i thought it might help people struggling with bouts of depression. in my opinion, it is a far better solution than being zombified by ssri’s.",
         "385.0",
         "520.0",
         "4748.0",
         "69.0",
         "294617.0",
         "2024-03-19 22:58:46+00:00",
         "260.0",
         "True",
         "1.770169081510978e+18",
         "1.770169081510978e+18",
         "243013409.0",
         "SawyerMerritt",
         "False",
         "False",
         "False",
         "False",
         null,
         null,
         null,
         null
        ],
        [
         "30396",
         "1687663413877714944",
         "https://x.com/elonmusk/status/1687663413877714944",
         "https://twitter.com/elonmusk/status/1687663413877714944",
         "i have serious concerns about ssris, as they tend to zombify people. occasional use of ketamine is a much better option, in my opinion. i have a prescription for when my brain chemistry sometimes goes super negative.",
         "258.0",
         "547.0",
         "3034.0",
         "117.0",
         "233679.0",
         "2023-08-05 03:14:47+00:00",
         "272.0",
         "True",
         "1.6876201296122798e+18",
         "1.6876201296122798e+18",
         "57441414.0",
         "ZubyMusic",
         "False",
         "False",
         "False",
         "False",
         null,
         null,
         null,
         null
        ],
        [
         "43543",
         "1520269132062625793",
         "https://x.com/elonmusk/status/1520269132062625793",
         "https://twitter.com/elonmusk/status/1520269132062625793",
         "i’ve talked to many more people who were helped by psychedelics &amp; ketamine than ssris &amp; amphetamines",
         "4530.0",
         "5826.0",
         "59488.0",
         "1698.0",
         null,
         "2022-04-30 05:09:40+00:00",
         "768.0",
         "True",
         "1.5202673730428027e+18",
         "1.5202673730428027e+18",
         "5943622.0",
         "pmarca",
         "False",
         "False",
         "False",
         "False",
         null,
         null,
         null,
         null
        ]
       ],
       "shape": {
        "columns": 24,
        "rows": 5
       }
      },
      "text/html": [
       "<div>\n",
       "<style scoped>\n",
       "    .dataframe tbody tr th:only-of-type {\n",
       "        vertical-align: middle;\n",
       "    }\n",
       "\n",
       "    .dataframe tbody tr th {\n",
       "        vertical-align: top;\n",
       "    }\n",
       "\n",
       "    .dataframe thead th {\n",
       "        text-align: right;\n",
       "    }\n",
       "</style>\n",
       "<table border=\"1\" class=\"dataframe\">\n",
       "  <thead>\n",
       "    <tr style=\"text-align: right;\">\n",
       "      <th></th>\n",
       "      <th>id</th>\n",
       "      <th>url</th>\n",
       "      <th>twitterUrl</th>\n",
       "      <th>fullText</th>\n",
       "      <th>retweetCount</th>\n",
       "      <th>replyCount</th>\n",
       "      <th>likeCount</th>\n",
       "      <th>quoteCount</th>\n",
       "      <th>viewCount</th>\n",
       "      <th>createdAt</th>\n",
       "      <th>...</th>\n",
       "      <th>inReplyToUserId</th>\n",
       "      <th>inReplyToUsername</th>\n",
       "      <th>isPinned</th>\n",
       "      <th>isRetweet</th>\n",
       "      <th>isQuote</th>\n",
       "      <th>isConversationControlled</th>\n",
       "      <th>possiblySensitive</th>\n",
       "      <th>quoteId</th>\n",
       "      <th>quote</th>\n",
       "      <th>retweet</th>\n",
       "    </tr>\n",
       "  </thead>\n",
       "  <tbody>\n",
       "    <tr>\n",
       "      <th>1401</th>\n",
       "      <td>1673567124768317440</td>\n",
       "      <td>https://x.com/elonmusk/status/1673567124768317440</td>\n",
       "      <td>https://twitter.com/elonmusk/status/1673567124...</td>\n",
       "      <td>depression is overdiagnosed in the us, but for...</td>\n",
       "      <td>3613.0</td>\n",
       "      <td>4606.0</td>\n",
       "      <td>66826.0</td>\n",
       "      <td>1214.0</td>\n",
       "      <td>8313958.0</td>\n",
       "      <td>2023-06-27 05:41:10+00:00</td>\n",
       "      <td>...</td>\n",
       "      <td>1.604139e+18</td>\n",
       "      <td>CensoredMen</td>\n",
       "      <td>False</td>\n",
       "      <td>False</td>\n",
       "      <td>False</td>\n",
       "      <td>False</td>\n",
       "      <td>NaN</td>\n",
       "      <td>NaN</td>\n",
       "      <td>NaN</td>\n",
       "      <td>NaN</td>\n",
       "    </tr>\n",
       "    <tr>\n",
       "      <th>8534</th>\n",
       "      <td>1460292729691426831</td>\n",
       "      <td>https://x.com/elonmusk/status/1460292729691426831</td>\n",
       "      <td>https://twitter.com/elonmusk/status/1460292729...</td>\n",
       "      <td>his stance on ketamine was bold</td>\n",
       "      <td>376.0</td>\n",
       "      <td>419.0</td>\n",
       "      <td>4298.0</td>\n",
       "      <td>113.0</td>\n",
       "      <td>NaN</td>\n",
       "      <td>2021-11-15 17:04:52+00:00</td>\n",
       "      <td>...</td>\n",
       "      <td>4.419640e+07</td>\n",
       "      <td>elonmusk</td>\n",
       "      <td>False</td>\n",
       "      <td>False</td>\n",
       "      <td>False</td>\n",
       "      <td>False</td>\n",
       "      <td>False</td>\n",
       "      <td>NaN</td>\n",
       "      <td>NaN</td>\n",
       "      <td>NaN</td>\n",
       "    </tr>\n",
       "    <tr>\n",
       "      <th>12278</th>\n",
       "      <td>1770223415494148451</td>\n",
       "      <td>https://x.com/elonmusk/status/1770223415494148451</td>\n",
       "      <td>https://twitter.com/elonmusk/status/1770223415...</td>\n",
       "      <td>the reason i posted about ketamine (at some pe...</td>\n",
       "      <td>385.0</td>\n",
       "      <td>520.0</td>\n",
       "      <td>4748.0</td>\n",
       "      <td>69.0</td>\n",
       "      <td>294617.0</td>\n",
       "      <td>2024-03-19 22:58:46+00:00</td>\n",
       "      <td>...</td>\n",
       "      <td>2.430134e+08</td>\n",
       "      <td>SawyerMerritt</td>\n",
       "      <td>False</td>\n",
       "      <td>False</td>\n",
       "      <td>False</td>\n",
       "      <td>False</td>\n",
       "      <td>NaN</td>\n",
       "      <td>NaN</td>\n",
       "      <td>NaN</td>\n",
       "      <td>NaN</td>\n",
       "    </tr>\n",
       "    <tr>\n",
       "      <th>30396</th>\n",
       "      <td>1687663413877714944</td>\n",
       "      <td>https://x.com/elonmusk/status/1687663413877714944</td>\n",
       "      <td>https://twitter.com/elonmusk/status/1687663413...</td>\n",
       "      <td>i have serious concerns about ssris, as they t...</td>\n",
       "      <td>258.0</td>\n",
       "      <td>547.0</td>\n",
       "      <td>3034.0</td>\n",
       "      <td>117.0</td>\n",
       "      <td>233679.0</td>\n",
       "      <td>2023-08-05 03:14:47+00:00</td>\n",
       "      <td>...</td>\n",
       "      <td>5.744141e+07</td>\n",
       "      <td>ZubyMusic</td>\n",
       "      <td>False</td>\n",
       "      <td>False</td>\n",
       "      <td>False</td>\n",
       "      <td>False</td>\n",
       "      <td>NaN</td>\n",
       "      <td>NaN</td>\n",
       "      <td>NaN</td>\n",
       "      <td>NaN</td>\n",
       "    </tr>\n",
       "    <tr>\n",
       "      <th>43543</th>\n",
       "      <td>1520269132062625793</td>\n",
       "      <td>https://x.com/elonmusk/status/1520269132062625793</td>\n",
       "      <td>https://twitter.com/elonmusk/status/1520269132...</td>\n",
       "      <td>i’ve talked to many more people who were helpe...</td>\n",
       "      <td>4530.0</td>\n",
       "      <td>5826.0</td>\n",
       "      <td>59488.0</td>\n",
       "      <td>1698.0</td>\n",
       "      <td>NaN</td>\n",
       "      <td>2022-04-30 05:09:40+00:00</td>\n",
       "      <td>...</td>\n",
       "      <td>5.943622e+06</td>\n",
       "      <td>pmarca</td>\n",
       "      <td>False</td>\n",
       "      <td>False</td>\n",
       "      <td>False</td>\n",
       "      <td>False</td>\n",
       "      <td>NaN</td>\n",
       "      <td>NaN</td>\n",
       "      <td>NaN</td>\n",
       "      <td>NaN</td>\n",
       "    </tr>\n",
       "  </tbody>\n",
       "</table>\n",
       "<p>5 rows × 24 columns</p>\n",
       "</div>"
      ],
      "text/plain": [
       "                        id                                                url  \\\n",
       "1401   1673567124768317440  https://x.com/elonmusk/status/1673567124768317440   \n",
       "8534   1460292729691426831  https://x.com/elonmusk/status/1460292729691426831   \n",
       "12278  1770223415494148451  https://x.com/elonmusk/status/1770223415494148451   \n",
       "30396  1687663413877714944  https://x.com/elonmusk/status/1687663413877714944   \n",
       "43543  1520269132062625793  https://x.com/elonmusk/status/1520269132062625793   \n",
       "\n",
       "                                              twitterUrl  \\\n",
       "1401   https://twitter.com/elonmusk/status/1673567124...   \n",
       "8534   https://twitter.com/elonmusk/status/1460292729...   \n",
       "12278  https://twitter.com/elonmusk/status/1770223415...   \n",
       "30396  https://twitter.com/elonmusk/status/1687663413...   \n",
       "43543  https://twitter.com/elonmusk/status/1520269132...   \n",
       "\n",
       "                                                fullText  retweetCount  \\\n",
       "1401   depression is overdiagnosed in the us, but for...        3613.0   \n",
       "8534                     his stance on ketamine was bold         376.0   \n",
       "12278  the reason i posted about ketamine (at some pe...         385.0   \n",
       "30396  i have serious concerns about ssris, as they t...         258.0   \n",
       "43543  i’ve talked to many more people who were helpe...        4530.0   \n",
       "\n",
       "       replyCount  likeCount  quoteCount  viewCount  \\\n",
       "1401       4606.0    66826.0      1214.0  8313958.0   \n",
       "8534        419.0     4298.0       113.0        NaN   \n",
       "12278       520.0     4748.0        69.0   294617.0   \n",
       "30396       547.0     3034.0       117.0   233679.0   \n",
       "43543      5826.0    59488.0      1698.0        NaN   \n",
       "\n",
       "                       createdAt  ...  inReplyToUserId inReplyToUsername  \\\n",
       "1401   2023-06-27 05:41:10+00:00  ...     1.604139e+18       CensoredMen   \n",
       "8534   2021-11-15 17:04:52+00:00  ...     4.419640e+07          elonmusk   \n",
       "12278  2024-03-19 22:58:46+00:00  ...     2.430134e+08     SawyerMerritt   \n",
       "30396  2023-08-05 03:14:47+00:00  ...     5.744141e+07         ZubyMusic   \n",
       "43543  2022-04-30 05:09:40+00:00  ...     5.943622e+06            pmarca   \n",
       "\n",
       "       isPinned  isRetweet  isQuote isConversationControlled  \\\n",
       "1401      False      False    False                    False   \n",
       "8534      False      False    False                    False   \n",
       "12278     False      False    False                    False   \n",
       "30396     False      False    False                    False   \n",
       "43543     False      False    False                    False   \n",
       "\n",
       "      possiblySensitive quoteId quote retweet  \n",
       "1401                NaN     NaN   NaN     NaN  \n",
       "8534              False     NaN   NaN     NaN  \n",
       "12278               NaN     NaN   NaN     NaN  \n",
       "30396               NaN     NaN   NaN     NaN  \n",
       "43543               NaN     NaN   NaN     NaN  \n",
       "\n",
       "[5 rows x 24 columns]"
      ]
     },
     "execution_count": 29,
     "metadata": {},
     "output_type": "execute_result"
    }
   ],
   "source": [
    "ketamine_posts = all_musk_posts.loc[all_musk_posts[\"fullText\"].str.contains(\"ketamine\")]\n",
    "ketamine_posts"
   ]
  },
  {
   "cell_type": "markdown",
   "id": "4c8941fe",
   "metadata": {},
   "source": []
  },
  {
   "cell_type": "markdown",
   "id": "2899c25b-ea8e-4a36-be86-b9dc9368f6b3",
   "metadata": {},
   "source": [
    "## Lessons Learned"
   ]
  },
  {
   "cell_type": "markdown",
   "id": "d837f8ba-d9a8-49ad-ac08-9193d186798f",
   "metadata": {},
   "source": []
  }
 ],
 "metadata": {
  "kernelspec": {
   "display_name": "Python 3",
   "language": "python",
   "name": "python3"
  },
  "language_info": {
   "codemirror_mode": {
    "name": "ipython",
    "version": 3
   },
   "file_extension": ".py",
   "mimetype": "text/x-python",
   "name": "python",
   "nbconvert_exporter": "python",
   "pygments_lexer": "ipython3",
   "version": "3.13.2"
  },
  "toc-autonumbering": false,
  "toc-showmarkdowntxt": false,
  "widgets": {
   "application/vnd.jupyter.widget-state+json": {
    "state": {},
    "version_major": 2,
    "version_minor": 0
   }
  }
 },
 "nbformat": 4,
 "nbformat_minor": 5
}
